{
  "nbformat": 4,
  "nbformat_minor": 0,
  "metadata": {
    "colab": {
      "provenance": []
    },
    "kernelspec": {
      "name": "python3",
      "display_name": "Python 3"
    },
    "language_info": {
      "name": "python"
    }
  },
  "cells": [
    {
      "cell_type": "markdown",
      "source": [
        "- Instagram Reach Analysis"
      ],
      "metadata": {
        "id": "qTag2M7YjzXV"
      }
    },
    {
      "cell_type": "code",
      "execution_count": 1,
      "metadata": {
        "id": "bqjrYjnui_K7"
      },
      "outputs": [],
      "source": [
        "import pandas as pd\n",
        "import plotly.express as px\n",
        "import plotly.graph_objects as go\n",
        "import plotly.io as pio\n",
        "pio.templates.default = \"plotly_white\""
      ]
    },
    {
      "cell_type": "code",
      "source": [
        "data = pd.read_csv(\"/content/Instagram data.csv\", encoding='latin-1')"
      ],
      "metadata": {
        "id": "Jo_1pQMbjSQW"
      },
      "execution_count": 5,
      "outputs": []
    },
    {
      "cell_type": "code",
      "source": [
        "data.head()"
      ],
      "metadata": {
        "colab": {
          "base_uri": "https://localhost:8080/",
          "height": 686
        },
        "id": "K3dGTdUijUqu",
        "outputId": "f5a4dec2-de4f-4ac2-f44c-07de6eaef6f0"
      },
      "execution_count": 6,
      "outputs": [
        {
          "output_type": "execute_result",
          "data": {
            "text/plain": [
              "   Impressions  From Home  From Hashtags  From Explore  From Other  Saves  \\\n",
              "0         3920       2586           1028           619          56     98   \n",
              "1         5394       2727           1838          1174          78    194   \n",
              "2         4021       2085           1188             0         533     41   \n",
              "3         4528       2700            621           932          73    172   \n",
              "4         2518       1704            255           279          37     96   \n",
              "\n",
              "   Comments  Shares  Likes  Profile Visits  Follows  \\\n",
              "0         9       5    162              35        2   \n",
              "1         7      14    224              48       10   \n",
              "2        11       1    131              62       12   \n",
              "3        10       7    213              23        8   \n",
              "4         5       4    123               8        0   \n",
              "\n",
              "                                             Caption  \\\n",
              "0  Here are some of the most important data visua...   \n",
              "1  Here are some of the best data science project...   \n",
              "2  Learn how to train a machine learning model an...   \n",
              "3  Heres how you can write a Python program to d...   \n",
              "4  Plotting annotations while visualizing your da...   \n",
              "\n",
              "                                            Hashtags  \n",
              "0  #finance #money #business #investing #investme...  \n",
              "1  #healthcare #health #covid #data #datascience ...  \n",
              "2  #data #datascience #dataanalysis #dataanalytic...  \n",
              "3  #python #pythonprogramming #pythonprojects #py...  \n",
              "4  #datavisualization #datascience #data #dataana...  "
            ],
            "text/html": [
              "\n",
              "\n",
              "  <div id=\"df-1274a39f-fbe1-475e-b4d1-2b3c8987e9a5\">\n",
              "    <div class=\"colab-df-container\">\n",
              "      <div>\n",
              "<style scoped>\n",
              "    .dataframe tbody tr th:only-of-type {\n",
              "        vertical-align: middle;\n",
              "    }\n",
              "\n",
              "    .dataframe tbody tr th {\n",
              "        vertical-align: top;\n",
              "    }\n",
              "\n",
              "    .dataframe thead th {\n",
              "        text-align: right;\n",
              "    }\n",
              "</style>\n",
              "<table border=\"1\" class=\"dataframe\">\n",
              "  <thead>\n",
              "    <tr style=\"text-align: right;\">\n",
              "      <th></th>\n",
              "      <th>Impressions</th>\n",
              "      <th>From Home</th>\n",
              "      <th>From Hashtags</th>\n",
              "      <th>From Explore</th>\n",
              "      <th>From Other</th>\n",
              "      <th>Saves</th>\n",
              "      <th>Comments</th>\n",
              "      <th>Shares</th>\n",
              "      <th>Likes</th>\n",
              "      <th>Profile Visits</th>\n",
              "      <th>Follows</th>\n",
              "      <th>Caption</th>\n",
              "      <th>Hashtags</th>\n",
              "    </tr>\n",
              "  </thead>\n",
              "  <tbody>\n",
              "    <tr>\n",
              "      <th>0</th>\n",
              "      <td>3920</td>\n",
              "      <td>2586</td>\n",
              "      <td>1028</td>\n",
              "      <td>619</td>\n",
              "      <td>56</td>\n",
              "      <td>98</td>\n",
              "      <td>9</td>\n",
              "      <td>5</td>\n",
              "      <td>162</td>\n",
              "      <td>35</td>\n",
              "      <td>2</td>\n",
              "      <td>Here are some of the most important data visua...</td>\n",
              "      <td>#finance #money #business #investing #investme...</td>\n",
              "    </tr>\n",
              "    <tr>\n",
              "      <th>1</th>\n",
              "      <td>5394</td>\n",
              "      <td>2727</td>\n",
              "      <td>1838</td>\n",
              "      <td>1174</td>\n",
              "      <td>78</td>\n",
              "      <td>194</td>\n",
              "      <td>7</td>\n",
              "      <td>14</td>\n",
              "      <td>224</td>\n",
              "      <td>48</td>\n",
              "      <td>10</td>\n",
              "      <td>Here are some of the best data science project...</td>\n",
              "      <td>#healthcare #health #covid #data #datascience ...</td>\n",
              "    </tr>\n",
              "    <tr>\n",
              "      <th>2</th>\n",
              "      <td>4021</td>\n",
              "      <td>2085</td>\n",
              "      <td>1188</td>\n",
              "      <td>0</td>\n",
              "      <td>533</td>\n",
              "      <td>41</td>\n",
              "      <td>11</td>\n",
              "      <td>1</td>\n",
              "      <td>131</td>\n",
              "      <td>62</td>\n",
              "      <td>12</td>\n",
              "      <td>Learn how to train a machine learning model an...</td>\n",
              "      <td>#data #datascience #dataanalysis #dataanalytic...</td>\n",
              "    </tr>\n",
              "    <tr>\n",
              "      <th>3</th>\n",
              "      <td>4528</td>\n",
              "      <td>2700</td>\n",
              "      <td>621</td>\n",
              "      <td>932</td>\n",
              "      <td>73</td>\n",
              "      <td>172</td>\n",
              "      <td>10</td>\n",
              "      <td>7</td>\n",
              "      <td>213</td>\n",
              "      <td>23</td>\n",
              "      <td>8</td>\n",
              "      <td>Heres how you can write a Python program to d...</td>\n",
              "      <td>#python #pythonprogramming #pythonprojects #py...</td>\n",
              "    </tr>\n",
              "    <tr>\n",
              "      <th>4</th>\n",
              "      <td>2518</td>\n",
              "      <td>1704</td>\n",
              "      <td>255</td>\n",
              "      <td>279</td>\n",
              "      <td>37</td>\n",
              "      <td>96</td>\n",
              "      <td>5</td>\n",
              "      <td>4</td>\n",
              "      <td>123</td>\n",
              "      <td>8</td>\n",
              "      <td>0</td>\n",
              "      <td>Plotting annotations while visualizing your da...</td>\n",
              "      <td>#datavisualization #datascience #data #dataana...</td>\n",
              "    </tr>\n",
              "  </tbody>\n",
              "</table>\n",
              "</div>\n",
              "      <button class=\"colab-df-convert\" onclick=\"convertToInteractive('df-1274a39f-fbe1-475e-b4d1-2b3c8987e9a5')\"\n",
              "              title=\"Convert this dataframe to an interactive table.\"\n",
              "              style=\"display:none;\">\n",
              "\n",
              "  <svg xmlns=\"http://www.w3.org/2000/svg\" height=\"24px\"viewBox=\"0 0 24 24\"\n",
              "       width=\"24px\">\n",
              "    <path d=\"M0 0h24v24H0V0z\" fill=\"none\"/>\n",
              "    <path d=\"M18.56 5.44l.94 2.06.94-2.06 2.06-.94-2.06-.94-.94-2.06-.94 2.06-2.06.94zm-11 1L8.5 8.5l.94-2.06 2.06-.94-2.06-.94L8.5 2.5l-.94 2.06-2.06.94zm10 10l.94 2.06.94-2.06 2.06-.94-2.06-.94-.94-2.06-.94 2.06-2.06.94z\"/><path d=\"M17.41 7.96l-1.37-1.37c-.4-.4-.92-.59-1.43-.59-.52 0-1.04.2-1.43.59L10.3 9.45l-7.72 7.72c-.78.78-.78 2.05 0 2.83L4 21.41c.39.39.9.59 1.41.59.51 0 1.02-.2 1.41-.59l7.78-7.78 2.81-2.81c.8-.78.8-2.07 0-2.86zM5.41 20L4 18.59l7.72-7.72 1.47 1.35L5.41 20z\"/>\n",
              "  </svg>\n",
              "      </button>\n",
              "\n",
              "\n",
              "\n",
              "    <div id=\"df-3890536c-9868-47fa-a0cf-6dcbc68e38c7\">\n",
              "      <button class=\"colab-df-quickchart\" onclick=\"quickchart('df-3890536c-9868-47fa-a0cf-6dcbc68e38c7')\"\n",
              "              title=\"Suggest charts.\"\n",
              "              style=\"display:none;\">\n",
              "\n",
              "<svg xmlns=\"http://www.w3.org/2000/svg\" height=\"24px\"viewBox=\"0 0 24 24\"\n",
              "     width=\"24px\">\n",
              "    <g>\n",
              "        <path d=\"M19 3H5c-1.1 0-2 .9-2 2v14c0 1.1.9 2 2 2h14c1.1 0 2-.9 2-2V5c0-1.1-.9-2-2-2zM9 17H7v-7h2v7zm4 0h-2V7h2v10zm4 0h-2v-4h2v4z\"/>\n",
              "    </g>\n",
              "</svg>\n",
              "      </button>\n",
              "    </div>\n",
              "\n",
              "<style>\n",
              "  .colab-df-quickchart {\n",
              "    background-color: #E8F0FE;\n",
              "    border: none;\n",
              "    border-radius: 50%;\n",
              "    cursor: pointer;\n",
              "    display: none;\n",
              "    fill: #1967D2;\n",
              "    height: 32px;\n",
              "    padding: 0 0 0 0;\n",
              "    width: 32px;\n",
              "  }\n",
              "\n",
              "  .colab-df-quickchart:hover {\n",
              "    background-color: #E2EBFA;\n",
              "    box-shadow: 0px 1px 2px rgba(60, 64, 67, 0.3), 0px 1px 3px 1px rgba(60, 64, 67, 0.15);\n",
              "    fill: #174EA6;\n",
              "  }\n",
              "\n",
              "  [theme=dark] .colab-df-quickchart {\n",
              "    background-color: #3B4455;\n",
              "    fill: #D2E3FC;\n",
              "  }\n",
              "\n",
              "  [theme=dark] .colab-df-quickchart:hover {\n",
              "    background-color: #434B5C;\n",
              "    box-shadow: 0px 1px 3px 1px rgba(0, 0, 0, 0.15);\n",
              "    filter: drop-shadow(0px 1px 2px rgba(0, 0, 0, 0.3));\n",
              "    fill: #FFFFFF;\n",
              "  }\n",
              "</style>\n",
              "\n",
              "    <script>\n",
              "      async function quickchart(key) {\n",
              "        const containerElement = document.querySelector('#' + key);\n",
              "        const charts = await google.colab.kernel.invokeFunction(\n",
              "            'suggestCharts', [key], {});\n",
              "      }\n",
              "    </script>\n",
              "\n",
              "      <script>\n",
              "\n",
              "function displayQuickchartButton(domScope) {\n",
              "  let quickchartButtonEl =\n",
              "    domScope.querySelector('#df-3890536c-9868-47fa-a0cf-6dcbc68e38c7 button.colab-df-quickchart');\n",
              "  quickchartButtonEl.style.display =\n",
              "    google.colab.kernel.accessAllowed ? 'block' : 'none';\n",
              "}\n",
              "\n",
              "        displayQuickchartButton(document);\n",
              "      </script>\n",
              "      <style>\n",
              "    .colab-df-container {\n",
              "      display:flex;\n",
              "      flex-wrap:wrap;\n",
              "      gap: 12px;\n",
              "    }\n",
              "\n",
              "    .colab-df-convert {\n",
              "      background-color: #E8F0FE;\n",
              "      border: none;\n",
              "      border-radius: 50%;\n",
              "      cursor: pointer;\n",
              "      display: none;\n",
              "      fill: #1967D2;\n",
              "      height: 32px;\n",
              "      padding: 0 0 0 0;\n",
              "      width: 32px;\n",
              "    }\n",
              "\n",
              "    .colab-df-convert:hover {\n",
              "      background-color: #E2EBFA;\n",
              "      box-shadow: 0px 1px 2px rgba(60, 64, 67, 0.3), 0px 1px 3px 1px rgba(60, 64, 67, 0.15);\n",
              "      fill: #174EA6;\n",
              "    }\n",
              "\n",
              "    [theme=dark] .colab-df-convert {\n",
              "      background-color: #3B4455;\n",
              "      fill: #D2E3FC;\n",
              "    }\n",
              "\n",
              "    [theme=dark] .colab-df-convert:hover {\n",
              "      background-color: #434B5C;\n",
              "      box-shadow: 0px 1px 3px 1px rgba(0, 0, 0, 0.15);\n",
              "      filter: drop-shadow(0px 1px 2px rgba(0, 0, 0, 0.3));\n",
              "      fill: #FFFFFF;\n",
              "    }\n",
              "  </style>\n",
              "\n",
              "      <script>\n",
              "        const buttonEl =\n",
              "          document.querySelector('#df-1274a39f-fbe1-475e-b4d1-2b3c8987e9a5 button.colab-df-convert');\n",
              "        buttonEl.style.display =\n",
              "          google.colab.kernel.accessAllowed ? 'block' : 'none';\n",
              "\n",
              "        async function convertToInteractive(key) {\n",
              "          const element = document.querySelector('#df-1274a39f-fbe1-475e-b4d1-2b3c8987e9a5');\n",
              "          const dataTable =\n",
              "            await google.colab.kernel.invokeFunction('convertToInteractive',\n",
              "                                                     [key], {});\n",
              "          if (!dataTable) return;\n",
              "\n",
              "          const docLinkHtml = 'Like what you see? Visit the ' +\n",
              "            '<a target=\"_blank\" href=https://colab.research.google.com/notebooks/data_table.ipynb>data table notebook</a>'\n",
              "            + ' to learn more about interactive tables.';\n",
              "          element.innerHTML = '';\n",
              "          dataTable['output_type'] = 'display_data';\n",
              "          await google.colab.output.renderOutput(dataTable, element);\n",
              "          const docLink = document.createElement('div');\n",
              "          docLink.innerHTML = docLinkHtml;\n",
              "          element.appendChild(docLink);\n",
              "        }\n",
              "      </script>\n",
              "    </div>\n",
              "  </div>\n"
            ]
          },
          "metadata": {},
          "execution_count": 6
        }
      ]
    },
    {
      "cell_type": "code",
      "source": [
        "print(data.columns)"
      ],
      "metadata": {
        "colab": {
          "base_uri": "https://localhost:8080/"
        },
        "id": "vZsHR0GVjatZ",
        "outputId": "c5c44d10-88ba-4b46-82d2-228fa8dc620a"
      },
      "execution_count": 7,
      "outputs": [
        {
          "output_type": "stream",
          "name": "stdout",
          "text": [
            "Index(['Impressions', 'From Home', 'From Hashtags', 'From Explore',\n",
            "       'From Other', 'Saves', 'Comments', 'Shares', 'Likes', 'Profile Visits',\n",
            "       'Follows', 'Caption', 'Hashtags'],\n",
            "      dtype='object')\n"
          ]
        }
      ]
    },
    {
      "cell_type": "code",
      "source": [
        "print(data.info())"
      ],
      "metadata": {
        "colab": {
          "base_uri": "https://localhost:8080/"
        },
        "id": "dVjHjHuwjkWC",
        "outputId": "34aaf000-362b-495f-a586-fb57ef69c93d"
      },
      "execution_count": 8,
      "outputs": [
        {
          "output_type": "stream",
          "name": "stdout",
          "text": [
            "<class 'pandas.core.frame.DataFrame'>\n",
            "RangeIndex: 119 entries, 0 to 118\n",
            "Data columns (total 13 columns):\n",
            " #   Column          Non-Null Count  Dtype \n",
            "---  ------          --------------  ----- \n",
            " 0   Impressions     119 non-null    int64 \n",
            " 1   From Home       119 non-null    int64 \n",
            " 2   From Hashtags   119 non-null    int64 \n",
            " 3   From Explore    119 non-null    int64 \n",
            " 4   From Other      119 non-null    int64 \n",
            " 5   Saves           119 non-null    int64 \n",
            " 6   Comments        119 non-null    int64 \n",
            " 7   Shares          119 non-null    int64 \n",
            " 8   Likes           119 non-null    int64 \n",
            " 9   Profile Visits  119 non-null    int64 \n",
            " 10  Follows         119 non-null    int64 \n",
            " 11  Caption         119 non-null    object\n",
            " 12  Hashtags        119 non-null    object\n",
            "dtypes: int64(11), object(2)\n",
            "memory usage: 12.2+ KB\n",
            "None\n"
          ]
        }
      ]
    },
    {
      "cell_type": "code",
      "source": [
        "print(data.describe())"
      ],
      "metadata": {
        "colab": {
          "base_uri": "https://localhost:8080/"
        },
        "id": "R2YexeTnjnYh",
        "outputId": "35c7a608-d3e0-4906-c47c-e670a5d4ffd9"
      },
      "execution_count": 9,
      "outputs": [
        {
          "output_type": "stream",
          "name": "stdout",
          "text": [
            "        Impressions     From Home  From Hashtags  From Explore   From Other  \\\n",
            "count    119.000000    119.000000     119.000000    119.000000   119.000000   \n",
            "mean    5703.991597   2475.789916    1887.512605   1078.100840   171.092437   \n",
            "std     4843.780105   1489.386348    1884.361443   2613.026132   289.431031   \n",
            "min     1941.000000   1133.000000     116.000000      0.000000     9.000000   \n",
            "25%     3467.000000   1945.000000     726.000000    157.500000    38.000000   \n",
            "50%     4289.000000   2207.000000    1278.000000    326.000000    74.000000   \n",
            "75%     6138.000000   2602.500000    2363.500000    689.500000   196.000000   \n",
            "max    36919.000000  13473.000000   11817.000000  17414.000000  2547.000000   \n",
            "\n",
            "             Saves    Comments      Shares       Likes  Profile Visits  \\\n",
            "count   119.000000  119.000000  119.000000  119.000000      119.000000   \n",
            "mean    153.310924    6.663866    9.361345  173.781513       50.621849   \n",
            "std     156.317731    3.544576   10.089205   82.378947       87.088402   \n",
            "min      22.000000    0.000000    0.000000   72.000000        4.000000   \n",
            "25%      65.000000    4.000000    3.000000  121.500000       15.000000   \n",
            "50%     109.000000    6.000000    6.000000  151.000000       23.000000   \n",
            "75%     169.000000    8.000000   13.500000  204.000000       42.000000   \n",
            "max    1095.000000   19.000000   75.000000  549.000000      611.000000   \n",
            "\n",
            "          Follows  \n",
            "count  119.000000  \n",
            "mean    20.756303  \n",
            "std     40.921580  \n",
            "min      0.000000  \n",
            "25%      4.000000  \n",
            "50%      8.000000  \n",
            "75%     18.000000  \n",
            "max    260.000000  \n"
          ]
        }
      ]
    },
    {
      "cell_type": "code",
      "source": [
        "print(data.isnull().sum())"
      ],
      "metadata": {
        "colab": {
          "base_uri": "https://localhost:8080/"
        },
        "id": "gIqe_d3ZjqFm",
        "outputId": "40498e20-c6fb-4c47-eacb-d52eb3d657ad"
      },
      "execution_count": 10,
      "outputs": [
        {
          "output_type": "stream",
          "name": "stdout",
          "text": [
            "Impressions       0\n",
            "From Home         0\n",
            "From Hashtags     0\n",
            "From Explore      0\n",
            "From Other        0\n",
            "Saves             0\n",
            "Comments          0\n",
            "Shares            0\n",
            "Likes             0\n",
            "Profile Visits    0\n",
            "Follows           0\n",
            "Caption           0\n",
            "Hashtags          0\n",
            "dtype: int64\n"
          ]
        }
      ]
    },
    {
      "cell_type": "code",
      "source": [
        "fig = px.histogram(data,\n",
        "                   x='Impressions',\n",
        "                   nbins=10,\n",
        "                   title='Distribution of Impressions')\n",
        "fig.show()"
      ],
      "metadata": {
        "colab": {
          "base_uri": "https://localhost:8080/",
          "height": 542
        },
        "id": "IeJ3MmoPkB-H",
        "outputId": "bd1f5817-9421-42ba-90d3-1223b862f33b"
      },
      "execution_count": 11,
      "outputs": [
        {
          "output_type": "display_data",
          "data": {
            "text/html": [
              "<html>\n",
              "<head><meta charset=\"utf-8\" /></head>\n",
              "<body>\n",
              "    <div>            <script src=\"https://cdnjs.cloudflare.com/ajax/libs/mathjax/2.7.5/MathJax.js?config=TeX-AMS-MML_SVG\"></script><script type=\"text/javascript\">if (window.MathJax && window.MathJax.Hub && window.MathJax.Hub.Config) {window.MathJax.Hub.Config({SVG: {font: \"STIX-Web\"}});}</script>                <script type=\"text/javascript\">window.PlotlyConfig = {MathJaxConfig: 'local'};</script>\n",
              "        <script src=\"https://cdn.plot.ly/plotly-2.18.2.min.js\"></script>                <div id=\"ee3f4b8b-b842-46ef-b193-7fe2384344b2\" class=\"plotly-graph-div\" style=\"height:525px; width:100%;\"></div>            <script type=\"text/javascript\">                                    window.PLOTLYENV=window.PLOTLYENV || {};                                    if (document.getElementById(\"ee3f4b8b-b842-46ef-b193-7fe2384344b2\")) {                    Plotly.newPlot(                        \"ee3f4b8b-b842-46ef-b193-7fe2384344b2\",                        [{\"alignmentgroup\":\"True\",\"bingroup\":\"x\",\"hovertemplate\":\"Impressions=%{x}<br>count=%{y}<extra></extra>\",\"legendgroup\":\"\",\"marker\":{\"color\":\"#636efa\",\"pattern\":{\"shape\":\"\"}},\"name\":\"\",\"nbinsx\":10,\"offsetgroup\":\"\",\"orientation\":\"v\",\"showlegend\":false,\"x\":[3920,5394,4021,4528,2518,3884,2621,3541,3749,4115,2218,3234,4344,3216,9453,5055,4002,3169,6168,2407,2064,3973,7281,3052,4628,4082,5394,2766,3924,3015,6666,3854,4355,4343,6108,2523,2327,3990,2191,1941,16062,4998,4289,3880,3786,4298,3630,2826,7407,10386,2998,7018,2941,6432,10667,3988,4978,3388,4467,3246,5072,6339,4239,3454,7571,3333,3818,10933,5058,3601,3480,3525,3606,5542,6559,3623,10493,4446,2957,5538,4681,5273,5055,4002,3169,6168,2407,3630,2826,7407,10386,2998,3052,4628,4082,5394,2766,3924,3015,5409,5323,8001,4150,4609,6348,11068,7231,17396,6814,17713,5563,4842,11149,10206,13700,5731,4139,32695,36919],\"xaxis\":\"x\",\"yaxis\":\"y\",\"type\":\"histogram\"}],                        {\"template\":{\"data\":{\"histogram2dcontour\":[{\"type\":\"histogram2dcontour\",\"colorbar\":{\"outlinewidth\":0,\"ticks\":\"\"},\"colorscale\":[[0.0,\"#0d0887\"],[0.1111111111111111,\"#46039f\"],[0.2222222222222222,\"#7201a8\"],[0.3333333333333333,\"#9c179e\"],[0.4444444444444444,\"#bd3786\"],[0.5555555555555556,\"#d8576b\"],[0.6666666666666666,\"#ed7953\"],[0.7777777777777778,\"#fb9f3a\"],[0.8888888888888888,\"#fdca26\"],[1.0,\"#f0f921\"]]}],\"choropleth\":[{\"type\":\"choropleth\",\"colorbar\":{\"outlinewidth\":0,\"ticks\":\"\"}}],\"histogram2d\":[{\"type\":\"histogram2d\",\"colorbar\":{\"outlinewidth\":0,\"ticks\":\"\"},\"colorscale\":[[0.0,\"#0d0887\"],[0.1111111111111111,\"#46039f\"],[0.2222222222222222,\"#7201a8\"],[0.3333333333333333,\"#9c179e\"],[0.4444444444444444,\"#bd3786\"],[0.5555555555555556,\"#d8576b\"],[0.6666666666666666,\"#ed7953\"],[0.7777777777777778,\"#fb9f3a\"],[0.8888888888888888,\"#fdca26\"],[1.0,\"#f0f921\"]]}],\"heatmap\":[{\"type\":\"heatmap\",\"colorbar\":{\"outlinewidth\":0,\"ticks\":\"\"},\"colorscale\":[[0.0,\"#0d0887\"],[0.1111111111111111,\"#46039f\"],[0.2222222222222222,\"#7201a8\"],[0.3333333333333333,\"#9c179e\"],[0.4444444444444444,\"#bd3786\"],[0.5555555555555556,\"#d8576b\"],[0.6666666666666666,\"#ed7953\"],[0.7777777777777778,\"#fb9f3a\"],[0.8888888888888888,\"#fdca26\"],[1.0,\"#f0f921\"]]}],\"heatmapgl\":[{\"type\":\"heatmapgl\",\"colorbar\":{\"outlinewidth\":0,\"ticks\":\"\"},\"colorscale\":[[0.0,\"#0d0887\"],[0.1111111111111111,\"#46039f\"],[0.2222222222222222,\"#7201a8\"],[0.3333333333333333,\"#9c179e\"],[0.4444444444444444,\"#bd3786\"],[0.5555555555555556,\"#d8576b\"],[0.6666666666666666,\"#ed7953\"],[0.7777777777777778,\"#fb9f3a\"],[0.8888888888888888,\"#fdca26\"],[1.0,\"#f0f921\"]]}],\"contourcarpet\":[{\"type\":\"contourcarpet\",\"colorbar\":{\"outlinewidth\":0,\"ticks\":\"\"}}],\"contour\":[{\"type\":\"contour\",\"colorbar\":{\"outlinewidth\":0,\"ticks\":\"\"},\"colorscale\":[[0.0,\"#0d0887\"],[0.1111111111111111,\"#46039f\"],[0.2222222222222222,\"#7201a8\"],[0.3333333333333333,\"#9c179e\"],[0.4444444444444444,\"#bd3786\"],[0.5555555555555556,\"#d8576b\"],[0.6666666666666666,\"#ed7953\"],[0.7777777777777778,\"#fb9f3a\"],[0.8888888888888888,\"#fdca26\"],[1.0,\"#f0f921\"]]}],\"surface\":[{\"type\":\"surface\",\"colorbar\":{\"outlinewidth\":0,\"ticks\":\"\"},\"colorscale\":[[0.0,\"#0d0887\"],[0.1111111111111111,\"#46039f\"],[0.2222222222222222,\"#7201a8\"],[0.3333333333333333,\"#9c179e\"],[0.4444444444444444,\"#bd3786\"],[0.5555555555555556,\"#d8576b\"],[0.6666666666666666,\"#ed7953\"],[0.7777777777777778,\"#fb9f3a\"],[0.8888888888888888,\"#fdca26\"],[1.0,\"#f0f921\"]]}],\"mesh3d\":[{\"type\":\"mesh3d\",\"colorbar\":{\"outlinewidth\":0,\"ticks\":\"\"}}],\"scatter\":[{\"fillpattern\":{\"fillmode\":\"overlay\",\"size\":10,\"solidity\":0.2},\"type\":\"scatter\"}],\"parcoords\":[{\"type\":\"parcoords\",\"line\":{\"colorbar\":{\"outlinewidth\":0,\"ticks\":\"\"}}}],\"scatterpolargl\":[{\"type\":\"scatterpolargl\",\"marker\":{\"colorbar\":{\"outlinewidth\":0,\"ticks\":\"\"}}}],\"bar\":[{\"error_x\":{\"color\":\"#2a3f5f\"},\"error_y\":{\"color\":\"#2a3f5f\"},\"marker\":{\"line\":{\"color\":\"white\",\"width\":0.5},\"pattern\":{\"fillmode\":\"overlay\",\"size\":10,\"solidity\":0.2}},\"type\":\"bar\"}],\"scattergeo\":[{\"type\":\"scattergeo\",\"marker\":{\"colorbar\":{\"outlinewidth\":0,\"ticks\":\"\"}}}],\"scatterpolar\":[{\"type\":\"scatterpolar\",\"marker\":{\"colorbar\":{\"outlinewidth\":0,\"ticks\":\"\"}}}],\"histogram\":[{\"marker\":{\"pattern\":{\"fillmode\":\"overlay\",\"size\":10,\"solidity\":0.2}},\"type\":\"histogram\"}],\"scattergl\":[{\"type\":\"scattergl\",\"marker\":{\"colorbar\":{\"outlinewidth\":0,\"ticks\":\"\"}}}],\"scatter3d\":[{\"type\":\"scatter3d\",\"line\":{\"colorbar\":{\"outlinewidth\":0,\"ticks\":\"\"}},\"marker\":{\"colorbar\":{\"outlinewidth\":0,\"ticks\":\"\"}}}],\"scattermapbox\":[{\"type\":\"scattermapbox\",\"marker\":{\"colorbar\":{\"outlinewidth\":0,\"ticks\":\"\"}}}],\"scatterternary\":[{\"type\":\"scatterternary\",\"marker\":{\"colorbar\":{\"outlinewidth\":0,\"ticks\":\"\"}}}],\"scattercarpet\":[{\"type\":\"scattercarpet\",\"marker\":{\"colorbar\":{\"outlinewidth\":0,\"ticks\":\"\"}}}],\"carpet\":[{\"aaxis\":{\"endlinecolor\":\"#2a3f5f\",\"gridcolor\":\"#C8D4E3\",\"linecolor\":\"#C8D4E3\",\"minorgridcolor\":\"#C8D4E3\",\"startlinecolor\":\"#2a3f5f\"},\"baxis\":{\"endlinecolor\":\"#2a3f5f\",\"gridcolor\":\"#C8D4E3\",\"linecolor\":\"#C8D4E3\",\"minorgridcolor\":\"#C8D4E3\",\"startlinecolor\":\"#2a3f5f\"},\"type\":\"carpet\"}],\"table\":[{\"cells\":{\"fill\":{\"color\":\"#EBF0F8\"},\"line\":{\"color\":\"white\"}},\"header\":{\"fill\":{\"color\":\"#C8D4E3\"},\"line\":{\"color\":\"white\"}},\"type\":\"table\"}],\"barpolar\":[{\"marker\":{\"line\":{\"color\":\"white\",\"width\":0.5},\"pattern\":{\"fillmode\":\"overlay\",\"size\":10,\"solidity\":0.2}},\"type\":\"barpolar\"}],\"pie\":[{\"automargin\":true,\"type\":\"pie\"}]},\"layout\":{\"autotypenumbers\":\"strict\",\"colorway\":[\"#636efa\",\"#EF553B\",\"#00cc96\",\"#ab63fa\",\"#FFA15A\",\"#19d3f3\",\"#FF6692\",\"#B6E880\",\"#FF97FF\",\"#FECB52\"],\"font\":{\"color\":\"#2a3f5f\"},\"hovermode\":\"closest\",\"hoverlabel\":{\"align\":\"left\"},\"paper_bgcolor\":\"white\",\"plot_bgcolor\":\"white\",\"polar\":{\"bgcolor\":\"white\",\"angularaxis\":{\"gridcolor\":\"#EBF0F8\",\"linecolor\":\"#EBF0F8\",\"ticks\":\"\"},\"radialaxis\":{\"gridcolor\":\"#EBF0F8\",\"linecolor\":\"#EBF0F8\",\"ticks\":\"\"}},\"ternary\":{\"bgcolor\":\"white\",\"aaxis\":{\"gridcolor\":\"#DFE8F3\",\"linecolor\":\"#A2B1C6\",\"ticks\":\"\"},\"baxis\":{\"gridcolor\":\"#DFE8F3\",\"linecolor\":\"#A2B1C6\",\"ticks\":\"\"},\"caxis\":{\"gridcolor\":\"#DFE8F3\",\"linecolor\":\"#A2B1C6\",\"ticks\":\"\"}},\"coloraxis\":{\"colorbar\":{\"outlinewidth\":0,\"ticks\":\"\"}},\"colorscale\":{\"sequential\":[[0.0,\"#0d0887\"],[0.1111111111111111,\"#46039f\"],[0.2222222222222222,\"#7201a8\"],[0.3333333333333333,\"#9c179e\"],[0.4444444444444444,\"#bd3786\"],[0.5555555555555556,\"#d8576b\"],[0.6666666666666666,\"#ed7953\"],[0.7777777777777778,\"#fb9f3a\"],[0.8888888888888888,\"#fdca26\"],[1.0,\"#f0f921\"]],\"sequentialminus\":[[0.0,\"#0d0887\"],[0.1111111111111111,\"#46039f\"],[0.2222222222222222,\"#7201a8\"],[0.3333333333333333,\"#9c179e\"],[0.4444444444444444,\"#bd3786\"],[0.5555555555555556,\"#d8576b\"],[0.6666666666666666,\"#ed7953\"],[0.7777777777777778,\"#fb9f3a\"],[0.8888888888888888,\"#fdca26\"],[1.0,\"#f0f921\"]],\"diverging\":[[0,\"#8e0152\"],[0.1,\"#c51b7d\"],[0.2,\"#de77ae\"],[0.3,\"#f1b6da\"],[0.4,\"#fde0ef\"],[0.5,\"#f7f7f7\"],[0.6,\"#e6f5d0\"],[0.7,\"#b8e186\"],[0.8,\"#7fbc41\"],[0.9,\"#4d9221\"],[1,\"#276419\"]]},\"xaxis\":{\"gridcolor\":\"#EBF0F8\",\"linecolor\":\"#EBF0F8\",\"ticks\":\"\",\"title\":{\"standoff\":15},\"zerolinecolor\":\"#EBF0F8\",\"automargin\":true,\"zerolinewidth\":2},\"yaxis\":{\"gridcolor\":\"#EBF0F8\",\"linecolor\":\"#EBF0F8\",\"ticks\":\"\",\"title\":{\"standoff\":15},\"zerolinecolor\":\"#EBF0F8\",\"automargin\":true,\"zerolinewidth\":2},\"scene\":{\"xaxis\":{\"backgroundcolor\":\"white\",\"gridcolor\":\"#DFE8F3\",\"linecolor\":\"#EBF0F8\",\"showbackground\":true,\"ticks\":\"\",\"zerolinecolor\":\"#EBF0F8\",\"gridwidth\":2},\"yaxis\":{\"backgroundcolor\":\"white\",\"gridcolor\":\"#DFE8F3\",\"linecolor\":\"#EBF0F8\",\"showbackground\":true,\"ticks\":\"\",\"zerolinecolor\":\"#EBF0F8\",\"gridwidth\":2},\"zaxis\":{\"backgroundcolor\":\"white\",\"gridcolor\":\"#DFE8F3\",\"linecolor\":\"#EBF0F8\",\"showbackground\":true,\"ticks\":\"\",\"zerolinecolor\":\"#EBF0F8\",\"gridwidth\":2}},\"shapedefaults\":{\"line\":{\"color\":\"#2a3f5f\"}},\"annotationdefaults\":{\"arrowcolor\":\"#2a3f5f\",\"arrowhead\":0,\"arrowwidth\":1},\"geo\":{\"bgcolor\":\"white\",\"landcolor\":\"white\",\"subunitcolor\":\"#C8D4E3\",\"showland\":true,\"showlakes\":true,\"lakecolor\":\"white\"},\"title\":{\"x\":0.05},\"mapbox\":{\"style\":\"light\"}}},\"xaxis\":{\"anchor\":\"y\",\"domain\":[0.0,1.0],\"title\":{\"text\":\"Impressions\"}},\"yaxis\":{\"anchor\":\"x\",\"domain\":[0.0,1.0],\"title\":{\"text\":\"count\"}},\"legend\":{\"tracegroupgap\":0},\"title\":{\"text\":\"Distribution of Impressions\"},\"barmode\":\"relative\"},                        {\"responsive\": true}                    ).then(function(){\n",
              "                            \n",
              "var gd = document.getElementById('ee3f4b8b-b842-46ef-b193-7fe2384344b2');\n",
              "var x = new MutationObserver(function (mutations, observer) {{\n",
              "        var display = window.getComputedStyle(gd).display;\n",
              "        if (!display || display === 'none') {{\n",
              "            console.log([gd, 'removed!']);\n",
              "            Plotly.purge(gd);\n",
              "            observer.disconnect();\n",
              "        }}\n",
              "}});\n",
              "\n",
              "// Listen for the removal of the full notebook cells\n",
              "var notebookContainer = gd.closest('#notebook-container');\n",
              "if (notebookContainer) {{\n",
              "    x.observe(notebookContainer, {childList: true});\n",
              "}}\n",
              "\n",
              "// Listen for the clearing of the current output cell\n",
              "var outputEl = gd.closest('.output');\n",
              "if (outputEl) {{\n",
              "    x.observe(outputEl, {childList: true});\n",
              "}}\n",
              "\n",
              "                        })                };                            </script>        </div>\n",
              "</body>\n",
              "</html>"
            ]
          },
          "metadata": {}
        }
      ]
    },
    {
      "cell_type": "markdown",
      "source": [
        "- number of impressions on each post over time:"
      ],
      "metadata": {
        "id": "2z_DJVu4kq2g"
      }
    },
    {
      "cell_type": "code",
      "source": [
        "fig = px.line(data, x= data.index,\n",
        "              y='Impressions',\n",
        "              title='Impressions Over Time')\n",
        "fig.show()"
      ],
      "metadata": {
        "colab": {
          "base_uri": "https://localhost:8080/",
          "height": 542
        },
        "id": "XYLCX1PykPSc",
        "outputId": "94e13785-7e21-4523-e325-6e6e949e7d75"
      },
      "execution_count": 12,
      "outputs": [
        {
          "output_type": "display_data",
          "data": {
            "text/html": [
              "<html>\n",
              "<head><meta charset=\"utf-8\" /></head>\n",
              "<body>\n",
              "    <div>            <script src=\"https://cdnjs.cloudflare.com/ajax/libs/mathjax/2.7.5/MathJax.js?config=TeX-AMS-MML_SVG\"></script><script type=\"text/javascript\">if (window.MathJax && window.MathJax.Hub && window.MathJax.Hub.Config) {window.MathJax.Hub.Config({SVG: {font: \"STIX-Web\"}});}</script>                <script type=\"text/javascript\">window.PlotlyConfig = {MathJaxConfig: 'local'};</script>\n",
              "        <script src=\"https://cdn.plot.ly/plotly-2.18.2.min.js\"></script>                <div id=\"5c444495-0600-4ae6-9800-1e373ff6c5d2\" class=\"plotly-graph-div\" style=\"height:525px; width:100%;\"></div>            <script type=\"text/javascript\">                                    window.PLOTLYENV=window.PLOTLYENV || {};                                    if (document.getElementById(\"5c444495-0600-4ae6-9800-1e373ff6c5d2\")) {                    Plotly.newPlot(                        \"5c444495-0600-4ae6-9800-1e373ff6c5d2\",                        [{\"hovertemplate\":\"index=%{x}<br>Impressions=%{y}<extra></extra>\",\"legendgroup\":\"\",\"line\":{\"color\":\"#636efa\",\"dash\":\"solid\"},\"marker\":{\"symbol\":\"circle\"},\"mode\":\"lines\",\"name\":\"\",\"orientation\":\"v\",\"showlegend\":false,\"x\":[0,1,2,3,4,5,6,7,8,9,10,11,12,13,14,15,16,17,18,19,20,21,22,23,24,25,26,27,28,29,30,31,32,33,34,35,36,37,38,39,40,41,42,43,44,45,46,47,48,49,50,51,52,53,54,55,56,57,58,59,60,61,62,63,64,65,66,67,68,69,70,71,72,73,74,75,76,77,78,79,80,81,82,83,84,85,86,87,88,89,90,91,92,93,94,95,96,97,98,99,100,101,102,103,104,105,106,107,108,109,110,111,112,113,114,115,116,117,118],\"xaxis\":\"x\",\"y\":[3920,5394,4021,4528,2518,3884,2621,3541,3749,4115,2218,3234,4344,3216,9453,5055,4002,3169,6168,2407,2064,3973,7281,3052,4628,4082,5394,2766,3924,3015,6666,3854,4355,4343,6108,2523,2327,3990,2191,1941,16062,4998,4289,3880,3786,4298,3630,2826,7407,10386,2998,7018,2941,6432,10667,3988,4978,3388,4467,3246,5072,6339,4239,3454,7571,3333,3818,10933,5058,3601,3480,3525,3606,5542,6559,3623,10493,4446,2957,5538,4681,5273,5055,4002,3169,6168,2407,3630,2826,7407,10386,2998,3052,4628,4082,5394,2766,3924,3015,5409,5323,8001,4150,4609,6348,11068,7231,17396,6814,17713,5563,4842,11149,10206,13700,5731,4139,32695,36919],\"yaxis\":\"y\",\"type\":\"scatter\"}],                        {\"template\":{\"data\":{\"histogram2dcontour\":[{\"type\":\"histogram2dcontour\",\"colorbar\":{\"outlinewidth\":0,\"ticks\":\"\"},\"colorscale\":[[0.0,\"#0d0887\"],[0.1111111111111111,\"#46039f\"],[0.2222222222222222,\"#7201a8\"],[0.3333333333333333,\"#9c179e\"],[0.4444444444444444,\"#bd3786\"],[0.5555555555555556,\"#d8576b\"],[0.6666666666666666,\"#ed7953\"],[0.7777777777777778,\"#fb9f3a\"],[0.8888888888888888,\"#fdca26\"],[1.0,\"#f0f921\"]]}],\"choropleth\":[{\"type\":\"choropleth\",\"colorbar\":{\"outlinewidth\":0,\"ticks\":\"\"}}],\"histogram2d\":[{\"type\":\"histogram2d\",\"colorbar\":{\"outlinewidth\":0,\"ticks\":\"\"},\"colorscale\":[[0.0,\"#0d0887\"],[0.1111111111111111,\"#46039f\"],[0.2222222222222222,\"#7201a8\"],[0.3333333333333333,\"#9c179e\"],[0.4444444444444444,\"#bd3786\"],[0.5555555555555556,\"#d8576b\"],[0.6666666666666666,\"#ed7953\"],[0.7777777777777778,\"#fb9f3a\"],[0.8888888888888888,\"#fdca26\"],[1.0,\"#f0f921\"]]}],\"heatmap\":[{\"type\":\"heatmap\",\"colorbar\":{\"outlinewidth\":0,\"ticks\":\"\"},\"colorscale\":[[0.0,\"#0d0887\"],[0.1111111111111111,\"#46039f\"],[0.2222222222222222,\"#7201a8\"],[0.3333333333333333,\"#9c179e\"],[0.4444444444444444,\"#bd3786\"],[0.5555555555555556,\"#d8576b\"],[0.6666666666666666,\"#ed7953\"],[0.7777777777777778,\"#fb9f3a\"],[0.8888888888888888,\"#fdca26\"],[1.0,\"#f0f921\"]]}],\"heatmapgl\":[{\"type\":\"heatmapgl\",\"colorbar\":{\"outlinewidth\":0,\"ticks\":\"\"},\"colorscale\":[[0.0,\"#0d0887\"],[0.1111111111111111,\"#46039f\"],[0.2222222222222222,\"#7201a8\"],[0.3333333333333333,\"#9c179e\"],[0.4444444444444444,\"#bd3786\"],[0.5555555555555556,\"#d8576b\"],[0.6666666666666666,\"#ed7953\"],[0.7777777777777778,\"#fb9f3a\"],[0.8888888888888888,\"#fdca26\"],[1.0,\"#f0f921\"]]}],\"contourcarpet\":[{\"type\":\"contourcarpet\",\"colorbar\":{\"outlinewidth\":0,\"ticks\":\"\"}}],\"contour\":[{\"type\":\"contour\",\"colorbar\":{\"outlinewidth\":0,\"ticks\":\"\"},\"colorscale\":[[0.0,\"#0d0887\"],[0.1111111111111111,\"#46039f\"],[0.2222222222222222,\"#7201a8\"],[0.3333333333333333,\"#9c179e\"],[0.4444444444444444,\"#bd3786\"],[0.5555555555555556,\"#d8576b\"],[0.6666666666666666,\"#ed7953\"],[0.7777777777777778,\"#fb9f3a\"],[0.8888888888888888,\"#fdca26\"],[1.0,\"#f0f921\"]]}],\"surface\":[{\"type\":\"surface\",\"colorbar\":{\"outlinewidth\":0,\"ticks\":\"\"},\"colorscale\":[[0.0,\"#0d0887\"],[0.1111111111111111,\"#46039f\"],[0.2222222222222222,\"#7201a8\"],[0.3333333333333333,\"#9c179e\"],[0.4444444444444444,\"#bd3786\"],[0.5555555555555556,\"#d8576b\"],[0.6666666666666666,\"#ed7953\"],[0.7777777777777778,\"#fb9f3a\"],[0.8888888888888888,\"#fdca26\"],[1.0,\"#f0f921\"]]}],\"mesh3d\":[{\"type\":\"mesh3d\",\"colorbar\":{\"outlinewidth\":0,\"ticks\":\"\"}}],\"scatter\":[{\"fillpattern\":{\"fillmode\":\"overlay\",\"size\":10,\"solidity\":0.2},\"type\":\"scatter\"}],\"parcoords\":[{\"type\":\"parcoords\",\"line\":{\"colorbar\":{\"outlinewidth\":0,\"ticks\":\"\"}}}],\"scatterpolargl\":[{\"type\":\"scatterpolargl\",\"marker\":{\"colorbar\":{\"outlinewidth\":0,\"ticks\":\"\"}}}],\"bar\":[{\"error_x\":{\"color\":\"#2a3f5f\"},\"error_y\":{\"color\":\"#2a3f5f\"},\"marker\":{\"line\":{\"color\":\"white\",\"width\":0.5},\"pattern\":{\"fillmode\":\"overlay\",\"size\":10,\"solidity\":0.2}},\"type\":\"bar\"}],\"scattergeo\":[{\"type\":\"scattergeo\",\"marker\":{\"colorbar\":{\"outlinewidth\":0,\"ticks\":\"\"}}}],\"scatterpolar\":[{\"type\":\"scatterpolar\",\"marker\":{\"colorbar\":{\"outlinewidth\":0,\"ticks\":\"\"}}}],\"histogram\":[{\"marker\":{\"pattern\":{\"fillmode\":\"overlay\",\"size\":10,\"solidity\":0.2}},\"type\":\"histogram\"}],\"scattergl\":[{\"type\":\"scattergl\",\"marker\":{\"colorbar\":{\"outlinewidth\":0,\"ticks\":\"\"}}}],\"scatter3d\":[{\"type\":\"scatter3d\",\"line\":{\"colorbar\":{\"outlinewidth\":0,\"ticks\":\"\"}},\"marker\":{\"colorbar\":{\"outlinewidth\":0,\"ticks\":\"\"}}}],\"scattermapbox\":[{\"type\":\"scattermapbox\",\"marker\":{\"colorbar\":{\"outlinewidth\":0,\"ticks\":\"\"}}}],\"scatterternary\":[{\"type\":\"scatterternary\",\"marker\":{\"colorbar\":{\"outlinewidth\":0,\"ticks\":\"\"}}}],\"scattercarpet\":[{\"type\":\"scattercarpet\",\"marker\":{\"colorbar\":{\"outlinewidth\":0,\"ticks\":\"\"}}}],\"carpet\":[{\"aaxis\":{\"endlinecolor\":\"#2a3f5f\",\"gridcolor\":\"#C8D4E3\",\"linecolor\":\"#C8D4E3\",\"minorgridcolor\":\"#C8D4E3\",\"startlinecolor\":\"#2a3f5f\"},\"baxis\":{\"endlinecolor\":\"#2a3f5f\",\"gridcolor\":\"#C8D4E3\",\"linecolor\":\"#C8D4E3\",\"minorgridcolor\":\"#C8D4E3\",\"startlinecolor\":\"#2a3f5f\"},\"type\":\"carpet\"}],\"table\":[{\"cells\":{\"fill\":{\"color\":\"#EBF0F8\"},\"line\":{\"color\":\"white\"}},\"header\":{\"fill\":{\"color\":\"#C8D4E3\"},\"line\":{\"color\":\"white\"}},\"type\":\"table\"}],\"barpolar\":[{\"marker\":{\"line\":{\"color\":\"white\",\"width\":0.5},\"pattern\":{\"fillmode\":\"overlay\",\"size\":10,\"solidity\":0.2}},\"type\":\"barpolar\"}],\"pie\":[{\"automargin\":true,\"type\":\"pie\"}]},\"layout\":{\"autotypenumbers\":\"strict\",\"colorway\":[\"#636efa\",\"#EF553B\",\"#00cc96\",\"#ab63fa\",\"#FFA15A\",\"#19d3f3\",\"#FF6692\",\"#B6E880\",\"#FF97FF\",\"#FECB52\"],\"font\":{\"color\":\"#2a3f5f\"},\"hovermode\":\"closest\",\"hoverlabel\":{\"align\":\"left\"},\"paper_bgcolor\":\"white\",\"plot_bgcolor\":\"white\",\"polar\":{\"bgcolor\":\"white\",\"angularaxis\":{\"gridcolor\":\"#EBF0F8\",\"linecolor\":\"#EBF0F8\",\"ticks\":\"\"},\"radialaxis\":{\"gridcolor\":\"#EBF0F8\",\"linecolor\":\"#EBF0F8\",\"ticks\":\"\"}},\"ternary\":{\"bgcolor\":\"white\",\"aaxis\":{\"gridcolor\":\"#DFE8F3\",\"linecolor\":\"#A2B1C6\",\"ticks\":\"\"},\"baxis\":{\"gridcolor\":\"#DFE8F3\",\"linecolor\":\"#A2B1C6\",\"ticks\":\"\"},\"caxis\":{\"gridcolor\":\"#DFE8F3\",\"linecolor\":\"#A2B1C6\",\"ticks\":\"\"}},\"coloraxis\":{\"colorbar\":{\"outlinewidth\":0,\"ticks\":\"\"}},\"colorscale\":{\"sequential\":[[0.0,\"#0d0887\"],[0.1111111111111111,\"#46039f\"],[0.2222222222222222,\"#7201a8\"],[0.3333333333333333,\"#9c179e\"],[0.4444444444444444,\"#bd3786\"],[0.5555555555555556,\"#d8576b\"],[0.6666666666666666,\"#ed7953\"],[0.7777777777777778,\"#fb9f3a\"],[0.8888888888888888,\"#fdca26\"],[1.0,\"#f0f921\"]],\"sequentialminus\":[[0.0,\"#0d0887\"],[0.1111111111111111,\"#46039f\"],[0.2222222222222222,\"#7201a8\"],[0.3333333333333333,\"#9c179e\"],[0.4444444444444444,\"#bd3786\"],[0.5555555555555556,\"#d8576b\"],[0.6666666666666666,\"#ed7953\"],[0.7777777777777778,\"#fb9f3a\"],[0.8888888888888888,\"#fdca26\"],[1.0,\"#f0f921\"]],\"diverging\":[[0,\"#8e0152\"],[0.1,\"#c51b7d\"],[0.2,\"#de77ae\"],[0.3,\"#f1b6da\"],[0.4,\"#fde0ef\"],[0.5,\"#f7f7f7\"],[0.6,\"#e6f5d0\"],[0.7,\"#b8e186\"],[0.8,\"#7fbc41\"],[0.9,\"#4d9221\"],[1,\"#276419\"]]},\"xaxis\":{\"gridcolor\":\"#EBF0F8\",\"linecolor\":\"#EBF0F8\",\"ticks\":\"\",\"title\":{\"standoff\":15},\"zerolinecolor\":\"#EBF0F8\",\"automargin\":true,\"zerolinewidth\":2},\"yaxis\":{\"gridcolor\":\"#EBF0F8\",\"linecolor\":\"#EBF0F8\",\"ticks\":\"\",\"title\":{\"standoff\":15},\"zerolinecolor\":\"#EBF0F8\",\"automargin\":true,\"zerolinewidth\":2},\"scene\":{\"xaxis\":{\"backgroundcolor\":\"white\",\"gridcolor\":\"#DFE8F3\",\"linecolor\":\"#EBF0F8\",\"showbackground\":true,\"ticks\":\"\",\"zerolinecolor\":\"#EBF0F8\",\"gridwidth\":2},\"yaxis\":{\"backgroundcolor\":\"white\",\"gridcolor\":\"#DFE8F3\",\"linecolor\":\"#EBF0F8\",\"showbackground\":true,\"ticks\":\"\",\"zerolinecolor\":\"#EBF0F8\",\"gridwidth\":2},\"zaxis\":{\"backgroundcolor\":\"white\",\"gridcolor\":\"#DFE8F3\",\"linecolor\":\"#EBF0F8\",\"showbackground\":true,\"ticks\":\"\",\"zerolinecolor\":\"#EBF0F8\",\"gridwidth\":2}},\"shapedefaults\":{\"line\":{\"color\":\"#2a3f5f\"}},\"annotationdefaults\":{\"arrowcolor\":\"#2a3f5f\",\"arrowhead\":0,\"arrowwidth\":1},\"geo\":{\"bgcolor\":\"white\",\"landcolor\":\"white\",\"subunitcolor\":\"#C8D4E3\",\"showland\":true,\"showlakes\":true,\"lakecolor\":\"white\"},\"title\":{\"x\":0.05},\"mapbox\":{\"style\":\"light\"}}},\"xaxis\":{\"anchor\":\"y\",\"domain\":[0.0,1.0],\"title\":{\"text\":\"index\"}},\"yaxis\":{\"anchor\":\"x\",\"domain\":[0.0,1.0],\"title\":{\"text\":\"Impressions\"}},\"legend\":{\"tracegroupgap\":0},\"title\":{\"text\":\"Impressions Over Time\"}},                        {\"responsive\": true}                    ).then(function(){\n",
              "                            \n",
              "var gd = document.getElementById('5c444495-0600-4ae6-9800-1e373ff6c5d2');\n",
              "var x = new MutationObserver(function (mutations, observer) {{\n",
              "        var display = window.getComputedStyle(gd).display;\n",
              "        if (!display || display === 'none') {{\n",
              "            console.log([gd, 'removed!']);\n",
              "            Plotly.purge(gd);\n",
              "            observer.disconnect();\n",
              "        }}\n",
              "}});\n",
              "\n",
              "// Listen for the removal of the full notebook cells\n",
              "var notebookContainer = gd.closest('#notebook-container');\n",
              "if (notebookContainer) {{\n",
              "    x.observe(notebookContainer, {childList: true});\n",
              "}}\n",
              "\n",
              "// Listen for the clearing of the current output cell\n",
              "var outputEl = gd.closest('.output');\n",
              "if (outputEl) {{\n",
              "    x.observe(outputEl, {childList: true});\n",
              "}}\n",
              "\n",
              "                        })                };                            </script>        </div>\n",
              "</body>\n",
              "</html>"
            ]
          },
          "metadata": {}
        }
      ]
    },
    {
      "cell_type": "markdown",
      "source": [
        "- metrics like Likes, Saves, and Follows from each post over time:"
      ],
      "metadata": {
        "id": "hfX3vhy2k9e0"
      }
    },
    {
      "cell_type": "code",
      "source": [
        "fig = go.Figure()\n",
        "\n",
        "fig.add_trace(go.Scatter(x=data.index, y=data['Likes'], name='Likes'))\n",
        "fig.add_trace(go.Scatter(x=data.index, y=data['Saves'], name='Saves'))\n",
        "fig.add_trace(go.Scatter(x=data.index, y=data['Follows'], name='Follows'))\n",
        "\n",
        "fig.update_layout(title='Metrics Over Time',\n",
        "                  xaxis_title='Date',\n",
        "                  yaxis_title='Count')\n",
        "\n",
        "fig.show()"
      ],
      "metadata": {
        "colab": {
          "base_uri": "https://localhost:8080/",
          "height": 542
        },
        "id": "2pYiYa2sk0yq",
        "outputId": "e8cb79e6-fed7-4b27-fcf1-cf97a487e717"
      },
      "execution_count": 13,
      "outputs": [
        {
          "output_type": "display_data",
          "data": {
            "text/html": [
              "<html>\n",
              "<head><meta charset=\"utf-8\" /></head>\n",
              "<body>\n",
              "    <div>            <script src=\"https://cdnjs.cloudflare.com/ajax/libs/mathjax/2.7.5/MathJax.js?config=TeX-AMS-MML_SVG\"></script><script type=\"text/javascript\">if (window.MathJax && window.MathJax.Hub && window.MathJax.Hub.Config) {window.MathJax.Hub.Config({SVG: {font: \"STIX-Web\"}});}</script>                <script type=\"text/javascript\">window.PlotlyConfig = {MathJaxConfig: 'local'};</script>\n",
              "        <script src=\"https://cdn.plot.ly/plotly-2.18.2.min.js\"></script>                <div id=\"dc87ef41-ef73-4410-bbef-ea39e3eaf8d0\" class=\"plotly-graph-div\" style=\"height:525px; width:100%;\"></div>            <script type=\"text/javascript\">                                    window.PLOTLYENV=window.PLOTLYENV || {};                                    if (document.getElementById(\"dc87ef41-ef73-4410-bbef-ea39e3eaf8d0\")) {                    Plotly.newPlot(                        \"dc87ef41-ef73-4410-bbef-ea39e3eaf8d0\",                        [{\"name\":\"Likes\",\"x\":[0,1,2,3,4,5,6,7,8,9,10,11,12,13,14,15,16,17,18,19,20,21,22,23,24,25,26,27,28,29,30,31,32,33,34,35,36,37,38,39,40,41,42,43,44,45,46,47,48,49,50,51,52,53,54,55,56,57,58,59,60,61,62,63,64,65,66,67,68,69,70,71,72,73,74,75,76,77,78,79,80,81,82,83,84,85,86,87,88,89,90,91,92,93,94,95,96,97,98,99,100,101,102,103,104,105,106,107,108,109,110,111,112,113,114,115,116,117,118],\"y\":[162,224,131,213,123,144,76,124,159,191,81,151,162,142,294,159,205,121,151,72,76,91,195,129,160,175,147,114,151,92,214,150,122,152,196,86,85,156,72,82,416,180,150,127,167,225,137,114,263,328,126,236,99,212,297,142,186,112,149,132,115,248,178,107,269,96,134,301,187,94,114,96,138,122,257,95,244,190,118,178,170,250,159,205,121,151,72,137,114,263,328,126,129,160,175,147,114,151,92,275,192,203,145,168,194,250,171,416,249,308,163,86,210,172,373,148,92,549,443],\"type\":\"scatter\"},{\"name\":\"Saves\",\"x\":[0,1,2,3,4,5,6,7,8,9,10,11,12,13,14,15,16,17,18,19,20,21,22,23,24,25,26,27,28,29,30,31,32,33,34,35,36,37,38,39,40,41,42,43,44,45,46,47,48,49,50,51,52,53,54,55,56,57,58,59,60,61,62,63,64,65,66,67,68,69,70,71,72,73,74,75,76,77,78,79,80,81,82,83,84,85,86,87,88,89,90,91,92,93,94,95,96,97,98,99,100,101,102,103,104,105,106,107,108,109,110,111,112,113,114,115,116,117,118],\"y\":[98,194,41,172,96,74,22,135,155,122,28,122,119,121,100,101,111,106,82,40,49,72,167,63,144,135,61,40,139,52,84,81,79,105,90,34,45,98,35,49,252,167,111,90,144,263,137,67,288,668,42,342,48,250,219,118,143,99,89,148,42,171,109,38,421,38,116,225,144,51,104,33,174,46,179,34,99,174,70,149,207,318,101,111,106,82,40,137,67,288,668,42,63,144,135,61,40,139,52,393,152,83,74,94,188,214,73,285,469,504,149,55,273,182,573,135,36,1095,653],\"type\":\"scatter\"},{\"name\":\"Follows\",\"x\":[0,1,2,3,4,5,6,7,8,9,10,11,12,13,14,15,16,17,18,19,20,21,22,23,24,25,26,27,28,29,30,31,32,33,34,35,36,37,38,39,40,41,42,43,44,45,46,47,48,49,50,51,52,53,54,55,56,57,58,59,60,61,62,63,64,65,66,67,68,69,70,71,72,73,74,75,76,77,78,79,80,81,82,83,84,85,86,87,88,89,90,91,92,93,94,95,96,97,98,99,100,101,102,103,104,105,106,107,108,109,110,111,112,113,114,115,116,117,118],\"y\":[2,10,12,8,0,2,0,6,4,6,4,0,2,4,42,6,2,2,30,0,0,24,100,2,4,6,6,6,2,2,20,2,4,8,26,2,2,4,0,2,94,8,18,10,4,4,4,4,18,38,10,12,4,4,74,0,6,6,0,6,12,10,8,8,46,12,10,94,6,10,6,4,12,16,12,8,32,8,16,6,10,10,6,2,2,30,0,4,4,18,38,10,2,4,6,6,6,2,2,14,8,14,28,18,12,34,26,260,16,96,20,30,58,100,80,18,10,214,228],\"type\":\"scatter\"}],                        {\"template\":{\"data\":{\"histogram2dcontour\":[{\"type\":\"histogram2dcontour\",\"colorbar\":{\"outlinewidth\":0,\"ticks\":\"\"},\"colorscale\":[[0.0,\"#0d0887\"],[0.1111111111111111,\"#46039f\"],[0.2222222222222222,\"#7201a8\"],[0.3333333333333333,\"#9c179e\"],[0.4444444444444444,\"#bd3786\"],[0.5555555555555556,\"#d8576b\"],[0.6666666666666666,\"#ed7953\"],[0.7777777777777778,\"#fb9f3a\"],[0.8888888888888888,\"#fdca26\"],[1.0,\"#f0f921\"]]}],\"choropleth\":[{\"type\":\"choropleth\",\"colorbar\":{\"outlinewidth\":0,\"ticks\":\"\"}}],\"histogram2d\":[{\"type\":\"histogram2d\",\"colorbar\":{\"outlinewidth\":0,\"ticks\":\"\"},\"colorscale\":[[0.0,\"#0d0887\"],[0.1111111111111111,\"#46039f\"],[0.2222222222222222,\"#7201a8\"],[0.3333333333333333,\"#9c179e\"],[0.4444444444444444,\"#bd3786\"],[0.5555555555555556,\"#d8576b\"],[0.6666666666666666,\"#ed7953\"],[0.7777777777777778,\"#fb9f3a\"],[0.8888888888888888,\"#fdca26\"],[1.0,\"#f0f921\"]]}],\"heatmap\":[{\"type\":\"heatmap\",\"colorbar\":{\"outlinewidth\":0,\"ticks\":\"\"},\"colorscale\":[[0.0,\"#0d0887\"],[0.1111111111111111,\"#46039f\"],[0.2222222222222222,\"#7201a8\"],[0.3333333333333333,\"#9c179e\"],[0.4444444444444444,\"#bd3786\"],[0.5555555555555556,\"#d8576b\"],[0.6666666666666666,\"#ed7953\"],[0.7777777777777778,\"#fb9f3a\"],[0.8888888888888888,\"#fdca26\"],[1.0,\"#f0f921\"]]}],\"heatmapgl\":[{\"type\":\"heatmapgl\",\"colorbar\":{\"outlinewidth\":0,\"ticks\":\"\"},\"colorscale\":[[0.0,\"#0d0887\"],[0.1111111111111111,\"#46039f\"],[0.2222222222222222,\"#7201a8\"],[0.3333333333333333,\"#9c179e\"],[0.4444444444444444,\"#bd3786\"],[0.5555555555555556,\"#d8576b\"],[0.6666666666666666,\"#ed7953\"],[0.7777777777777778,\"#fb9f3a\"],[0.8888888888888888,\"#fdca26\"],[1.0,\"#f0f921\"]]}],\"contourcarpet\":[{\"type\":\"contourcarpet\",\"colorbar\":{\"outlinewidth\":0,\"ticks\":\"\"}}],\"contour\":[{\"type\":\"contour\",\"colorbar\":{\"outlinewidth\":0,\"ticks\":\"\"},\"colorscale\":[[0.0,\"#0d0887\"],[0.1111111111111111,\"#46039f\"],[0.2222222222222222,\"#7201a8\"],[0.3333333333333333,\"#9c179e\"],[0.4444444444444444,\"#bd3786\"],[0.5555555555555556,\"#d8576b\"],[0.6666666666666666,\"#ed7953\"],[0.7777777777777778,\"#fb9f3a\"],[0.8888888888888888,\"#fdca26\"],[1.0,\"#f0f921\"]]}],\"surface\":[{\"type\":\"surface\",\"colorbar\":{\"outlinewidth\":0,\"ticks\":\"\"},\"colorscale\":[[0.0,\"#0d0887\"],[0.1111111111111111,\"#46039f\"],[0.2222222222222222,\"#7201a8\"],[0.3333333333333333,\"#9c179e\"],[0.4444444444444444,\"#bd3786\"],[0.5555555555555556,\"#d8576b\"],[0.6666666666666666,\"#ed7953\"],[0.7777777777777778,\"#fb9f3a\"],[0.8888888888888888,\"#fdca26\"],[1.0,\"#f0f921\"]]}],\"mesh3d\":[{\"type\":\"mesh3d\",\"colorbar\":{\"outlinewidth\":0,\"ticks\":\"\"}}],\"scatter\":[{\"fillpattern\":{\"fillmode\":\"overlay\",\"size\":10,\"solidity\":0.2},\"type\":\"scatter\"}],\"parcoords\":[{\"type\":\"parcoords\",\"line\":{\"colorbar\":{\"outlinewidth\":0,\"ticks\":\"\"}}}],\"scatterpolargl\":[{\"type\":\"scatterpolargl\",\"marker\":{\"colorbar\":{\"outlinewidth\":0,\"ticks\":\"\"}}}],\"bar\":[{\"error_x\":{\"color\":\"#2a3f5f\"},\"error_y\":{\"color\":\"#2a3f5f\"},\"marker\":{\"line\":{\"color\":\"white\",\"width\":0.5},\"pattern\":{\"fillmode\":\"overlay\",\"size\":10,\"solidity\":0.2}},\"type\":\"bar\"}],\"scattergeo\":[{\"type\":\"scattergeo\",\"marker\":{\"colorbar\":{\"outlinewidth\":0,\"ticks\":\"\"}}}],\"scatterpolar\":[{\"type\":\"scatterpolar\",\"marker\":{\"colorbar\":{\"outlinewidth\":0,\"ticks\":\"\"}}}],\"histogram\":[{\"marker\":{\"pattern\":{\"fillmode\":\"overlay\",\"size\":10,\"solidity\":0.2}},\"type\":\"histogram\"}],\"scattergl\":[{\"type\":\"scattergl\",\"marker\":{\"colorbar\":{\"outlinewidth\":0,\"ticks\":\"\"}}}],\"scatter3d\":[{\"type\":\"scatter3d\",\"line\":{\"colorbar\":{\"outlinewidth\":0,\"ticks\":\"\"}},\"marker\":{\"colorbar\":{\"outlinewidth\":0,\"ticks\":\"\"}}}],\"scattermapbox\":[{\"type\":\"scattermapbox\",\"marker\":{\"colorbar\":{\"outlinewidth\":0,\"ticks\":\"\"}}}],\"scatterternary\":[{\"type\":\"scatterternary\",\"marker\":{\"colorbar\":{\"outlinewidth\":0,\"ticks\":\"\"}}}],\"scattercarpet\":[{\"type\":\"scattercarpet\",\"marker\":{\"colorbar\":{\"outlinewidth\":0,\"ticks\":\"\"}}}],\"carpet\":[{\"aaxis\":{\"endlinecolor\":\"#2a3f5f\",\"gridcolor\":\"#C8D4E3\",\"linecolor\":\"#C8D4E3\",\"minorgridcolor\":\"#C8D4E3\",\"startlinecolor\":\"#2a3f5f\"},\"baxis\":{\"endlinecolor\":\"#2a3f5f\",\"gridcolor\":\"#C8D4E3\",\"linecolor\":\"#C8D4E3\",\"minorgridcolor\":\"#C8D4E3\",\"startlinecolor\":\"#2a3f5f\"},\"type\":\"carpet\"}],\"table\":[{\"cells\":{\"fill\":{\"color\":\"#EBF0F8\"},\"line\":{\"color\":\"white\"}},\"header\":{\"fill\":{\"color\":\"#C8D4E3\"},\"line\":{\"color\":\"white\"}},\"type\":\"table\"}],\"barpolar\":[{\"marker\":{\"line\":{\"color\":\"white\",\"width\":0.5},\"pattern\":{\"fillmode\":\"overlay\",\"size\":10,\"solidity\":0.2}},\"type\":\"barpolar\"}],\"pie\":[{\"automargin\":true,\"type\":\"pie\"}]},\"layout\":{\"autotypenumbers\":\"strict\",\"colorway\":[\"#636efa\",\"#EF553B\",\"#00cc96\",\"#ab63fa\",\"#FFA15A\",\"#19d3f3\",\"#FF6692\",\"#B6E880\",\"#FF97FF\",\"#FECB52\"],\"font\":{\"color\":\"#2a3f5f\"},\"hovermode\":\"closest\",\"hoverlabel\":{\"align\":\"left\"},\"paper_bgcolor\":\"white\",\"plot_bgcolor\":\"white\",\"polar\":{\"bgcolor\":\"white\",\"angularaxis\":{\"gridcolor\":\"#EBF0F8\",\"linecolor\":\"#EBF0F8\",\"ticks\":\"\"},\"radialaxis\":{\"gridcolor\":\"#EBF0F8\",\"linecolor\":\"#EBF0F8\",\"ticks\":\"\"}},\"ternary\":{\"bgcolor\":\"white\",\"aaxis\":{\"gridcolor\":\"#DFE8F3\",\"linecolor\":\"#A2B1C6\",\"ticks\":\"\"},\"baxis\":{\"gridcolor\":\"#DFE8F3\",\"linecolor\":\"#A2B1C6\",\"ticks\":\"\"},\"caxis\":{\"gridcolor\":\"#DFE8F3\",\"linecolor\":\"#A2B1C6\",\"ticks\":\"\"}},\"coloraxis\":{\"colorbar\":{\"outlinewidth\":0,\"ticks\":\"\"}},\"colorscale\":{\"sequential\":[[0.0,\"#0d0887\"],[0.1111111111111111,\"#46039f\"],[0.2222222222222222,\"#7201a8\"],[0.3333333333333333,\"#9c179e\"],[0.4444444444444444,\"#bd3786\"],[0.5555555555555556,\"#d8576b\"],[0.6666666666666666,\"#ed7953\"],[0.7777777777777778,\"#fb9f3a\"],[0.8888888888888888,\"#fdca26\"],[1.0,\"#f0f921\"]],\"sequentialminus\":[[0.0,\"#0d0887\"],[0.1111111111111111,\"#46039f\"],[0.2222222222222222,\"#7201a8\"],[0.3333333333333333,\"#9c179e\"],[0.4444444444444444,\"#bd3786\"],[0.5555555555555556,\"#d8576b\"],[0.6666666666666666,\"#ed7953\"],[0.7777777777777778,\"#fb9f3a\"],[0.8888888888888888,\"#fdca26\"],[1.0,\"#f0f921\"]],\"diverging\":[[0,\"#8e0152\"],[0.1,\"#c51b7d\"],[0.2,\"#de77ae\"],[0.3,\"#f1b6da\"],[0.4,\"#fde0ef\"],[0.5,\"#f7f7f7\"],[0.6,\"#e6f5d0\"],[0.7,\"#b8e186\"],[0.8,\"#7fbc41\"],[0.9,\"#4d9221\"],[1,\"#276419\"]]},\"xaxis\":{\"gridcolor\":\"#EBF0F8\",\"linecolor\":\"#EBF0F8\",\"ticks\":\"\",\"title\":{\"standoff\":15},\"zerolinecolor\":\"#EBF0F8\",\"automargin\":true,\"zerolinewidth\":2},\"yaxis\":{\"gridcolor\":\"#EBF0F8\",\"linecolor\":\"#EBF0F8\",\"ticks\":\"\",\"title\":{\"standoff\":15},\"zerolinecolor\":\"#EBF0F8\",\"automargin\":true,\"zerolinewidth\":2},\"scene\":{\"xaxis\":{\"backgroundcolor\":\"white\",\"gridcolor\":\"#DFE8F3\",\"linecolor\":\"#EBF0F8\",\"showbackground\":true,\"ticks\":\"\",\"zerolinecolor\":\"#EBF0F8\",\"gridwidth\":2},\"yaxis\":{\"backgroundcolor\":\"white\",\"gridcolor\":\"#DFE8F3\",\"linecolor\":\"#EBF0F8\",\"showbackground\":true,\"ticks\":\"\",\"zerolinecolor\":\"#EBF0F8\",\"gridwidth\":2},\"zaxis\":{\"backgroundcolor\":\"white\",\"gridcolor\":\"#DFE8F3\",\"linecolor\":\"#EBF0F8\",\"showbackground\":true,\"ticks\":\"\",\"zerolinecolor\":\"#EBF0F8\",\"gridwidth\":2}},\"shapedefaults\":{\"line\":{\"color\":\"#2a3f5f\"}},\"annotationdefaults\":{\"arrowcolor\":\"#2a3f5f\",\"arrowhead\":0,\"arrowwidth\":1},\"geo\":{\"bgcolor\":\"white\",\"landcolor\":\"white\",\"subunitcolor\":\"#C8D4E3\",\"showland\":true,\"showlakes\":true,\"lakecolor\":\"white\"},\"title\":{\"x\":0.05},\"mapbox\":{\"style\":\"light\"}}},\"title\":{\"text\":\"Metrics Over Time\"},\"xaxis\":{\"title\":{\"text\":\"Date\"}},\"yaxis\":{\"title\":{\"text\":\"Count\"}}},                        {\"responsive\": true}                    ).then(function(){\n",
              "                            \n",
              "var gd = document.getElementById('dc87ef41-ef73-4410-bbef-ea39e3eaf8d0');\n",
              "var x = new MutationObserver(function (mutations, observer) {{\n",
              "        var display = window.getComputedStyle(gd).display;\n",
              "        if (!display || display === 'none') {{\n",
              "            console.log([gd, 'removed!']);\n",
              "            Plotly.purge(gd);\n",
              "            observer.disconnect();\n",
              "        }}\n",
              "}});\n",
              "\n",
              "// Listen for the removal of the full notebook cells\n",
              "var notebookContainer = gd.closest('#notebook-container');\n",
              "if (notebookContainer) {{\n",
              "    x.observe(notebookContainer, {childList: true});\n",
              "}}\n",
              "\n",
              "// Listen for the clearing of the current output cell\n",
              "var outputEl = gd.closest('.output');\n",
              "if (outputEl) {{\n",
              "    x.observe(outputEl, {childList: true});\n",
              "}}\n",
              "\n",
              "                        })                };                            </script>        </div>\n",
              "</body>\n",
              "</html>"
            ]
          },
          "metadata": {}
        }
      ]
    },
    {
      "cell_type": "markdown",
      "source": [
        "- distribution of reach from different sources"
      ],
      "metadata": {
        "id": "Tva4H5BRlXTV"
      }
    },
    {
      "cell_type": "code",
      "source": [
        "reach_sources = ['From Home', 'From Hashtags', 'From Explore', 'From Other']\n",
        "reach_counts = [data[source].sum() for source in reach_sources]\n",
        "\n",
        "colors = ['#FFB6C1', '#87CEFA', '#90EE90', '#FFDAB9']\n",
        "\n",
        "fig = px.pie(data_frame=data, names=reach_sources,\n",
        "             values=reach_counts,\n",
        "             title='Reach from Different Sources',\n",
        "             color_discrete_sequence=colors)\n",
        "fig.show()"
      ],
      "metadata": {
        "colab": {
          "base_uri": "https://localhost:8080/",
          "height": 542
        },
        "id": "TN6SAMhelG9E",
        "outputId": "30d8cc80-39c3-4f5d-edcb-c21d1e6fe9c4"
      },
      "execution_count": 14,
      "outputs": [
        {
          "output_type": "display_data",
          "data": {
            "text/html": [
              "<html>\n",
              "<head><meta charset=\"utf-8\" /></head>\n",
              "<body>\n",
              "    <div>            <script src=\"https://cdnjs.cloudflare.com/ajax/libs/mathjax/2.7.5/MathJax.js?config=TeX-AMS-MML_SVG\"></script><script type=\"text/javascript\">if (window.MathJax && window.MathJax.Hub && window.MathJax.Hub.Config) {window.MathJax.Hub.Config({SVG: {font: \"STIX-Web\"}});}</script>                <script type=\"text/javascript\">window.PlotlyConfig = {MathJaxConfig: 'local'};</script>\n",
              "        <script src=\"https://cdn.plot.ly/plotly-2.18.2.min.js\"></script>                <div id=\"11334755-2c1e-4a28-ae2f-cabce15e777a\" class=\"plotly-graph-div\" style=\"height:525px; width:100%;\"></div>            <script type=\"text/javascript\">                                    window.PLOTLYENV=window.PLOTLYENV || {};                                    if (document.getElementById(\"11334755-2c1e-4a28-ae2f-cabce15e777a\")) {                    Plotly.newPlot(                        \"11334755-2c1e-4a28-ae2f-cabce15e777a\",                        [{\"domain\":{\"x\":[0.0,1.0],\"y\":[0.0,1.0]},\"hovertemplate\":\"label=%{label}<br>value=%{value}<extra></extra>\",\"labels\":[\"From Home\",\"From Hashtags\",\"From Explore\",\"From Other\"],\"legendgroup\":\"\",\"name\":\"\",\"showlegend\":true,\"values\":[294619,224614,128294,20360],\"type\":\"pie\"}],                        {\"template\":{\"data\":{\"histogram2dcontour\":[{\"type\":\"histogram2dcontour\",\"colorbar\":{\"outlinewidth\":0,\"ticks\":\"\"},\"colorscale\":[[0.0,\"#0d0887\"],[0.1111111111111111,\"#46039f\"],[0.2222222222222222,\"#7201a8\"],[0.3333333333333333,\"#9c179e\"],[0.4444444444444444,\"#bd3786\"],[0.5555555555555556,\"#d8576b\"],[0.6666666666666666,\"#ed7953\"],[0.7777777777777778,\"#fb9f3a\"],[0.8888888888888888,\"#fdca26\"],[1.0,\"#f0f921\"]]}],\"choropleth\":[{\"type\":\"choropleth\",\"colorbar\":{\"outlinewidth\":0,\"ticks\":\"\"}}],\"histogram2d\":[{\"type\":\"histogram2d\",\"colorbar\":{\"outlinewidth\":0,\"ticks\":\"\"},\"colorscale\":[[0.0,\"#0d0887\"],[0.1111111111111111,\"#46039f\"],[0.2222222222222222,\"#7201a8\"],[0.3333333333333333,\"#9c179e\"],[0.4444444444444444,\"#bd3786\"],[0.5555555555555556,\"#d8576b\"],[0.6666666666666666,\"#ed7953\"],[0.7777777777777778,\"#fb9f3a\"],[0.8888888888888888,\"#fdca26\"],[1.0,\"#f0f921\"]]}],\"heatmap\":[{\"type\":\"heatmap\",\"colorbar\":{\"outlinewidth\":0,\"ticks\":\"\"},\"colorscale\":[[0.0,\"#0d0887\"],[0.1111111111111111,\"#46039f\"],[0.2222222222222222,\"#7201a8\"],[0.3333333333333333,\"#9c179e\"],[0.4444444444444444,\"#bd3786\"],[0.5555555555555556,\"#d8576b\"],[0.6666666666666666,\"#ed7953\"],[0.7777777777777778,\"#fb9f3a\"],[0.8888888888888888,\"#fdca26\"],[1.0,\"#f0f921\"]]}],\"heatmapgl\":[{\"type\":\"heatmapgl\",\"colorbar\":{\"outlinewidth\":0,\"ticks\":\"\"},\"colorscale\":[[0.0,\"#0d0887\"],[0.1111111111111111,\"#46039f\"],[0.2222222222222222,\"#7201a8\"],[0.3333333333333333,\"#9c179e\"],[0.4444444444444444,\"#bd3786\"],[0.5555555555555556,\"#d8576b\"],[0.6666666666666666,\"#ed7953\"],[0.7777777777777778,\"#fb9f3a\"],[0.8888888888888888,\"#fdca26\"],[1.0,\"#f0f921\"]]}],\"contourcarpet\":[{\"type\":\"contourcarpet\",\"colorbar\":{\"outlinewidth\":0,\"ticks\":\"\"}}],\"contour\":[{\"type\":\"contour\",\"colorbar\":{\"outlinewidth\":0,\"ticks\":\"\"},\"colorscale\":[[0.0,\"#0d0887\"],[0.1111111111111111,\"#46039f\"],[0.2222222222222222,\"#7201a8\"],[0.3333333333333333,\"#9c179e\"],[0.4444444444444444,\"#bd3786\"],[0.5555555555555556,\"#d8576b\"],[0.6666666666666666,\"#ed7953\"],[0.7777777777777778,\"#fb9f3a\"],[0.8888888888888888,\"#fdca26\"],[1.0,\"#f0f921\"]]}],\"surface\":[{\"type\":\"surface\",\"colorbar\":{\"outlinewidth\":0,\"ticks\":\"\"},\"colorscale\":[[0.0,\"#0d0887\"],[0.1111111111111111,\"#46039f\"],[0.2222222222222222,\"#7201a8\"],[0.3333333333333333,\"#9c179e\"],[0.4444444444444444,\"#bd3786\"],[0.5555555555555556,\"#d8576b\"],[0.6666666666666666,\"#ed7953\"],[0.7777777777777778,\"#fb9f3a\"],[0.8888888888888888,\"#fdca26\"],[1.0,\"#f0f921\"]]}],\"mesh3d\":[{\"type\":\"mesh3d\",\"colorbar\":{\"outlinewidth\":0,\"ticks\":\"\"}}],\"scatter\":[{\"fillpattern\":{\"fillmode\":\"overlay\",\"size\":10,\"solidity\":0.2},\"type\":\"scatter\"}],\"parcoords\":[{\"type\":\"parcoords\",\"line\":{\"colorbar\":{\"outlinewidth\":0,\"ticks\":\"\"}}}],\"scatterpolargl\":[{\"type\":\"scatterpolargl\",\"marker\":{\"colorbar\":{\"outlinewidth\":0,\"ticks\":\"\"}}}],\"bar\":[{\"error_x\":{\"color\":\"#2a3f5f\"},\"error_y\":{\"color\":\"#2a3f5f\"},\"marker\":{\"line\":{\"color\":\"white\",\"width\":0.5},\"pattern\":{\"fillmode\":\"overlay\",\"size\":10,\"solidity\":0.2}},\"type\":\"bar\"}],\"scattergeo\":[{\"type\":\"scattergeo\",\"marker\":{\"colorbar\":{\"outlinewidth\":0,\"ticks\":\"\"}}}],\"scatterpolar\":[{\"type\":\"scatterpolar\",\"marker\":{\"colorbar\":{\"outlinewidth\":0,\"ticks\":\"\"}}}],\"histogram\":[{\"marker\":{\"pattern\":{\"fillmode\":\"overlay\",\"size\":10,\"solidity\":0.2}},\"type\":\"histogram\"}],\"scattergl\":[{\"type\":\"scattergl\",\"marker\":{\"colorbar\":{\"outlinewidth\":0,\"ticks\":\"\"}}}],\"scatter3d\":[{\"type\":\"scatter3d\",\"line\":{\"colorbar\":{\"outlinewidth\":0,\"ticks\":\"\"}},\"marker\":{\"colorbar\":{\"outlinewidth\":0,\"ticks\":\"\"}}}],\"scattermapbox\":[{\"type\":\"scattermapbox\",\"marker\":{\"colorbar\":{\"outlinewidth\":0,\"ticks\":\"\"}}}],\"scatterternary\":[{\"type\":\"scatterternary\",\"marker\":{\"colorbar\":{\"outlinewidth\":0,\"ticks\":\"\"}}}],\"scattercarpet\":[{\"type\":\"scattercarpet\",\"marker\":{\"colorbar\":{\"outlinewidth\":0,\"ticks\":\"\"}}}],\"carpet\":[{\"aaxis\":{\"endlinecolor\":\"#2a3f5f\",\"gridcolor\":\"#C8D4E3\",\"linecolor\":\"#C8D4E3\",\"minorgridcolor\":\"#C8D4E3\",\"startlinecolor\":\"#2a3f5f\"},\"baxis\":{\"endlinecolor\":\"#2a3f5f\",\"gridcolor\":\"#C8D4E3\",\"linecolor\":\"#C8D4E3\",\"minorgridcolor\":\"#C8D4E3\",\"startlinecolor\":\"#2a3f5f\"},\"type\":\"carpet\"}],\"table\":[{\"cells\":{\"fill\":{\"color\":\"#EBF0F8\"},\"line\":{\"color\":\"white\"}},\"header\":{\"fill\":{\"color\":\"#C8D4E3\"},\"line\":{\"color\":\"white\"}},\"type\":\"table\"}],\"barpolar\":[{\"marker\":{\"line\":{\"color\":\"white\",\"width\":0.5},\"pattern\":{\"fillmode\":\"overlay\",\"size\":10,\"solidity\":0.2}},\"type\":\"barpolar\"}],\"pie\":[{\"automargin\":true,\"type\":\"pie\"}]},\"layout\":{\"autotypenumbers\":\"strict\",\"colorway\":[\"#636efa\",\"#EF553B\",\"#00cc96\",\"#ab63fa\",\"#FFA15A\",\"#19d3f3\",\"#FF6692\",\"#B6E880\",\"#FF97FF\",\"#FECB52\"],\"font\":{\"color\":\"#2a3f5f\"},\"hovermode\":\"closest\",\"hoverlabel\":{\"align\":\"left\"},\"paper_bgcolor\":\"white\",\"plot_bgcolor\":\"white\",\"polar\":{\"bgcolor\":\"white\",\"angularaxis\":{\"gridcolor\":\"#EBF0F8\",\"linecolor\":\"#EBF0F8\",\"ticks\":\"\"},\"radialaxis\":{\"gridcolor\":\"#EBF0F8\",\"linecolor\":\"#EBF0F8\",\"ticks\":\"\"}},\"ternary\":{\"bgcolor\":\"white\",\"aaxis\":{\"gridcolor\":\"#DFE8F3\",\"linecolor\":\"#A2B1C6\",\"ticks\":\"\"},\"baxis\":{\"gridcolor\":\"#DFE8F3\",\"linecolor\":\"#A2B1C6\",\"ticks\":\"\"},\"caxis\":{\"gridcolor\":\"#DFE8F3\",\"linecolor\":\"#A2B1C6\",\"ticks\":\"\"}},\"coloraxis\":{\"colorbar\":{\"outlinewidth\":0,\"ticks\":\"\"}},\"colorscale\":{\"sequential\":[[0.0,\"#0d0887\"],[0.1111111111111111,\"#46039f\"],[0.2222222222222222,\"#7201a8\"],[0.3333333333333333,\"#9c179e\"],[0.4444444444444444,\"#bd3786\"],[0.5555555555555556,\"#d8576b\"],[0.6666666666666666,\"#ed7953\"],[0.7777777777777778,\"#fb9f3a\"],[0.8888888888888888,\"#fdca26\"],[1.0,\"#f0f921\"]],\"sequentialminus\":[[0.0,\"#0d0887\"],[0.1111111111111111,\"#46039f\"],[0.2222222222222222,\"#7201a8\"],[0.3333333333333333,\"#9c179e\"],[0.4444444444444444,\"#bd3786\"],[0.5555555555555556,\"#d8576b\"],[0.6666666666666666,\"#ed7953\"],[0.7777777777777778,\"#fb9f3a\"],[0.8888888888888888,\"#fdca26\"],[1.0,\"#f0f921\"]],\"diverging\":[[0,\"#8e0152\"],[0.1,\"#c51b7d\"],[0.2,\"#de77ae\"],[0.3,\"#f1b6da\"],[0.4,\"#fde0ef\"],[0.5,\"#f7f7f7\"],[0.6,\"#e6f5d0\"],[0.7,\"#b8e186\"],[0.8,\"#7fbc41\"],[0.9,\"#4d9221\"],[1,\"#276419\"]]},\"xaxis\":{\"gridcolor\":\"#EBF0F8\",\"linecolor\":\"#EBF0F8\",\"ticks\":\"\",\"title\":{\"standoff\":15},\"zerolinecolor\":\"#EBF0F8\",\"automargin\":true,\"zerolinewidth\":2},\"yaxis\":{\"gridcolor\":\"#EBF0F8\",\"linecolor\":\"#EBF0F8\",\"ticks\":\"\",\"title\":{\"standoff\":15},\"zerolinecolor\":\"#EBF0F8\",\"automargin\":true,\"zerolinewidth\":2},\"scene\":{\"xaxis\":{\"backgroundcolor\":\"white\",\"gridcolor\":\"#DFE8F3\",\"linecolor\":\"#EBF0F8\",\"showbackground\":true,\"ticks\":\"\",\"zerolinecolor\":\"#EBF0F8\",\"gridwidth\":2},\"yaxis\":{\"backgroundcolor\":\"white\",\"gridcolor\":\"#DFE8F3\",\"linecolor\":\"#EBF0F8\",\"showbackground\":true,\"ticks\":\"\",\"zerolinecolor\":\"#EBF0F8\",\"gridwidth\":2},\"zaxis\":{\"backgroundcolor\":\"white\",\"gridcolor\":\"#DFE8F3\",\"linecolor\":\"#EBF0F8\",\"showbackground\":true,\"ticks\":\"\",\"zerolinecolor\":\"#EBF0F8\",\"gridwidth\":2}},\"shapedefaults\":{\"line\":{\"color\":\"#2a3f5f\"}},\"annotationdefaults\":{\"arrowcolor\":\"#2a3f5f\",\"arrowhead\":0,\"arrowwidth\":1},\"geo\":{\"bgcolor\":\"white\",\"landcolor\":\"white\",\"subunitcolor\":\"#C8D4E3\",\"showland\":true,\"showlakes\":true,\"lakecolor\":\"white\"},\"title\":{\"x\":0.05},\"mapbox\":{\"style\":\"light\"}}},\"legend\":{\"tracegroupgap\":0},\"title\":{\"text\":\"Reach from Different Sources\"},\"piecolorway\":[\"#FFB6C1\",\"#87CEFA\",\"#90EE90\",\"#FFDAB9\"]},                        {\"responsive\": true}                    ).then(function(){\n",
              "                            \n",
              "var gd = document.getElementById('11334755-2c1e-4a28-ae2f-cabce15e777a');\n",
              "var x = new MutationObserver(function (mutations, observer) {{\n",
              "        var display = window.getComputedStyle(gd).display;\n",
              "        if (!display || display === 'none') {{\n",
              "            console.log([gd, 'removed!']);\n",
              "            Plotly.purge(gd);\n",
              "            observer.disconnect();\n",
              "        }}\n",
              "}});\n",
              "\n",
              "// Listen for the removal of the full notebook cells\n",
              "var notebookContainer = gd.closest('#notebook-container');\n",
              "if (notebookContainer) {{\n",
              "    x.observe(notebookContainer, {childList: true});\n",
              "}}\n",
              "\n",
              "// Listen for the clearing of the current output cell\n",
              "var outputEl = gd.closest('.output');\n",
              "if (outputEl) {{\n",
              "    x.observe(outputEl, {childList: true});\n",
              "}}\n",
              "\n",
              "                        })                };                            </script>        </div>\n",
              "</body>\n",
              "</html>"
            ]
          },
          "metadata": {}
        }
      ]
    },
    {
      "cell_type": "code",
      "source": [
        "# distribution of engagement sources\n",
        "engagement_metrics = ['Saves', 'Comments', 'Shares', 'Likes']\n",
        "engagement_counts = [data[metric].sum() for metric in engagement_metrics]\n",
        "\n",
        "colors = ['#FFB6C1', '#87CEFA', '#90EE90', '#FFDAB9']\n",
        "\n",
        "fig = px.pie(data_frame=data, names=engagement_metrics,\n",
        "             values=engagement_counts,\n",
        "             title='Engagement Sources',\n",
        "             color_discrete_sequence=colors)\n",
        "fig.show()"
      ],
      "metadata": {
        "colab": {
          "base_uri": "https://localhost:8080/",
          "height": 542
        },
        "id": "B0B-VTWXlfR1",
        "outputId": "e5375f86-b279-403b-f63d-d9e471289929"
      },
      "execution_count": 15,
      "outputs": [
        {
          "output_type": "display_data",
          "data": {
            "text/html": [
              "<html>\n",
              "<head><meta charset=\"utf-8\" /></head>\n",
              "<body>\n",
              "    <div>            <script src=\"https://cdnjs.cloudflare.com/ajax/libs/mathjax/2.7.5/MathJax.js?config=TeX-AMS-MML_SVG\"></script><script type=\"text/javascript\">if (window.MathJax && window.MathJax.Hub && window.MathJax.Hub.Config) {window.MathJax.Hub.Config({SVG: {font: \"STIX-Web\"}});}</script>                <script type=\"text/javascript\">window.PlotlyConfig = {MathJaxConfig: 'local'};</script>\n",
              "        <script src=\"https://cdn.plot.ly/plotly-2.18.2.min.js\"></script>                <div id=\"c6d9390d-81af-4f32-9dfc-63593852a3ba\" class=\"plotly-graph-div\" style=\"height:525px; width:100%;\"></div>            <script type=\"text/javascript\">                                    window.PLOTLYENV=window.PLOTLYENV || {};                                    if (document.getElementById(\"c6d9390d-81af-4f32-9dfc-63593852a3ba\")) {                    Plotly.newPlot(                        \"c6d9390d-81af-4f32-9dfc-63593852a3ba\",                        [{\"domain\":{\"x\":[0.0,1.0],\"y\":[0.0,1.0]},\"hovertemplate\":\"label=%{label}<br>value=%{value}<extra></extra>\",\"labels\":[\"Saves\",\"Comments\",\"Shares\",\"Likes\"],\"legendgroup\":\"\",\"name\":\"\",\"showlegend\":true,\"values\":[18244,793,1114,20680],\"type\":\"pie\"}],                        {\"template\":{\"data\":{\"histogram2dcontour\":[{\"type\":\"histogram2dcontour\",\"colorbar\":{\"outlinewidth\":0,\"ticks\":\"\"},\"colorscale\":[[0.0,\"#0d0887\"],[0.1111111111111111,\"#46039f\"],[0.2222222222222222,\"#7201a8\"],[0.3333333333333333,\"#9c179e\"],[0.4444444444444444,\"#bd3786\"],[0.5555555555555556,\"#d8576b\"],[0.6666666666666666,\"#ed7953\"],[0.7777777777777778,\"#fb9f3a\"],[0.8888888888888888,\"#fdca26\"],[1.0,\"#f0f921\"]]}],\"choropleth\":[{\"type\":\"choropleth\",\"colorbar\":{\"outlinewidth\":0,\"ticks\":\"\"}}],\"histogram2d\":[{\"type\":\"histogram2d\",\"colorbar\":{\"outlinewidth\":0,\"ticks\":\"\"},\"colorscale\":[[0.0,\"#0d0887\"],[0.1111111111111111,\"#46039f\"],[0.2222222222222222,\"#7201a8\"],[0.3333333333333333,\"#9c179e\"],[0.4444444444444444,\"#bd3786\"],[0.5555555555555556,\"#d8576b\"],[0.6666666666666666,\"#ed7953\"],[0.7777777777777778,\"#fb9f3a\"],[0.8888888888888888,\"#fdca26\"],[1.0,\"#f0f921\"]]}],\"heatmap\":[{\"type\":\"heatmap\",\"colorbar\":{\"outlinewidth\":0,\"ticks\":\"\"},\"colorscale\":[[0.0,\"#0d0887\"],[0.1111111111111111,\"#46039f\"],[0.2222222222222222,\"#7201a8\"],[0.3333333333333333,\"#9c179e\"],[0.4444444444444444,\"#bd3786\"],[0.5555555555555556,\"#d8576b\"],[0.6666666666666666,\"#ed7953\"],[0.7777777777777778,\"#fb9f3a\"],[0.8888888888888888,\"#fdca26\"],[1.0,\"#f0f921\"]]}],\"heatmapgl\":[{\"type\":\"heatmapgl\",\"colorbar\":{\"outlinewidth\":0,\"ticks\":\"\"},\"colorscale\":[[0.0,\"#0d0887\"],[0.1111111111111111,\"#46039f\"],[0.2222222222222222,\"#7201a8\"],[0.3333333333333333,\"#9c179e\"],[0.4444444444444444,\"#bd3786\"],[0.5555555555555556,\"#d8576b\"],[0.6666666666666666,\"#ed7953\"],[0.7777777777777778,\"#fb9f3a\"],[0.8888888888888888,\"#fdca26\"],[1.0,\"#f0f921\"]]}],\"contourcarpet\":[{\"type\":\"contourcarpet\",\"colorbar\":{\"outlinewidth\":0,\"ticks\":\"\"}}],\"contour\":[{\"type\":\"contour\",\"colorbar\":{\"outlinewidth\":0,\"ticks\":\"\"},\"colorscale\":[[0.0,\"#0d0887\"],[0.1111111111111111,\"#46039f\"],[0.2222222222222222,\"#7201a8\"],[0.3333333333333333,\"#9c179e\"],[0.4444444444444444,\"#bd3786\"],[0.5555555555555556,\"#d8576b\"],[0.6666666666666666,\"#ed7953\"],[0.7777777777777778,\"#fb9f3a\"],[0.8888888888888888,\"#fdca26\"],[1.0,\"#f0f921\"]]}],\"surface\":[{\"type\":\"surface\",\"colorbar\":{\"outlinewidth\":0,\"ticks\":\"\"},\"colorscale\":[[0.0,\"#0d0887\"],[0.1111111111111111,\"#46039f\"],[0.2222222222222222,\"#7201a8\"],[0.3333333333333333,\"#9c179e\"],[0.4444444444444444,\"#bd3786\"],[0.5555555555555556,\"#d8576b\"],[0.6666666666666666,\"#ed7953\"],[0.7777777777777778,\"#fb9f3a\"],[0.8888888888888888,\"#fdca26\"],[1.0,\"#f0f921\"]]}],\"mesh3d\":[{\"type\":\"mesh3d\",\"colorbar\":{\"outlinewidth\":0,\"ticks\":\"\"}}],\"scatter\":[{\"fillpattern\":{\"fillmode\":\"overlay\",\"size\":10,\"solidity\":0.2},\"type\":\"scatter\"}],\"parcoords\":[{\"type\":\"parcoords\",\"line\":{\"colorbar\":{\"outlinewidth\":0,\"ticks\":\"\"}}}],\"scatterpolargl\":[{\"type\":\"scatterpolargl\",\"marker\":{\"colorbar\":{\"outlinewidth\":0,\"ticks\":\"\"}}}],\"bar\":[{\"error_x\":{\"color\":\"#2a3f5f\"},\"error_y\":{\"color\":\"#2a3f5f\"},\"marker\":{\"line\":{\"color\":\"white\",\"width\":0.5},\"pattern\":{\"fillmode\":\"overlay\",\"size\":10,\"solidity\":0.2}},\"type\":\"bar\"}],\"scattergeo\":[{\"type\":\"scattergeo\",\"marker\":{\"colorbar\":{\"outlinewidth\":0,\"ticks\":\"\"}}}],\"scatterpolar\":[{\"type\":\"scatterpolar\",\"marker\":{\"colorbar\":{\"outlinewidth\":0,\"ticks\":\"\"}}}],\"histogram\":[{\"marker\":{\"pattern\":{\"fillmode\":\"overlay\",\"size\":10,\"solidity\":0.2}},\"type\":\"histogram\"}],\"scattergl\":[{\"type\":\"scattergl\",\"marker\":{\"colorbar\":{\"outlinewidth\":0,\"ticks\":\"\"}}}],\"scatter3d\":[{\"type\":\"scatter3d\",\"line\":{\"colorbar\":{\"outlinewidth\":0,\"ticks\":\"\"}},\"marker\":{\"colorbar\":{\"outlinewidth\":0,\"ticks\":\"\"}}}],\"scattermapbox\":[{\"type\":\"scattermapbox\",\"marker\":{\"colorbar\":{\"outlinewidth\":0,\"ticks\":\"\"}}}],\"scatterternary\":[{\"type\":\"scatterternary\",\"marker\":{\"colorbar\":{\"outlinewidth\":0,\"ticks\":\"\"}}}],\"scattercarpet\":[{\"type\":\"scattercarpet\",\"marker\":{\"colorbar\":{\"outlinewidth\":0,\"ticks\":\"\"}}}],\"carpet\":[{\"aaxis\":{\"endlinecolor\":\"#2a3f5f\",\"gridcolor\":\"#C8D4E3\",\"linecolor\":\"#C8D4E3\",\"minorgridcolor\":\"#C8D4E3\",\"startlinecolor\":\"#2a3f5f\"},\"baxis\":{\"endlinecolor\":\"#2a3f5f\",\"gridcolor\":\"#C8D4E3\",\"linecolor\":\"#C8D4E3\",\"minorgridcolor\":\"#C8D4E3\",\"startlinecolor\":\"#2a3f5f\"},\"type\":\"carpet\"}],\"table\":[{\"cells\":{\"fill\":{\"color\":\"#EBF0F8\"},\"line\":{\"color\":\"white\"}},\"header\":{\"fill\":{\"color\":\"#C8D4E3\"},\"line\":{\"color\":\"white\"}},\"type\":\"table\"}],\"barpolar\":[{\"marker\":{\"line\":{\"color\":\"white\",\"width\":0.5},\"pattern\":{\"fillmode\":\"overlay\",\"size\":10,\"solidity\":0.2}},\"type\":\"barpolar\"}],\"pie\":[{\"automargin\":true,\"type\":\"pie\"}]},\"layout\":{\"autotypenumbers\":\"strict\",\"colorway\":[\"#636efa\",\"#EF553B\",\"#00cc96\",\"#ab63fa\",\"#FFA15A\",\"#19d3f3\",\"#FF6692\",\"#B6E880\",\"#FF97FF\",\"#FECB52\"],\"font\":{\"color\":\"#2a3f5f\"},\"hovermode\":\"closest\",\"hoverlabel\":{\"align\":\"left\"},\"paper_bgcolor\":\"white\",\"plot_bgcolor\":\"white\",\"polar\":{\"bgcolor\":\"white\",\"angularaxis\":{\"gridcolor\":\"#EBF0F8\",\"linecolor\":\"#EBF0F8\",\"ticks\":\"\"},\"radialaxis\":{\"gridcolor\":\"#EBF0F8\",\"linecolor\":\"#EBF0F8\",\"ticks\":\"\"}},\"ternary\":{\"bgcolor\":\"white\",\"aaxis\":{\"gridcolor\":\"#DFE8F3\",\"linecolor\":\"#A2B1C6\",\"ticks\":\"\"},\"baxis\":{\"gridcolor\":\"#DFE8F3\",\"linecolor\":\"#A2B1C6\",\"ticks\":\"\"},\"caxis\":{\"gridcolor\":\"#DFE8F3\",\"linecolor\":\"#A2B1C6\",\"ticks\":\"\"}},\"coloraxis\":{\"colorbar\":{\"outlinewidth\":0,\"ticks\":\"\"}},\"colorscale\":{\"sequential\":[[0.0,\"#0d0887\"],[0.1111111111111111,\"#46039f\"],[0.2222222222222222,\"#7201a8\"],[0.3333333333333333,\"#9c179e\"],[0.4444444444444444,\"#bd3786\"],[0.5555555555555556,\"#d8576b\"],[0.6666666666666666,\"#ed7953\"],[0.7777777777777778,\"#fb9f3a\"],[0.8888888888888888,\"#fdca26\"],[1.0,\"#f0f921\"]],\"sequentialminus\":[[0.0,\"#0d0887\"],[0.1111111111111111,\"#46039f\"],[0.2222222222222222,\"#7201a8\"],[0.3333333333333333,\"#9c179e\"],[0.4444444444444444,\"#bd3786\"],[0.5555555555555556,\"#d8576b\"],[0.6666666666666666,\"#ed7953\"],[0.7777777777777778,\"#fb9f3a\"],[0.8888888888888888,\"#fdca26\"],[1.0,\"#f0f921\"]],\"diverging\":[[0,\"#8e0152\"],[0.1,\"#c51b7d\"],[0.2,\"#de77ae\"],[0.3,\"#f1b6da\"],[0.4,\"#fde0ef\"],[0.5,\"#f7f7f7\"],[0.6,\"#e6f5d0\"],[0.7,\"#b8e186\"],[0.8,\"#7fbc41\"],[0.9,\"#4d9221\"],[1,\"#276419\"]]},\"xaxis\":{\"gridcolor\":\"#EBF0F8\",\"linecolor\":\"#EBF0F8\",\"ticks\":\"\",\"title\":{\"standoff\":15},\"zerolinecolor\":\"#EBF0F8\",\"automargin\":true,\"zerolinewidth\":2},\"yaxis\":{\"gridcolor\":\"#EBF0F8\",\"linecolor\":\"#EBF0F8\",\"ticks\":\"\",\"title\":{\"standoff\":15},\"zerolinecolor\":\"#EBF0F8\",\"automargin\":true,\"zerolinewidth\":2},\"scene\":{\"xaxis\":{\"backgroundcolor\":\"white\",\"gridcolor\":\"#DFE8F3\",\"linecolor\":\"#EBF0F8\",\"showbackground\":true,\"ticks\":\"\",\"zerolinecolor\":\"#EBF0F8\",\"gridwidth\":2},\"yaxis\":{\"backgroundcolor\":\"white\",\"gridcolor\":\"#DFE8F3\",\"linecolor\":\"#EBF0F8\",\"showbackground\":true,\"ticks\":\"\",\"zerolinecolor\":\"#EBF0F8\",\"gridwidth\":2},\"zaxis\":{\"backgroundcolor\":\"white\",\"gridcolor\":\"#DFE8F3\",\"linecolor\":\"#EBF0F8\",\"showbackground\":true,\"ticks\":\"\",\"zerolinecolor\":\"#EBF0F8\",\"gridwidth\":2}},\"shapedefaults\":{\"line\":{\"color\":\"#2a3f5f\"}},\"annotationdefaults\":{\"arrowcolor\":\"#2a3f5f\",\"arrowhead\":0,\"arrowwidth\":1},\"geo\":{\"bgcolor\":\"white\",\"landcolor\":\"white\",\"subunitcolor\":\"#C8D4E3\",\"showland\":true,\"showlakes\":true,\"lakecolor\":\"white\"},\"title\":{\"x\":0.05},\"mapbox\":{\"style\":\"light\"}}},\"legend\":{\"tracegroupgap\":0},\"title\":{\"text\":\"Engagement Sources\"},\"piecolorway\":[\"#FFB6C1\",\"#87CEFA\",\"#90EE90\",\"#FFDAB9\"]},                        {\"responsive\": true}                    ).then(function(){\n",
              "                            \n",
              "var gd = document.getElementById('c6d9390d-81af-4f32-9dfc-63593852a3ba');\n",
              "var x = new MutationObserver(function (mutations, observer) {{\n",
              "        var display = window.getComputedStyle(gd).display;\n",
              "        if (!display || display === 'none') {{\n",
              "            console.log([gd, 'removed!']);\n",
              "            Plotly.purge(gd);\n",
              "            observer.disconnect();\n",
              "        }}\n",
              "}});\n",
              "\n",
              "// Listen for the removal of the full notebook cells\n",
              "var notebookContainer = gd.closest('#notebook-container');\n",
              "if (notebookContainer) {{\n",
              "    x.observe(notebookContainer, {childList: true});\n",
              "}}\n",
              "\n",
              "// Listen for the clearing of the current output cell\n",
              "var outputEl = gd.closest('.output');\n",
              "if (outputEl) {{\n",
              "    x.observe(outputEl, {childList: true});\n",
              "}}\n",
              "\n",
              "                        })                };                            </script>        </div>\n",
              "</body>\n",
              "</html>"
            ]
          },
          "metadata": {}
        }
      ]
    },
    {
      "cell_type": "markdown",
      "source": [
        "- relationship between the number of profile visits and follows"
      ],
      "metadata": {
        "id": "Jr77ks6JmcH_"
      }
    },
    {
      "cell_type": "code",
      "source": [
        "fig = px.scatter(data,\n",
        "                 x='Profile Visits',\n",
        "                 y='Follows',\n",
        "                 trendline = 'ols',\n",
        "                 title='Profile Visits vs. Follows')\n",
        "fig.show()"
      ],
      "metadata": {
        "colab": {
          "base_uri": "https://localhost:8080/",
          "height": 542
        },
        "id": "ATJ7A5G0mTbS",
        "outputId": "a6503a06-d403-4ec3-f609-173dfe51c862"
      },
      "execution_count": 16,
      "outputs": [
        {
          "output_type": "display_data",
          "data": {
            "text/html": [
              "<html>\n",
              "<head><meta charset=\"utf-8\" /></head>\n",
              "<body>\n",
              "    <div>            <script src=\"https://cdnjs.cloudflare.com/ajax/libs/mathjax/2.7.5/MathJax.js?config=TeX-AMS-MML_SVG\"></script><script type=\"text/javascript\">if (window.MathJax && window.MathJax.Hub && window.MathJax.Hub.Config) {window.MathJax.Hub.Config({SVG: {font: \"STIX-Web\"}});}</script>                <script type=\"text/javascript\">window.PlotlyConfig = {MathJaxConfig: 'local'};</script>\n",
              "        <script src=\"https://cdn.plot.ly/plotly-2.18.2.min.js\"></script>                <div id=\"bfe305ae-bdd4-48cb-98bd-a802bdb3c844\" class=\"plotly-graph-div\" style=\"height:525px; width:100%;\"></div>            <script type=\"text/javascript\">                                    window.PLOTLYENV=window.PLOTLYENV || {};                                    if (document.getElementById(\"bfe305ae-bdd4-48cb-98bd-a802bdb3c844\")) {                    Plotly.newPlot(                        \"bfe305ae-bdd4-48cb-98bd-a802bdb3c844\",                        [{\"hovertemplate\":\"Profile Visits=%{x}<br>Follows=%{y}<extra></extra>\",\"legendgroup\":\"\",\"marker\":{\"color\":\"#636efa\",\"symbol\":\"circle\"},\"mode\":\"markers\",\"name\":\"\",\"orientation\":\"v\",\"showlegend\":false,\"x\":[35,48,62,23,8,9,26,12,36,31,29,15,8,20,181,17,16,21,77,10,9,11,144,14,10,19,69,11,19,9,57,13,11,24,81,4,7,14,18,8,330,21,19,32,19,21,14,30,39,42,31,20,12,22,306,13,26,16,15,15,39,21,8,45,50,37,25,347,26,48,16,26,17,52,22,41,155,12,22,20,23,25,17,16,21,77,10,14,30,39,42,31,14,10,19,69,11,19,9,38,42,92,75,21,26,39,74,467,24,70,22,46,61,237,73,20,34,148,611],\"xaxis\":\"x\",\"y\":[2,10,12,8,0,2,0,6,4,6,4,0,2,4,42,6,2,2,30,0,0,24,100,2,4,6,6,6,2,2,20,2,4,8,26,2,2,4,0,2,94,8,18,10,4,4,4,4,18,38,10,12,4,4,74,0,6,6,0,6,12,10,8,8,46,12,10,94,6,10,6,4,12,16,12,8,32,8,16,6,10,10,6,2,2,30,0,4,4,18,38,10,2,4,6,6,6,2,2,14,8,14,28,18,12,34,26,260,16,96,20,30,58,100,80,18,10,214,228],\"yaxis\":\"y\",\"type\":\"scatter\"},{\"hovertemplate\":\"<b>OLS trendline</b><br>Follows = 0.400884 * Profile Visits + 0.46283<br>R<sup>2</sup>=0.727868<br><br>Profile Visits=%{x}<br>Follows=%{y} <b>(trend)</b><extra></extra>\",\"legendgroup\":\"\",\"marker\":{\"color\":\"#636efa\",\"symbol\":\"circle\"},\"mode\":\"lines\",\"name\":\"\",\"showlegend\":false,\"x\":[4,7,8,8,8,8,9,9,9,9,10,10,10,10,11,11,11,11,12,12,12,13,13,14,14,14,14,14,15,15,15,16,16,16,16,17,17,17,18,19,19,19,19,19,19,20,20,20,20,21,21,21,21,21,21,22,22,22,22,23,23,24,24,25,25,26,26,26,26,26,29,30,30,31,31,31,32,34,35,36,37,38,39,39,39,39,41,42,42,42,45,46,48,48,50,52,57,61,62,69,69,70,73,74,75,77,77,81,92,144,148,155,181,237,306,330,347,467,611],\"xaxis\":\"x\",\"y\":[2.066365070422533,3.269016056338026,3.669899718309857,3.669899718309857,3.669899718309857,3.669899718309857,4.0707833802816875,4.0707833802816875,4.0707833802816875,4.0707833802816875,4.471667042253519,4.471667042253519,4.471667042253519,4.471667042253519,4.87255070422535,4.87255070422535,4.87255070422535,4.87255070422535,5.273434366197181,5.273434366197181,5.273434366197181,5.6743180281690115,5.6743180281690115,6.075201690140843,6.075201690140843,6.075201690140843,6.075201690140843,6.075201690140843,6.476085352112674,6.476085352112674,6.476085352112674,6.876969014084505,6.876969014084505,6.876969014084505,6.876969014084505,7.277852676056336,7.277852676056336,7.277852676056336,7.678736338028167,8.079619999999998,8.079619999999998,8.079619999999998,8.079619999999998,8.079619999999998,8.079619999999998,8.480503661971829,8.480503661971829,8.480503661971829,8.480503661971829,8.88138732394366,8.88138732394366,8.88138732394366,8.88138732394366,8.88138732394366,8.88138732394366,9.282270985915492,9.282270985915492,9.282270985915492,9.282270985915492,9.683154647887322,9.683154647887322,10.084038309859153,10.084038309859153,10.484921971830984,10.484921971830984,10.885805633802814,10.885805633802814,10.885805633802814,10.885805633802814,10.885805633802814,12.088456619718308,12.48934028169014,12.48934028169014,12.89022394366197,12.89022394366197,12.89022394366197,13.291107605633801,14.092874929577462,14.493758591549295,14.894642253521125,15.295525915492956,15.696409577464788,16.097293239436617,16.097293239436617,16.097293239436617,16.097293239436617,16.89906056338028,17.29994422535211,17.29994422535211,17.29994422535211,18.502595211267604,18.903478873239436,19.705246197183097,19.705246197183097,20.50701352112676,21.30878084507042,23.313199154929578,24.9167338028169,25.317617464788732,28.123803098591548,28.123803098591548,28.52468676056338,29.727337746478874,30.128221408450703,30.529105070422535,31.330872394366196,31.330872394366196,32.934407042253525,37.34412732394367,58.19007774647888,59.79361239436619,62.59979802816902,73.02277323943662,95.47225830985916,123.13323098591549,132.75443887323945,139.56946112676056,187.6755005633803,245.40274788732395],\"yaxis\":\"y\",\"type\":\"scatter\"}],                        {\"template\":{\"data\":{\"histogram2dcontour\":[{\"type\":\"histogram2dcontour\",\"colorbar\":{\"outlinewidth\":0,\"ticks\":\"\"},\"colorscale\":[[0.0,\"#0d0887\"],[0.1111111111111111,\"#46039f\"],[0.2222222222222222,\"#7201a8\"],[0.3333333333333333,\"#9c179e\"],[0.4444444444444444,\"#bd3786\"],[0.5555555555555556,\"#d8576b\"],[0.6666666666666666,\"#ed7953\"],[0.7777777777777778,\"#fb9f3a\"],[0.8888888888888888,\"#fdca26\"],[1.0,\"#f0f921\"]]}],\"choropleth\":[{\"type\":\"choropleth\",\"colorbar\":{\"outlinewidth\":0,\"ticks\":\"\"}}],\"histogram2d\":[{\"type\":\"histogram2d\",\"colorbar\":{\"outlinewidth\":0,\"ticks\":\"\"},\"colorscale\":[[0.0,\"#0d0887\"],[0.1111111111111111,\"#46039f\"],[0.2222222222222222,\"#7201a8\"],[0.3333333333333333,\"#9c179e\"],[0.4444444444444444,\"#bd3786\"],[0.5555555555555556,\"#d8576b\"],[0.6666666666666666,\"#ed7953\"],[0.7777777777777778,\"#fb9f3a\"],[0.8888888888888888,\"#fdca26\"],[1.0,\"#f0f921\"]]}],\"heatmap\":[{\"type\":\"heatmap\",\"colorbar\":{\"outlinewidth\":0,\"ticks\":\"\"},\"colorscale\":[[0.0,\"#0d0887\"],[0.1111111111111111,\"#46039f\"],[0.2222222222222222,\"#7201a8\"],[0.3333333333333333,\"#9c179e\"],[0.4444444444444444,\"#bd3786\"],[0.5555555555555556,\"#d8576b\"],[0.6666666666666666,\"#ed7953\"],[0.7777777777777778,\"#fb9f3a\"],[0.8888888888888888,\"#fdca26\"],[1.0,\"#f0f921\"]]}],\"heatmapgl\":[{\"type\":\"heatmapgl\",\"colorbar\":{\"outlinewidth\":0,\"ticks\":\"\"},\"colorscale\":[[0.0,\"#0d0887\"],[0.1111111111111111,\"#46039f\"],[0.2222222222222222,\"#7201a8\"],[0.3333333333333333,\"#9c179e\"],[0.4444444444444444,\"#bd3786\"],[0.5555555555555556,\"#d8576b\"],[0.6666666666666666,\"#ed7953\"],[0.7777777777777778,\"#fb9f3a\"],[0.8888888888888888,\"#fdca26\"],[1.0,\"#f0f921\"]]}],\"contourcarpet\":[{\"type\":\"contourcarpet\",\"colorbar\":{\"outlinewidth\":0,\"ticks\":\"\"}}],\"contour\":[{\"type\":\"contour\",\"colorbar\":{\"outlinewidth\":0,\"ticks\":\"\"},\"colorscale\":[[0.0,\"#0d0887\"],[0.1111111111111111,\"#46039f\"],[0.2222222222222222,\"#7201a8\"],[0.3333333333333333,\"#9c179e\"],[0.4444444444444444,\"#bd3786\"],[0.5555555555555556,\"#d8576b\"],[0.6666666666666666,\"#ed7953\"],[0.7777777777777778,\"#fb9f3a\"],[0.8888888888888888,\"#fdca26\"],[1.0,\"#f0f921\"]]}],\"surface\":[{\"type\":\"surface\",\"colorbar\":{\"outlinewidth\":0,\"ticks\":\"\"},\"colorscale\":[[0.0,\"#0d0887\"],[0.1111111111111111,\"#46039f\"],[0.2222222222222222,\"#7201a8\"],[0.3333333333333333,\"#9c179e\"],[0.4444444444444444,\"#bd3786\"],[0.5555555555555556,\"#d8576b\"],[0.6666666666666666,\"#ed7953\"],[0.7777777777777778,\"#fb9f3a\"],[0.8888888888888888,\"#fdca26\"],[1.0,\"#f0f921\"]]}],\"mesh3d\":[{\"type\":\"mesh3d\",\"colorbar\":{\"outlinewidth\":0,\"ticks\":\"\"}}],\"scatter\":[{\"fillpattern\":{\"fillmode\":\"overlay\",\"size\":10,\"solidity\":0.2},\"type\":\"scatter\"}],\"parcoords\":[{\"type\":\"parcoords\",\"line\":{\"colorbar\":{\"outlinewidth\":0,\"ticks\":\"\"}}}],\"scatterpolargl\":[{\"type\":\"scatterpolargl\",\"marker\":{\"colorbar\":{\"outlinewidth\":0,\"ticks\":\"\"}}}],\"bar\":[{\"error_x\":{\"color\":\"#2a3f5f\"},\"error_y\":{\"color\":\"#2a3f5f\"},\"marker\":{\"line\":{\"color\":\"white\",\"width\":0.5},\"pattern\":{\"fillmode\":\"overlay\",\"size\":10,\"solidity\":0.2}},\"type\":\"bar\"}],\"scattergeo\":[{\"type\":\"scattergeo\",\"marker\":{\"colorbar\":{\"outlinewidth\":0,\"ticks\":\"\"}}}],\"scatterpolar\":[{\"type\":\"scatterpolar\",\"marker\":{\"colorbar\":{\"outlinewidth\":0,\"ticks\":\"\"}}}],\"histogram\":[{\"marker\":{\"pattern\":{\"fillmode\":\"overlay\",\"size\":10,\"solidity\":0.2}},\"type\":\"histogram\"}],\"scattergl\":[{\"type\":\"scattergl\",\"marker\":{\"colorbar\":{\"outlinewidth\":0,\"ticks\":\"\"}}}],\"scatter3d\":[{\"type\":\"scatter3d\",\"line\":{\"colorbar\":{\"outlinewidth\":0,\"ticks\":\"\"}},\"marker\":{\"colorbar\":{\"outlinewidth\":0,\"ticks\":\"\"}}}],\"scattermapbox\":[{\"type\":\"scattermapbox\",\"marker\":{\"colorbar\":{\"outlinewidth\":0,\"ticks\":\"\"}}}],\"scatterternary\":[{\"type\":\"scatterternary\",\"marker\":{\"colorbar\":{\"outlinewidth\":0,\"ticks\":\"\"}}}],\"scattercarpet\":[{\"type\":\"scattercarpet\",\"marker\":{\"colorbar\":{\"outlinewidth\":0,\"ticks\":\"\"}}}],\"carpet\":[{\"aaxis\":{\"endlinecolor\":\"#2a3f5f\",\"gridcolor\":\"#C8D4E3\",\"linecolor\":\"#C8D4E3\",\"minorgridcolor\":\"#C8D4E3\",\"startlinecolor\":\"#2a3f5f\"},\"baxis\":{\"endlinecolor\":\"#2a3f5f\",\"gridcolor\":\"#C8D4E3\",\"linecolor\":\"#C8D4E3\",\"minorgridcolor\":\"#C8D4E3\",\"startlinecolor\":\"#2a3f5f\"},\"type\":\"carpet\"}],\"table\":[{\"cells\":{\"fill\":{\"color\":\"#EBF0F8\"},\"line\":{\"color\":\"white\"}},\"header\":{\"fill\":{\"color\":\"#C8D4E3\"},\"line\":{\"color\":\"white\"}},\"type\":\"table\"}],\"barpolar\":[{\"marker\":{\"line\":{\"color\":\"white\",\"width\":0.5},\"pattern\":{\"fillmode\":\"overlay\",\"size\":10,\"solidity\":0.2}},\"type\":\"barpolar\"}],\"pie\":[{\"automargin\":true,\"type\":\"pie\"}]},\"layout\":{\"autotypenumbers\":\"strict\",\"colorway\":[\"#636efa\",\"#EF553B\",\"#00cc96\",\"#ab63fa\",\"#FFA15A\",\"#19d3f3\",\"#FF6692\",\"#B6E880\",\"#FF97FF\",\"#FECB52\"],\"font\":{\"color\":\"#2a3f5f\"},\"hovermode\":\"closest\",\"hoverlabel\":{\"align\":\"left\"},\"paper_bgcolor\":\"white\",\"plot_bgcolor\":\"white\",\"polar\":{\"bgcolor\":\"white\",\"angularaxis\":{\"gridcolor\":\"#EBF0F8\",\"linecolor\":\"#EBF0F8\",\"ticks\":\"\"},\"radialaxis\":{\"gridcolor\":\"#EBF0F8\",\"linecolor\":\"#EBF0F8\",\"ticks\":\"\"}},\"ternary\":{\"bgcolor\":\"white\",\"aaxis\":{\"gridcolor\":\"#DFE8F3\",\"linecolor\":\"#A2B1C6\",\"ticks\":\"\"},\"baxis\":{\"gridcolor\":\"#DFE8F3\",\"linecolor\":\"#A2B1C6\",\"ticks\":\"\"},\"caxis\":{\"gridcolor\":\"#DFE8F3\",\"linecolor\":\"#A2B1C6\",\"ticks\":\"\"}},\"coloraxis\":{\"colorbar\":{\"outlinewidth\":0,\"ticks\":\"\"}},\"colorscale\":{\"sequential\":[[0.0,\"#0d0887\"],[0.1111111111111111,\"#46039f\"],[0.2222222222222222,\"#7201a8\"],[0.3333333333333333,\"#9c179e\"],[0.4444444444444444,\"#bd3786\"],[0.5555555555555556,\"#d8576b\"],[0.6666666666666666,\"#ed7953\"],[0.7777777777777778,\"#fb9f3a\"],[0.8888888888888888,\"#fdca26\"],[1.0,\"#f0f921\"]],\"sequentialminus\":[[0.0,\"#0d0887\"],[0.1111111111111111,\"#46039f\"],[0.2222222222222222,\"#7201a8\"],[0.3333333333333333,\"#9c179e\"],[0.4444444444444444,\"#bd3786\"],[0.5555555555555556,\"#d8576b\"],[0.6666666666666666,\"#ed7953\"],[0.7777777777777778,\"#fb9f3a\"],[0.8888888888888888,\"#fdca26\"],[1.0,\"#f0f921\"]],\"diverging\":[[0,\"#8e0152\"],[0.1,\"#c51b7d\"],[0.2,\"#de77ae\"],[0.3,\"#f1b6da\"],[0.4,\"#fde0ef\"],[0.5,\"#f7f7f7\"],[0.6,\"#e6f5d0\"],[0.7,\"#b8e186\"],[0.8,\"#7fbc41\"],[0.9,\"#4d9221\"],[1,\"#276419\"]]},\"xaxis\":{\"gridcolor\":\"#EBF0F8\",\"linecolor\":\"#EBF0F8\",\"ticks\":\"\",\"title\":{\"standoff\":15},\"zerolinecolor\":\"#EBF0F8\",\"automargin\":true,\"zerolinewidth\":2},\"yaxis\":{\"gridcolor\":\"#EBF0F8\",\"linecolor\":\"#EBF0F8\",\"ticks\":\"\",\"title\":{\"standoff\":15},\"zerolinecolor\":\"#EBF0F8\",\"automargin\":true,\"zerolinewidth\":2},\"scene\":{\"xaxis\":{\"backgroundcolor\":\"white\",\"gridcolor\":\"#DFE8F3\",\"linecolor\":\"#EBF0F8\",\"showbackground\":true,\"ticks\":\"\",\"zerolinecolor\":\"#EBF0F8\",\"gridwidth\":2},\"yaxis\":{\"backgroundcolor\":\"white\",\"gridcolor\":\"#DFE8F3\",\"linecolor\":\"#EBF0F8\",\"showbackground\":true,\"ticks\":\"\",\"zerolinecolor\":\"#EBF0F8\",\"gridwidth\":2},\"zaxis\":{\"backgroundcolor\":\"white\",\"gridcolor\":\"#DFE8F3\",\"linecolor\":\"#EBF0F8\",\"showbackground\":true,\"ticks\":\"\",\"zerolinecolor\":\"#EBF0F8\",\"gridwidth\":2}},\"shapedefaults\":{\"line\":{\"color\":\"#2a3f5f\"}},\"annotationdefaults\":{\"arrowcolor\":\"#2a3f5f\",\"arrowhead\":0,\"arrowwidth\":1},\"geo\":{\"bgcolor\":\"white\",\"landcolor\":\"white\",\"subunitcolor\":\"#C8D4E3\",\"showland\":true,\"showlakes\":true,\"lakecolor\":\"white\"},\"title\":{\"x\":0.05},\"mapbox\":{\"style\":\"light\"}}},\"xaxis\":{\"anchor\":\"y\",\"domain\":[0.0,1.0],\"title\":{\"text\":\"Profile Visits\"}},\"yaxis\":{\"anchor\":\"x\",\"domain\":[0.0,1.0],\"title\":{\"text\":\"Follows\"}},\"legend\":{\"tracegroupgap\":0},\"title\":{\"text\":\"Profile Visits vs. Follows\"}},                        {\"responsive\": true}                    ).then(function(){\n",
              "                            \n",
              "var gd = document.getElementById('bfe305ae-bdd4-48cb-98bd-a802bdb3c844');\n",
              "var x = new MutationObserver(function (mutations, observer) {{\n",
              "        var display = window.getComputedStyle(gd).display;\n",
              "        if (!display || display === 'none') {{\n",
              "            console.log([gd, 'removed!']);\n",
              "            Plotly.purge(gd);\n",
              "            observer.disconnect();\n",
              "        }}\n",
              "}});\n",
              "\n",
              "// Listen for the removal of the full notebook cells\n",
              "var notebookContainer = gd.closest('#notebook-container');\n",
              "if (notebookContainer) {{\n",
              "    x.observe(notebookContainer, {childList: true});\n",
              "}}\n",
              "\n",
              "// Listen for the clearing of the current output cell\n",
              "var outputEl = gd.closest('.output');\n",
              "if (outputEl) {{\n",
              "    x.observe(outputEl, {childList: true});\n",
              "}}\n",
              "\n",
              "                        })                };                            </script>        </div>\n",
              "</body>\n",
              "</html>"
            ]
          },
          "metadata": {}
        }
      ]
    },
    {
      "cell_type": "code",
      "source": [
        "#type of hashtags used in the posts using a wordcloud\n",
        "from wordcloud import WordCloud\n",
        "\n",
        "hashtags = ' '.join(data['Hashtags'].astype(str))\n",
        "wordcloud = WordCloud().generate(hashtags)\n",
        "\n",
        "fig = px.imshow(wordcloud, title='Hashtags Word Cloud')\n",
        "fig.show()"
      ],
      "metadata": {
        "colab": {
          "base_uri": "https://localhost:8080/",
          "height": 542
        },
        "id": "FcFw8ullmrjN",
        "outputId": "f6724661-1ec0-44e6-9943-da2ea069cd21"
      },
      "execution_count": 17,
      "outputs": [
        {
          "output_type": "display_data",
          "data": {
            "text/html": [
              "<html>\n",
              "<head><meta charset=\"utf-8\" /></head>\n",
              "<body>\n",
              "    <div>            <script src=\"https://cdnjs.cloudflare.com/ajax/libs/mathjax/2.7.5/MathJax.js?config=TeX-AMS-MML_SVG\"></script><script type=\"text/javascript\">if (window.MathJax && window.MathJax.Hub && window.MathJax.Hub.Config) {window.MathJax.Hub.Config({SVG: {font: \"STIX-Web\"}});}</script>                <script type=\"text/javascript\">window.PlotlyConfig = {MathJaxConfig: 'local'};</script>\n",
              "        <script src=\"https://cdn.plot.ly/plotly-2.18.2.min.js\"></script>                <div id=\"e3cd9be0-acc8-44d5-b6ed-1c8e940e051c\" class=\"plotly-graph-div\" style=\"height:525px; width:100%;\"></div>            <script type=\"text/javascript\">                                    window.PLOTLYENV=window.PLOTLYENV || {};                                    if (document.getElementById(\"e3cd9be0-acc8-44d5-b6ed-1c8e940e051c\")) {                    Plotly.newPlot(                        \"e3cd9be0-acc8-44d5-b6ed-1c8e940e051c\",                        [{\"name\":\"0\",\"source\":\"data:image/png;base64,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\",\"type\":\"image\",\"xaxis\":\"x\",\"yaxis\":\"y\",\"hovertemplate\":\"x: %{x}<br>y: %{y}<br>color: [%{z[0]}, %{z[1]}, %{z[2]}]<extra></extra>\"}],                        {\"template\":{\"data\":{\"histogram2dcontour\":[{\"type\":\"histogram2dcontour\",\"colorbar\":{\"outlinewidth\":0,\"ticks\":\"\"},\"colorscale\":[[0.0,\"#0d0887\"],[0.1111111111111111,\"#46039f\"],[0.2222222222222222,\"#7201a8\"],[0.3333333333333333,\"#9c179e\"],[0.4444444444444444,\"#bd3786\"],[0.5555555555555556,\"#d8576b\"],[0.6666666666666666,\"#ed7953\"],[0.7777777777777778,\"#fb9f3a\"],[0.8888888888888888,\"#fdca26\"],[1.0,\"#f0f921\"]]}],\"choropleth\":[{\"type\":\"choropleth\",\"colorbar\":{\"outlinewidth\":0,\"ticks\":\"\"}}],\"histogram2d\":[{\"type\":\"histogram2d\",\"colorbar\":{\"outlinewidth\":0,\"ticks\":\"\"},\"colorscale\":[[0.0,\"#0d0887\"],[0.1111111111111111,\"#46039f\"],[0.2222222222222222,\"#7201a8\"],[0.3333333333333333,\"#9c179e\"],[0.4444444444444444,\"#bd3786\"],[0.5555555555555556,\"#d8576b\"],[0.6666666666666666,\"#ed7953\"],[0.7777777777777778,\"#fb9f3a\"],[0.8888888888888888,\"#fdca26\"],[1.0,\"#f0f921\"]]}],\"heatmap\":[{\"type\":\"heatmap\",\"colorbar\":{\"outlinewidth\":0,\"ticks\":\"\"},\"colorscale\":[[0.0,\"#0d0887\"],[0.1111111111111111,\"#46039f\"],[0.2222222222222222,\"#7201a8\"],[0.3333333333333333,\"#9c179e\"],[0.4444444444444444,\"#bd3786\"],[0.5555555555555556,\"#d8576b\"],[0.6666666666666666,\"#ed7953\"],[0.7777777777777778,\"#fb9f3a\"],[0.8888888888888888,\"#fdca26\"],[1.0,\"#f0f921\"]]}],\"heatmapgl\":[{\"type\":\"heatmapgl\",\"colorbar\":{\"outlinewidth\":0,\"ticks\":\"\"},\"colorscale\":[[0.0,\"#0d0887\"],[0.1111111111111111,\"#46039f\"],[0.2222222222222222,\"#7201a8\"],[0.3333333333333333,\"#9c179e\"],[0.4444444444444444,\"#bd3786\"],[0.5555555555555556,\"#d8576b\"],[0.6666666666666666,\"#ed7953\"],[0.7777777777777778,\"#fb9f3a\"],[0.8888888888888888,\"#fdca26\"],[1.0,\"#f0f921\"]]}],\"contourcarpet\":[{\"type\":\"contourcarpet\",\"colorbar\":{\"outlinewidth\":0,\"ticks\":\"\"}}],\"contour\":[{\"type\":\"contour\",\"colorbar\":{\"outlinewidth\":0,\"ticks\":\"\"},\"colorscale\":[[0.0,\"#0d0887\"],[0.1111111111111111,\"#46039f\"],[0.2222222222222222,\"#7201a8\"],[0.3333333333333333,\"#9c179e\"],[0.4444444444444444,\"#bd3786\"],[0.5555555555555556,\"#d8576b\"],[0.6666666666666666,\"#ed7953\"],[0.7777777777777778,\"#fb9f3a\"],[0.8888888888888888,\"#fdca26\"],[1.0,\"#f0f921\"]]}],\"surface\":[{\"type\":\"surface\",\"colorbar\":{\"outlinewidth\":0,\"ticks\":\"\"},\"colorscale\":[[0.0,\"#0d0887\"],[0.1111111111111111,\"#46039f\"],[0.2222222222222222,\"#7201a8\"],[0.3333333333333333,\"#9c179e\"],[0.4444444444444444,\"#bd3786\"],[0.5555555555555556,\"#d8576b\"],[0.6666666666666666,\"#ed7953\"],[0.7777777777777778,\"#fb9f3a\"],[0.8888888888888888,\"#fdca26\"],[1.0,\"#f0f921\"]]}],\"mesh3d\":[{\"type\":\"mesh3d\",\"colorbar\":{\"outlinewidth\":0,\"ticks\":\"\"}}],\"scatter\":[{\"fillpattern\":{\"fillmode\":\"overlay\",\"size\":10,\"solidity\":0.2},\"type\":\"scatter\"}],\"parcoords\":[{\"type\":\"parcoords\",\"line\":{\"colorbar\":{\"outlinewidth\":0,\"ticks\":\"\"}}}],\"scatterpolargl\":[{\"type\":\"scatterpolargl\",\"marker\":{\"colorbar\":{\"outlinewidth\":0,\"ticks\":\"\"}}}],\"bar\":[{\"error_x\":{\"color\":\"#2a3f5f\"},\"error_y\":{\"color\":\"#2a3f5f\"},\"marker\":{\"line\":{\"color\":\"white\",\"width\":0.5},\"pattern\":{\"fillmode\":\"overlay\",\"size\":10,\"solidity\":0.2}},\"type\":\"bar\"}],\"scattergeo\":[{\"type\":\"scattergeo\",\"marker\":{\"colorbar\":{\"outlinewidth\":0,\"ticks\":\"\"}}}],\"scatterpolar\":[{\"type\":\"scatterpolar\",\"marker\":{\"colorbar\":{\"outlinewidth\":0,\"ticks\":\"\"}}}],\"histogram\":[{\"marker\":{\"pattern\":{\"fillmode\":\"overlay\",\"size\":10,\"solidity\":0.2}},\"type\":\"histogram\"}],\"scattergl\":[{\"type\":\"scattergl\",\"marker\":{\"colorbar\":{\"outlinewidth\":0,\"ticks\":\"\"}}}],\"scatter3d\":[{\"type\":\"scatter3d\",\"line\":{\"colorbar\":{\"outlinewidth\":0,\"ticks\":\"\"}},\"marker\":{\"colorbar\":{\"outlinewidth\":0,\"ticks\":\"\"}}}],\"scattermapbox\":[{\"type\":\"scattermapbox\",\"marker\":{\"colorbar\":{\"outlinewidth\":0,\"ticks\":\"\"}}}],\"scatterternary\":[{\"type\":\"scatterternary\",\"marker\":{\"colorbar\":{\"outlinewidth\":0,\"ticks\":\"\"}}}],\"scattercarpet\":[{\"type\":\"scattercarpet\",\"marker\":{\"colorbar\":{\"outlinewidth\":0,\"ticks\":\"\"}}}],\"carpet\":[{\"aaxis\":{\"endlinecolor\":\"#2a3f5f\",\"gridcolor\":\"#C8D4E3\",\"linecolor\":\"#C8D4E3\",\"minorgridcolor\":\"#C8D4E3\",\"startlinecolor\":\"#2a3f5f\"},\"baxis\":{\"endlinecolor\":\"#2a3f5f\",\"gridcolor\":\"#C8D4E3\",\"linecolor\":\"#C8D4E3\",\"minorgridcolor\":\"#C8D4E3\",\"startlinecolor\":\"#2a3f5f\"},\"type\":\"carpet\"}],\"table\":[{\"cells\":{\"fill\":{\"color\":\"#EBF0F8\"},\"line\":{\"color\":\"white\"}},\"header\":{\"fill\":{\"color\":\"#C8D4E3\"},\"line\":{\"color\":\"white\"}},\"type\":\"table\"}],\"barpolar\":[{\"marker\":{\"line\":{\"color\":\"white\",\"width\":0.5},\"pattern\":{\"fillmode\":\"overlay\",\"size\":10,\"solidity\":0.2}},\"type\":\"barpolar\"}],\"pie\":[{\"automargin\":true,\"type\":\"pie\"}]},\"layout\":{\"autotypenumbers\":\"strict\",\"colorway\":[\"#636efa\",\"#EF553B\",\"#00cc96\",\"#ab63fa\",\"#FFA15A\",\"#19d3f3\",\"#FF6692\",\"#B6E880\",\"#FF97FF\",\"#FECB52\"],\"font\":{\"color\":\"#2a3f5f\"},\"hovermode\":\"closest\",\"hoverlabel\":{\"align\":\"left\"},\"paper_bgcolor\":\"white\",\"plot_bgcolor\":\"white\",\"polar\":{\"bgcolor\":\"white\",\"angularaxis\":{\"gridcolor\":\"#EBF0F8\",\"linecolor\":\"#EBF0F8\",\"ticks\":\"\"},\"radialaxis\":{\"gridcolor\":\"#EBF0F8\",\"linecolor\":\"#EBF0F8\",\"ticks\":\"\"}},\"ternary\":{\"bgcolor\":\"white\",\"aaxis\":{\"gridcolor\":\"#DFE8F3\",\"linecolor\":\"#A2B1C6\",\"ticks\":\"\"},\"baxis\":{\"gridcolor\":\"#DFE8F3\",\"linecolor\":\"#A2B1C6\",\"ticks\":\"\"},\"caxis\":{\"gridcolor\":\"#DFE8F3\",\"linecolor\":\"#A2B1C6\",\"ticks\":\"\"}},\"coloraxis\":{\"colorbar\":{\"outlinewidth\":0,\"ticks\":\"\"}},\"colorscale\":{\"sequential\":[[0.0,\"#0d0887\"],[0.1111111111111111,\"#46039f\"],[0.2222222222222222,\"#7201a8\"],[0.3333333333333333,\"#9c179e\"],[0.4444444444444444,\"#bd3786\"],[0.5555555555555556,\"#d8576b\"],[0.6666666666666666,\"#ed7953\"],[0.7777777777777778,\"#fb9f3a\"],[0.8888888888888888,\"#fdca26\"],[1.0,\"#f0f921\"]],\"sequentialminus\":[[0.0,\"#0d0887\"],[0.1111111111111111,\"#46039f\"],[0.2222222222222222,\"#7201a8\"],[0.3333333333333333,\"#9c179e\"],[0.4444444444444444,\"#bd3786\"],[0.5555555555555556,\"#d8576b\"],[0.6666666666666666,\"#ed7953\"],[0.7777777777777778,\"#fb9f3a\"],[0.8888888888888888,\"#fdca26\"],[1.0,\"#f0f921\"]],\"diverging\":[[0,\"#8e0152\"],[0.1,\"#c51b7d\"],[0.2,\"#de77ae\"],[0.3,\"#f1b6da\"],[0.4,\"#fde0ef\"],[0.5,\"#f7f7f7\"],[0.6,\"#e6f5d0\"],[0.7,\"#b8e186\"],[0.8,\"#7fbc41\"],[0.9,\"#4d9221\"],[1,\"#276419\"]]},\"xaxis\":{\"gridcolor\":\"#EBF0F8\",\"linecolor\":\"#EBF0F8\",\"ticks\":\"\",\"title\":{\"standoff\":15},\"zerolinecolor\":\"#EBF0F8\",\"automargin\":true,\"zerolinewidth\":2},\"yaxis\":{\"gridcolor\":\"#EBF0F8\",\"linecolor\":\"#EBF0F8\",\"ticks\":\"\",\"title\":{\"standoff\":15},\"zerolinecolor\":\"#EBF0F8\",\"automargin\":true,\"zerolinewidth\":2},\"scene\":{\"xaxis\":{\"backgroundcolor\":\"white\",\"gridcolor\":\"#DFE8F3\",\"linecolor\":\"#EBF0F8\",\"showbackground\":true,\"ticks\":\"\",\"zerolinecolor\":\"#EBF0F8\",\"gridwidth\":2},\"yaxis\":{\"backgroundcolor\":\"white\",\"gridcolor\":\"#DFE8F3\",\"linecolor\":\"#EBF0F8\",\"showbackground\":true,\"ticks\":\"\",\"zerolinecolor\":\"#EBF0F8\",\"gridwidth\":2},\"zaxis\":{\"backgroundcolor\":\"white\",\"gridcolor\":\"#DFE8F3\",\"linecolor\":\"#EBF0F8\",\"showbackground\":true,\"ticks\":\"\",\"zerolinecolor\":\"#EBF0F8\",\"gridwidth\":2}},\"shapedefaults\":{\"line\":{\"color\":\"#2a3f5f\"}},\"annotationdefaults\":{\"arrowcolor\":\"#2a3f5f\",\"arrowhead\":0,\"arrowwidth\":1},\"geo\":{\"bgcolor\":\"white\",\"landcolor\":\"white\",\"subunitcolor\":\"#C8D4E3\",\"showland\":true,\"showlakes\":true,\"lakecolor\":\"white\"},\"title\":{\"x\":0.05},\"mapbox\":{\"style\":\"light\"}}},\"xaxis\":{\"anchor\":\"y\",\"domain\":[0.0,1.0]},\"yaxis\":{\"anchor\":\"x\",\"domain\":[0.0,1.0]},\"title\":{\"text\":\"Hashtags Word Cloud\"}},                        {\"responsive\": true}                    ).then(function(){\n",
              "                            \n",
              "var gd = document.getElementById('e3cd9be0-acc8-44d5-b6ed-1c8e940e051c');\n",
              "var x = new MutationObserver(function (mutations, observer) {{\n",
              "        var display = window.getComputedStyle(gd).display;\n",
              "        if (!display || display === 'none') {{\n",
              "            console.log([gd, 'removed!']);\n",
              "            Plotly.purge(gd);\n",
              "            observer.disconnect();\n",
              "        }}\n",
              "}});\n",
              "\n",
              "// Listen for the removal of the full notebook cells\n",
              "var notebookContainer = gd.closest('#notebook-container');\n",
              "if (notebookContainer) {{\n",
              "    x.observe(notebookContainer, {childList: true});\n",
              "}}\n",
              "\n",
              "// Listen for the clearing of the current output cell\n",
              "var outputEl = gd.closest('.output');\n",
              "if (outputEl) {{\n",
              "    x.observe(outputEl, {childList: true});\n",
              "}}\n",
              "\n",
              "                        })                };                            </script>        </div>\n",
              "</body>\n",
              "</html>"
            ]
          },
          "metadata": {}
        }
      ]
    },
    {
      "cell_type": "code",
      "source": [
        "corr_matrix = data.corr()\n",
        "\n",
        "fig = go.Figure(data=go.Heatmap(z=corr_matrix.values,\n",
        "                               x=corr_matrix.columns,\n",
        "                               y=corr_matrix.index,\n",
        "                               colorscale='RdBu',\n",
        "                               zmin=-1,\n",
        "                               zmax=1))\n",
        "\n",
        "fig.update_layout(title='Correlation Matrix',\n",
        "                  xaxis_title='Features',\n",
        "                  yaxis_title='Features')\n",
        "\n",
        "fig.show()"
      ],
      "metadata": {
        "colab": {
          "base_uri": "https://localhost:8080/",
          "height": 631
        },
        "id": "BTmdWDASnAJ7",
        "outputId": "64e37583-994f-4b9e-cbb5-d05a736f4670"
      },
      "execution_count": 18,
      "outputs": [
        {
          "output_type": "stream",
          "name": "stderr",
          "text": [
            "<ipython-input-18-79fad2c29126>:1: FutureWarning:\n",
            "\n",
            "The default value of numeric_only in DataFrame.corr is deprecated. In a future version, it will default to False. Select only valid columns or specify the value of numeric_only to silence this warning.\n",
            "\n"
          ]
        },
        {
          "output_type": "display_data",
          "data": {
            "text/html": [
              "<html>\n",
              "<head><meta charset=\"utf-8\" /></head>\n",
              "<body>\n",
              "    <div>            <script src=\"https://cdnjs.cloudflare.com/ajax/libs/mathjax/2.7.5/MathJax.js?config=TeX-AMS-MML_SVG\"></script><script type=\"text/javascript\">if (window.MathJax && window.MathJax.Hub && window.MathJax.Hub.Config) {window.MathJax.Hub.Config({SVG: {font: \"STIX-Web\"}});}</script>                <script type=\"text/javascript\">window.PlotlyConfig = {MathJaxConfig: 'local'};</script>\n",
              "        <script src=\"https://cdn.plot.ly/plotly-2.18.2.min.js\"></script>                <div id=\"755d1d05-d7f7-4439-b0a0-6594fe5bb3c6\" class=\"plotly-graph-div\" style=\"height:525px; width:100%;\"></div>            <script type=\"text/javascript\">                                    window.PLOTLYENV=window.PLOTLYENV || {};                                    if (document.getElementById(\"755d1d05-d7f7-4439-b0a0-6594fe5bb3c6\")) {                    Plotly.newPlot(                        \"755d1d05-d7f7-4439-b0a0-6594fe5bb3c6\",                        [{\"colorscale\":[[0.0,\"rgb(103,0,31)\"],[0.1,\"rgb(178,24,43)\"],[0.2,\"rgb(214,96,77)\"],[0.3,\"rgb(244,165,130)\"],[0.4,\"rgb(253,219,199)\"],[0.5,\"rgb(247,247,247)\"],[0.6,\"rgb(209,229,240)\"],[0.7,\"rgb(146,197,222)\"],[0.8,\"rgb(67,147,195)\"],[0.9,\"rgb(33,102,172)\"],[1.0,\"rgb(5,48,97)\"]],\"x\":[\"Impressions\",\"From Home\",\"From Hashtags\",\"From Explore\",\"From Other\",\"Saves\",\"Comments\",\"Shares\",\"Likes\",\"Profile Visits\",\"Follows\"],\"y\":[\"Impressions\",\"From Home\",\"From Hashtags\",\"From Explore\",\"From Other\",\"Saves\",\"Comments\",\"Shares\",\"Likes\",\"Profile Visits\",\"Follows\"],\"z\":[[1.0,0.8446984764644079,0.5607600444158378,0.8936074202433567,0.5929604758091378,0.7792314114268593,-0.028523933548663824,0.6346751252181763,0.8498353377178177,0.7609809286546657,0.8893634430344086],[0.8446984764644079,1.0,0.1775156543309878,0.800573110578866,0.5556659551465412,0.768817005684724,0.012716248342545502,0.6749850448685393,0.698329637893805,0.531076205366268,0.6726750588858736],[0.5607600444158378,0.1775156543309878,1.0,0.1904532189703739,0.2296233181732429,0.30592870314657494,0.1614388259073108,0.21951145515685286,0.6621242000877943,0.6913449048454711,0.5554854735531087],[0.8936074202433567,0.800573110578866,0.1904532189703739,1.0,0.49568473618614567,0.7478028035868068,-0.15856537914498336,0.6157309658741993,0.653699336224973,0.5318502558055156,0.7960189422044351],[0.5929604758091378,0.5556659551465412,0.2296233181732429,0.49568473618614567,1.0,0.3319068864386735,-0.1087029734222875,0.15683375635736396,0.3935104122090607,0.6330799446255249,0.5467370225356449],[0.7792314114268593,0.768817005684724,0.30592870314657494,0.7478028035868068,0.3319068864386735,1.0,-0.026912263707560984,0.860324185158795,0.8456432932068351,0.36062821319868793,0.6284608823148304],[-0.028523933548663824,0.012716248342545502,0.1614388259073108,-0.15856537914498336,-0.1087029734222875,-0.026912263707560984,1.0,0.016932532855360494,0.1235861027264814,0.09671424134518669,-0.060630774375331827],[0.6346751252181763,0.6749850448685393,0.21951145515685286,0.6157309658741993,0.15683375635736396,0.860324185158795,0.016932532855360494,1.0,0.707794002688105,0.24536082330737743,0.4930698051158401],[0.8498353377178177,0.698329637893805,0.6621242000877943,0.653699336224973,0.3935104122090607,0.8456432932068351,0.1235861027264814,0.707794002688105,1.0,0.6261070345218044,0.746333165592919],[0.7609809286546657,0.531076205366268,0.6913449048454711,0.5318502558055156,0.6330799446255249,0.36062821319868793,0.09671424134518669,0.24536082330737743,0.6261070345218044,1.0,0.8531517459145104],[0.8893634430344086,0.6726750588858736,0.5554854735531087,0.7960189422044351,0.5467370225356449,0.6284608823148304,-0.060630774375331827,0.4930698051158401,0.746333165592919,0.8531517459145104,1.0]],\"zmax\":1,\"zmin\":-1,\"type\":\"heatmap\"}],                        {\"template\":{\"data\":{\"histogram2dcontour\":[{\"type\":\"histogram2dcontour\",\"colorbar\":{\"outlinewidth\":0,\"ticks\":\"\"},\"colorscale\":[[0.0,\"#0d0887\"],[0.1111111111111111,\"#46039f\"],[0.2222222222222222,\"#7201a8\"],[0.3333333333333333,\"#9c179e\"],[0.4444444444444444,\"#bd3786\"],[0.5555555555555556,\"#d8576b\"],[0.6666666666666666,\"#ed7953\"],[0.7777777777777778,\"#fb9f3a\"],[0.8888888888888888,\"#fdca26\"],[1.0,\"#f0f921\"]]}],\"choropleth\":[{\"type\":\"choropleth\",\"colorbar\":{\"outlinewidth\":0,\"ticks\":\"\"}}],\"histogram2d\":[{\"type\":\"histogram2d\",\"colorbar\":{\"outlinewidth\":0,\"ticks\":\"\"},\"colorscale\":[[0.0,\"#0d0887\"],[0.1111111111111111,\"#46039f\"],[0.2222222222222222,\"#7201a8\"],[0.3333333333333333,\"#9c179e\"],[0.4444444444444444,\"#bd3786\"],[0.5555555555555556,\"#d8576b\"],[0.6666666666666666,\"#ed7953\"],[0.7777777777777778,\"#fb9f3a\"],[0.8888888888888888,\"#fdca26\"],[1.0,\"#f0f921\"]]}],\"heatmap\":[{\"type\":\"heatmap\",\"colorbar\":{\"outlinewidth\":0,\"ticks\":\"\"},\"colorscale\":[[0.0,\"#0d0887\"],[0.1111111111111111,\"#46039f\"],[0.2222222222222222,\"#7201a8\"],[0.3333333333333333,\"#9c179e\"],[0.4444444444444444,\"#bd3786\"],[0.5555555555555556,\"#d8576b\"],[0.6666666666666666,\"#ed7953\"],[0.7777777777777778,\"#fb9f3a\"],[0.8888888888888888,\"#fdca26\"],[1.0,\"#f0f921\"]]}],\"heatmapgl\":[{\"type\":\"heatmapgl\",\"colorbar\":{\"outlinewidth\":0,\"ticks\":\"\"},\"colorscale\":[[0.0,\"#0d0887\"],[0.1111111111111111,\"#46039f\"],[0.2222222222222222,\"#7201a8\"],[0.3333333333333333,\"#9c179e\"],[0.4444444444444444,\"#bd3786\"],[0.5555555555555556,\"#d8576b\"],[0.6666666666666666,\"#ed7953\"],[0.7777777777777778,\"#fb9f3a\"],[0.8888888888888888,\"#fdca26\"],[1.0,\"#f0f921\"]]}],\"contourcarpet\":[{\"type\":\"contourcarpet\",\"colorbar\":{\"outlinewidth\":0,\"ticks\":\"\"}}],\"contour\":[{\"type\":\"contour\",\"colorbar\":{\"outlinewidth\":0,\"ticks\":\"\"},\"colorscale\":[[0.0,\"#0d0887\"],[0.1111111111111111,\"#46039f\"],[0.2222222222222222,\"#7201a8\"],[0.3333333333333333,\"#9c179e\"],[0.4444444444444444,\"#bd3786\"],[0.5555555555555556,\"#d8576b\"],[0.6666666666666666,\"#ed7953\"],[0.7777777777777778,\"#fb9f3a\"],[0.8888888888888888,\"#fdca26\"],[1.0,\"#f0f921\"]]}],\"surface\":[{\"type\":\"surface\",\"colorbar\":{\"outlinewidth\":0,\"ticks\":\"\"},\"colorscale\":[[0.0,\"#0d0887\"],[0.1111111111111111,\"#46039f\"],[0.2222222222222222,\"#7201a8\"],[0.3333333333333333,\"#9c179e\"],[0.4444444444444444,\"#bd3786\"],[0.5555555555555556,\"#d8576b\"],[0.6666666666666666,\"#ed7953\"],[0.7777777777777778,\"#fb9f3a\"],[0.8888888888888888,\"#fdca26\"],[1.0,\"#f0f921\"]]}],\"mesh3d\":[{\"type\":\"mesh3d\",\"colorbar\":{\"outlinewidth\":0,\"ticks\":\"\"}}],\"scatter\":[{\"fillpattern\":{\"fillmode\":\"overlay\",\"size\":10,\"solidity\":0.2},\"type\":\"scatter\"}],\"parcoords\":[{\"type\":\"parcoords\",\"line\":{\"colorbar\":{\"outlinewidth\":0,\"ticks\":\"\"}}}],\"scatterpolargl\":[{\"type\":\"scatterpolargl\",\"marker\":{\"colorbar\":{\"outlinewidth\":0,\"ticks\":\"\"}}}],\"bar\":[{\"error_x\":{\"color\":\"#2a3f5f\"},\"error_y\":{\"color\":\"#2a3f5f\"},\"marker\":{\"line\":{\"color\":\"white\",\"width\":0.5},\"pattern\":{\"fillmode\":\"overlay\",\"size\":10,\"solidity\":0.2}},\"type\":\"bar\"}],\"scattergeo\":[{\"type\":\"scattergeo\",\"marker\":{\"colorbar\":{\"outlinewidth\":0,\"ticks\":\"\"}}}],\"scatterpolar\":[{\"type\":\"scatterpolar\",\"marker\":{\"colorbar\":{\"outlinewidth\":0,\"ticks\":\"\"}}}],\"histogram\":[{\"marker\":{\"pattern\":{\"fillmode\":\"overlay\",\"size\":10,\"solidity\":0.2}},\"type\":\"histogram\"}],\"scattergl\":[{\"type\":\"scattergl\",\"marker\":{\"colorbar\":{\"outlinewidth\":0,\"ticks\":\"\"}}}],\"scatter3d\":[{\"type\":\"scatter3d\",\"line\":{\"colorbar\":{\"outlinewidth\":0,\"ticks\":\"\"}},\"marker\":{\"colorbar\":{\"outlinewidth\":0,\"ticks\":\"\"}}}],\"scattermapbox\":[{\"type\":\"scattermapbox\",\"marker\":{\"colorbar\":{\"outlinewidth\":0,\"ticks\":\"\"}}}],\"scatterternary\":[{\"type\":\"scatterternary\",\"marker\":{\"colorbar\":{\"outlinewidth\":0,\"ticks\":\"\"}}}],\"scattercarpet\":[{\"type\":\"scattercarpet\",\"marker\":{\"colorbar\":{\"outlinewidth\":0,\"ticks\":\"\"}}}],\"carpet\":[{\"aaxis\":{\"endlinecolor\":\"#2a3f5f\",\"gridcolor\":\"#C8D4E3\",\"linecolor\":\"#C8D4E3\",\"minorgridcolor\":\"#C8D4E3\",\"startlinecolor\":\"#2a3f5f\"},\"baxis\":{\"endlinecolor\":\"#2a3f5f\",\"gridcolor\":\"#C8D4E3\",\"linecolor\":\"#C8D4E3\",\"minorgridcolor\":\"#C8D4E3\",\"startlinecolor\":\"#2a3f5f\"},\"type\":\"carpet\"}],\"table\":[{\"cells\":{\"fill\":{\"color\":\"#EBF0F8\"},\"line\":{\"color\":\"white\"}},\"header\":{\"fill\":{\"color\":\"#C8D4E3\"},\"line\":{\"color\":\"white\"}},\"type\":\"table\"}],\"barpolar\":[{\"marker\":{\"line\":{\"color\":\"white\",\"width\":0.5},\"pattern\":{\"fillmode\":\"overlay\",\"size\":10,\"solidity\":0.2}},\"type\":\"barpolar\"}],\"pie\":[{\"automargin\":true,\"type\":\"pie\"}]},\"layout\":{\"autotypenumbers\":\"strict\",\"colorway\":[\"#636efa\",\"#EF553B\",\"#00cc96\",\"#ab63fa\",\"#FFA15A\",\"#19d3f3\",\"#FF6692\",\"#B6E880\",\"#FF97FF\",\"#FECB52\"],\"font\":{\"color\":\"#2a3f5f\"},\"hovermode\":\"closest\",\"hoverlabel\":{\"align\":\"left\"},\"paper_bgcolor\":\"white\",\"plot_bgcolor\":\"white\",\"polar\":{\"bgcolor\":\"white\",\"angularaxis\":{\"gridcolor\":\"#EBF0F8\",\"linecolor\":\"#EBF0F8\",\"ticks\":\"\"},\"radialaxis\":{\"gridcolor\":\"#EBF0F8\",\"linecolor\":\"#EBF0F8\",\"ticks\":\"\"}},\"ternary\":{\"bgcolor\":\"white\",\"aaxis\":{\"gridcolor\":\"#DFE8F3\",\"linecolor\":\"#A2B1C6\",\"ticks\":\"\"},\"baxis\":{\"gridcolor\":\"#DFE8F3\",\"linecolor\":\"#A2B1C6\",\"ticks\":\"\"},\"caxis\":{\"gridcolor\":\"#DFE8F3\",\"linecolor\":\"#A2B1C6\",\"ticks\":\"\"}},\"coloraxis\":{\"colorbar\":{\"outlinewidth\":0,\"ticks\":\"\"}},\"colorscale\":{\"sequential\":[[0.0,\"#0d0887\"],[0.1111111111111111,\"#46039f\"],[0.2222222222222222,\"#7201a8\"],[0.3333333333333333,\"#9c179e\"],[0.4444444444444444,\"#bd3786\"],[0.5555555555555556,\"#d8576b\"],[0.6666666666666666,\"#ed7953\"],[0.7777777777777778,\"#fb9f3a\"],[0.8888888888888888,\"#fdca26\"],[1.0,\"#f0f921\"]],\"sequentialminus\":[[0.0,\"#0d0887\"],[0.1111111111111111,\"#46039f\"],[0.2222222222222222,\"#7201a8\"],[0.3333333333333333,\"#9c179e\"],[0.4444444444444444,\"#bd3786\"],[0.5555555555555556,\"#d8576b\"],[0.6666666666666666,\"#ed7953\"],[0.7777777777777778,\"#fb9f3a\"],[0.8888888888888888,\"#fdca26\"],[1.0,\"#f0f921\"]],\"diverging\":[[0,\"#8e0152\"],[0.1,\"#c51b7d\"],[0.2,\"#de77ae\"],[0.3,\"#f1b6da\"],[0.4,\"#fde0ef\"],[0.5,\"#f7f7f7\"],[0.6,\"#e6f5d0\"],[0.7,\"#b8e186\"],[0.8,\"#7fbc41\"],[0.9,\"#4d9221\"],[1,\"#276419\"]]},\"xaxis\":{\"gridcolor\":\"#EBF0F8\",\"linecolor\":\"#EBF0F8\",\"ticks\":\"\",\"title\":{\"standoff\":15},\"zerolinecolor\":\"#EBF0F8\",\"automargin\":true,\"zerolinewidth\":2},\"yaxis\":{\"gridcolor\":\"#EBF0F8\",\"linecolor\":\"#EBF0F8\",\"ticks\":\"\",\"title\":{\"standoff\":15},\"zerolinecolor\":\"#EBF0F8\",\"automargin\":true,\"zerolinewidth\":2},\"scene\":{\"xaxis\":{\"backgroundcolor\":\"white\",\"gridcolor\":\"#DFE8F3\",\"linecolor\":\"#EBF0F8\",\"showbackground\":true,\"ticks\":\"\",\"zerolinecolor\":\"#EBF0F8\",\"gridwidth\":2},\"yaxis\":{\"backgroundcolor\":\"white\",\"gridcolor\":\"#DFE8F3\",\"linecolor\":\"#EBF0F8\",\"showbackground\":true,\"ticks\":\"\",\"zerolinecolor\":\"#EBF0F8\",\"gridwidth\":2},\"zaxis\":{\"backgroundcolor\":\"white\",\"gridcolor\":\"#DFE8F3\",\"linecolor\":\"#EBF0F8\",\"showbackground\":true,\"ticks\":\"\",\"zerolinecolor\":\"#EBF0F8\",\"gridwidth\":2}},\"shapedefaults\":{\"line\":{\"color\":\"#2a3f5f\"}},\"annotationdefaults\":{\"arrowcolor\":\"#2a3f5f\",\"arrowhead\":0,\"arrowwidth\":1},\"geo\":{\"bgcolor\":\"white\",\"landcolor\":\"white\",\"subunitcolor\":\"#C8D4E3\",\"showland\":true,\"showlakes\":true,\"lakecolor\":\"white\"},\"title\":{\"x\":0.05},\"mapbox\":{\"style\":\"light\"}}},\"title\":{\"text\":\"Correlation Matrix\"},\"xaxis\":{\"title\":{\"text\":\"Features\"}},\"yaxis\":{\"title\":{\"text\":\"Features\"}}},                        {\"responsive\": true}                    ).then(function(){\n",
              "                            \n",
              "var gd = document.getElementById('755d1d05-d7f7-4439-b0a0-6594fe5bb3c6');\n",
              "var x = new MutationObserver(function (mutations, observer) {{\n",
              "        var display = window.getComputedStyle(gd).display;\n",
              "        if (!display || display === 'none') {{\n",
              "            console.log([gd, 'removed!']);\n",
              "            Plotly.purge(gd);\n",
              "            observer.disconnect();\n",
              "        }}\n",
              "}});\n",
              "\n",
              "// Listen for the removal of the full notebook cells\n",
              "var notebookContainer = gd.closest('#notebook-container');\n",
              "if (notebookContainer) {{\n",
              "    x.observe(notebookContainer, {childList: true});\n",
              "}}\n",
              "\n",
              "// Listen for the clearing of the current output cell\n",
              "var outputEl = gd.closest('.output');\n",
              "if (outputEl) {{\n",
              "    x.observe(outputEl, {childList: true});\n",
              "}}\n",
              "\n",
              "                        })                };                            </script>        </div>\n",
              "</body>\n",
              "</html>"
            ]
          },
          "metadata": {}
        }
      ]
    },
    {
      "cell_type": "markdown",
      "source": [
        "- distribution of hashtags to see which hashtag is used the most in all the posts"
      ],
      "metadata": {
        "id": "5LTInOP9nUpM"
      }
    },
    {
      "cell_type": "code",
      "source": [
        "# Create a list to store all hashtags\n",
        "all_hashtags = []\n",
        "\n",
        "# Iterate through each row in the 'Hashtags' column\n",
        "for row in data['Hashtags']:\n",
        "    hashtags = str(row).split()\n",
        "    hashtags = [tag.strip() for tag in hashtags]\n",
        "    all_hashtags.extend(hashtags)\n",
        "\n"
      ],
      "metadata": {
        "id": "os_zd1qBnNnt"
      },
      "execution_count": 19,
      "outputs": []
    },
    {
      "cell_type": "code",
      "source": [
        "# Create a pandas DataFrame to store the hashtag distribution\n",
        "hashtag_distribution = pd.Series(all_hashtags).value_counts().reset_index()\n",
        "hashtag_distribution.columns = ['Hashtag', 'Count']\n",
        "\n"
      ],
      "metadata": {
        "id": "oIoMAvxPoY0p"
      },
      "execution_count": 20,
      "outputs": []
    },
    {
      "cell_type": "code",
      "source": [
        "fig = px.bar(hashtag_distribution, x='Hashtag',\n",
        "             y='Count', title='Distribution of Hashtags')\n",
        "fig.show()"
      ],
      "metadata": {
        "colab": {
          "base_uri": "https://localhost:8080/",
          "height": 542
        },
        "id": "9isDpinboaa6",
        "outputId": "302aeb50-0435-4aa2-ef99-f71f0d7399fc"
      },
      "execution_count": 21,
      "outputs": [
        {
          "output_type": "display_data",
          "data": {
            "text/html": [
              "<html>\n",
              "<head><meta charset=\"utf-8\" /></head>\n",
              "<body>\n",
              "    <div>            <script src=\"https://cdnjs.cloudflare.com/ajax/libs/mathjax/2.7.5/MathJax.js?config=TeX-AMS-MML_SVG\"></script><script type=\"text/javascript\">if (window.MathJax && window.MathJax.Hub && window.MathJax.Hub.Config) {window.MathJax.Hub.Config({SVG: {font: \"STIX-Web\"}});}</script>                <script type=\"text/javascript\">window.PlotlyConfig = {MathJaxConfig: 'local'};</script>\n",
              "        <script src=\"https://cdn.plot.ly/plotly-2.18.2.min.js\"></script>                <div id=\"d83395c5-89a6-4ad4-aad8-7c48baf5dba6\" class=\"plotly-graph-div\" style=\"height:525px; width:100%;\"></div>            <script type=\"text/javascript\">                                    window.PLOTLYENV=window.PLOTLYENV || {};                                    if (document.getElementById(\"d83395c5-89a6-4ad4-aad8-7c48baf5dba6\")) {                    Plotly.newPlot(                        \"d83395c5-89a6-4ad4-aad8-7c48baf5dba6\",                        [{\"alignmentgroup\":\"True\",\"hovertemplate\":\"Hashtag=%{x}<br>Count=%{y}<extra></extra>\",\"legendgroup\":\"\",\"marker\":{\"color\":\"#636efa\",\"pattern\":{\"shape\":\"\"}},\"name\":\"\",\"offsetgroup\":\"\",\"orientation\":\"v\",\"showlegend\":false,\"textposition\":\"auto\",\"x\":[\"#thecleverprogrammer\",\"#amankharwal\",\"#python\",\"#machinelearning\",\"#pythonprogramming\",\"#datascience\",\"#ai\",\"#pythonprojects\",\"#artificialintelligence\",\"#data\",\"#dataanalytics\",\"#datascientist\",\"#pythoncode\",\"#dataanalysis\",\"#deeplearning\",\"#datascienceprojects\",\"#machinelearningprojects\",\"#programming\",\"#technology\",\"#coding\",\"#tech\",\"#computerscience\",\"#bigdata\",\"#pythonlearning\",\"#pythoncoding\",\"#pythondeveloper\",\"#datavisualization\",\"#pythonprogrammer\",\"#analytics\",\"#business\",\"#statistics\",\"#machinelearningalgorithms\",\"#dataanalyst\",\"#webdevelopment\",\"#algorithm\",\"#software\",\"#naturallanguageprocessing\",\"#algorithms\",\"#nlp\",\"#neuralnetwork\",\"#ml\",\"#database\",\"#javascript\",\"#code\",\"#coder\",\"#programmer\",\"#java\",\"#softwaredeveloper\",\"#codinglife\",\"#sentimentanalysis\",\"#sentiment\",\"#webdeveloper\",\"#css\",\"#html\",\"#machinelearningmodels\",\"#developer\",\"#timeseriesanalysis\",\"#iot\",\"#analysis\",\"#timeseriesmalaysia\",\"#businessintelligence\",\"#datasciencejobs\",\"#datasciencetraining\",\"#datascienceeducation\",\"#datasciencecourse\",\"#datamining\",\"#time\",\"#timeseries\",\"#php\",\"#programminglife\",\"#hacking\",\"#programmingmemes\",\"#programmers\",\"#neuralnetworks\",\"#webdesign\",\"#dataviz\",\"#linux\",\"#casestudy\",\"#businessmodel\",\"#zomato\",\"#money\",\"#interview\",\"#finance\",\"#powerbi\",\"#tensorflow\",\"#job\",\"#artificialintelligenceai\",\"#investing\",\"#trading\",\"#stockmarket\",\"#healthcare\",\"#health\",\"#covid\",\"#investment\",\"#cryptocurrency\",\"#bitcoin\",\"#dataanalysisprojects\",\"#businessanalytics\",\"#python3\",\"#roadmap\",\"#codinginterview\",\"#pythonprogramminglanguage\",\"#otp\",\"#innovation\",\"#recommendationsystem\",\"#recommendations\",\"#recommended\",\"#otpverification\",\"#projects\",\"#casestudies\",\"#amazonfinds\",\"#security\",\"#cybersecurity\",\"#network\",\"#internet\",\"#cloud\",\"#recommendation\",\"#careergoals\",\"#jobsearch\",\"#work\",\"#tableau\",\"#stocks\",\"#forex\",\"#candlestick\",\"#candlestickcharts\",\"#career\",\"#jobs\",\"#stressdetection\",\"#education\",\"#success\",\"#motivation\",\"#clustering\",\"#careerdevelopment\",\"#careeradvice\",\"#digitalmarketing\",\"#media\",\"#socialmedia\",\"#IT\",\"#marketing\",\"#students\",\"#resume\",\"#goals\",\"#careers\",\"#stress\",\"#sql\",\"#pythonbooks\",\"#mysql\",\"#softskills\",\"#instagramreach\",\"#instagram\",\"#ukraine\",\"#pythonprogram\",\"#whatsapp\",\"@codergallery\",\"#google\",\"#news\",\"#flipkart\",\"#bookstagram\",\"#alexnet\",\"#bigdataanalytics\",\"#qrcodes\",\"#datascienceinterview\",\"#facebook\",\"#boxplots\"],\"xaxis\":\"x\",\"y\":[117,117,109,97,95,94,91,90,89,88,87,83,78,77,75,43,43,26,25,24,23,21,20,19,19,19,19,19,16,16,14,13,12,10,9,9,9,9,9,8,8,7,7,7,7,7,7,7,7,7,7,7,7,7,7,7,6,6,6,6,6,6,6,6,6,6,6,6,5,5,5,5,5,5,5,5,5,4,4,4,4,4,4,4,4,4,4,4,3,3,3,3,3,3,3,3,3,3,2,2,2,2,2,2,2,2,2,2,2,2,2,2,2,2,2,2,2,2,2,2,2,2,2,2,2,2,2,2,2,2,2,2,2,2,2,2,2,2,2,2,2,2,2,2,1,1,1,1,1,1,1,1,1,1,1,1,1,1,1,1,1,1,1,1],\"yaxis\":\"y\",\"type\":\"bar\"}],                        {\"template\":{\"data\":{\"histogram2dcontour\":[{\"type\":\"histogram2dcontour\",\"colorbar\":{\"outlinewidth\":0,\"ticks\":\"\"},\"colorscale\":[[0.0,\"#0d0887\"],[0.1111111111111111,\"#46039f\"],[0.2222222222222222,\"#7201a8\"],[0.3333333333333333,\"#9c179e\"],[0.4444444444444444,\"#bd3786\"],[0.5555555555555556,\"#d8576b\"],[0.6666666666666666,\"#ed7953\"],[0.7777777777777778,\"#fb9f3a\"],[0.8888888888888888,\"#fdca26\"],[1.0,\"#f0f921\"]]}],\"choropleth\":[{\"type\":\"choropleth\",\"colorbar\":{\"outlinewidth\":0,\"ticks\":\"\"}}],\"histogram2d\":[{\"type\":\"histogram2d\",\"colorbar\":{\"outlinewidth\":0,\"ticks\":\"\"},\"colorscale\":[[0.0,\"#0d0887\"],[0.1111111111111111,\"#46039f\"],[0.2222222222222222,\"#7201a8\"],[0.3333333333333333,\"#9c179e\"],[0.4444444444444444,\"#bd3786\"],[0.5555555555555556,\"#d8576b\"],[0.6666666666666666,\"#ed7953\"],[0.7777777777777778,\"#fb9f3a\"],[0.8888888888888888,\"#fdca26\"],[1.0,\"#f0f921\"]]}],\"heatmap\":[{\"type\":\"heatmap\",\"colorbar\":{\"outlinewidth\":0,\"ticks\":\"\"},\"colorscale\":[[0.0,\"#0d0887\"],[0.1111111111111111,\"#46039f\"],[0.2222222222222222,\"#7201a8\"],[0.3333333333333333,\"#9c179e\"],[0.4444444444444444,\"#bd3786\"],[0.5555555555555556,\"#d8576b\"],[0.6666666666666666,\"#ed7953\"],[0.7777777777777778,\"#fb9f3a\"],[0.8888888888888888,\"#fdca26\"],[1.0,\"#f0f921\"]]}],\"heatmapgl\":[{\"type\":\"heatmapgl\",\"colorbar\":{\"outlinewidth\":0,\"ticks\":\"\"},\"colorscale\":[[0.0,\"#0d0887\"],[0.1111111111111111,\"#46039f\"],[0.2222222222222222,\"#7201a8\"],[0.3333333333333333,\"#9c179e\"],[0.4444444444444444,\"#bd3786\"],[0.5555555555555556,\"#d8576b\"],[0.6666666666666666,\"#ed7953\"],[0.7777777777777778,\"#fb9f3a\"],[0.8888888888888888,\"#fdca26\"],[1.0,\"#f0f921\"]]}],\"contourcarpet\":[{\"type\":\"contourcarpet\",\"colorbar\":{\"outlinewidth\":0,\"ticks\":\"\"}}],\"contour\":[{\"type\":\"contour\",\"colorbar\":{\"outlinewidth\":0,\"ticks\":\"\"},\"colorscale\":[[0.0,\"#0d0887\"],[0.1111111111111111,\"#46039f\"],[0.2222222222222222,\"#7201a8\"],[0.3333333333333333,\"#9c179e\"],[0.4444444444444444,\"#bd3786\"],[0.5555555555555556,\"#d8576b\"],[0.6666666666666666,\"#ed7953\"],[0.7777777777777778,\"#fb9f3a\"],[0.8888888888888888,\"#fdca26\"],[1.0,\"#f0f921\"]]}],\"surface\":[{\"type\":\"surface\",\"colorbar\":{\"outlinewidth\":0,\"ticks\":\"\"},\"colorscale\":[[0.0,\"#0d0887\"],[0.1111111111111111,\"#46039f\"],[0.2222222222222222,\"#7201a8\"],[0.3333333333333333,\"#9c179e\"],[0.4444444444444444,\"#bd3786\"],[0.5555555555555556,\"#d8576b\"],[0.6666666666666666,\"#ed7953\"],[0.7777777777777778,\"#fb9f3a\"],[0.8888888888888888,\"#fdca26\"],[1.0,\"#f0f921\"]]}],\"mesh3d\":[{\"type\":\"mesh3d\",\"colorbar\":{\"outlinewidth\":0,\"ticks\":\"\"}}],\"scatter\":[{\"fillpattern\":{\"fillmode\":\"overlay\",\"size\":10,\"solidity\":0.2},\"type\":\"scatter\"}],\"parcoords\":[{\"type\":\"parcoords\",\"line\":{\"colorbar\":{\"outlinewidth\":0,\"ticks\":\"\"}}}],\"scatterpolargl\":[{\"type\":\"scatterpolargl\",\"marker\":{\"colorbar\":{\"outlinewidth\":0,\"ticks\":\"\"}}}],\"bar\":[{\"error_x\":{\"color\":\"#2a3f5f\"},\"error_y\":{\"color\":\"#2a3f5f\"},\"marker\":{\"line\":{\"color\":\"white\",\"width\":0.5},\"pattern\":{\"fillmode\":\"overlay\",\"size\":10,\"solidity\":0.2}},\"type\":\"bar\"}],\"scattergeo\":[{\"type\":\"scattergeo\",\"marker\":{\"colorbar\":{\"outlinewidth\":0,\"ticks\":\"\"}}}],\"scatterpolar\":[{\"type\":\"scatterpolar\",\"marker\":{\"colorbar\":{\"outlinewidth\":0,\"ticks\":\"\"}}}],\"histogram\":[{\"marker\":{\"pattern\":{\"fillmode\":\"overlay\",\"size\":10,\"solidity\":0.2}},\"type\":\"histogram\"}],\"scattergl\":[{\"type\":\"scattergl\",\"marker\":{\"colorbar\":{\"outlinewidth\":0,\"ticks\":\"\"}}}],\"scatter3d\":[{\"type\":\"scatter3d\",\"line\":{\"colorbar\":{\"outlinewidth\":0,\"ticks\":\"\"}},\"marker\":{\"colorbar\":{\"outlinewidth\":0,\"ticks\":\"\"}}}],\"scattermapbox\":[{\"type\":\"scattermapbox\",\"marker\":{\"colorbar\":{\"outlinewidth\":0,\"ticks\":\"\"}}}],\"scatterternary\":[{\"type\":\"scatterternary\",\"marker\":{\"colorbar\":{\"outlinewidth\":0,\"ticks\":\"\"}}}],\"scattercarpet\":[{\"type\":\"scattercarpet\",\"marker\":{\"colorbar\":{\"outlinewidth\":0,\"ticks\":\"\"}}}],\"carpet\":[{\"aaxis\":{\"endlinecolor\":\"#2a3f5f\",\"gridcolor\":\"#C8D4E3\",\"linecolor\":\"#C8D4E3\",\"minorgridcolor\":\"#C8D4E3\",\"startlinecolor\":\"#2a3f5f\"},\"baxis\":{\"endlinecolor\":\"#2a3f5f\",\"gridcolor\":\"#C8D4E3\",\"linecolor\":\"#C8D4E3\",\"minorgridcolor\":\"#C8D4E3\",\"startlinecolor\":\"#2a3f5f\"},\"type\":\"carpet\"}],\"table\":[{\"cells\":{\"fill\":{\"color\":\"#EBF0F8\"},\"line\":{\"color\":\"white\"}},\"header\":{\"fill\":{\"color\":\"#C8D4E3\"},\"line\":{\"color\":\"white\"}},\"type\":\"table\"}],\"barpolar\":[{\"marker\":{\"line\":{\"color\":\"white\",\"width\":0.5},\"pattern\":{\"fillmode\":\"overlay\",\"size\":10,\"solidity\":0.2}},\"type\":\"barpolar\"}],\"pie\":[{\"automargin\":true,\"type\":\"pie\"}]},\"layout\":{\"autotypenumbers\":\"strict\",\"colorway\":[\"#636efa\",\"#EF553B\",\"#00cc96\",\"#ab63fa\",\"#FFA15A\",\"#19d3f3\",\"#FF6692\",\"#B6E880\",\"#FF97FF\",\"#FECB52\"],\"font\":{\"color\":\"#2a3f5f\"},\"hovermode\":\"closest\",\"hoverlabel\":{\"align\":\"left\"},\"paper_bgcolor\":\"white\",\"plot_bgcolor\":\"white\",\"polar\":{\"bgcolor\":\"white\",\"angularaxis\":{\"gridcolor\":\"#EBF0F8\",\"linecolor\":\"#EBF0F8\",\"ticks\":\"\"},\"radialaxis\":{\"gridcolor\":\"#EBF0F8\",\"linecolor\":\"#EBF0F8\",\"ticks\":\"\"}},\"ternary\":{\"bgcolor\":\"white\",\"aaxis\":{\"gridcolor\":\"#DFE8F3\",\"linecolor\":\"#A2B1C6\",\"ticks\":\"\"},\"baxis\":{\"gridcolor\":\"#DFE8F3\",\"linecolor\":\"#A2B1C6\",\"ticks\":\"\"},\"caxis\":{\"gridcolor\":\"#DFE8F3\",\"linecolor\":\"#A2B1C6\",\"ticks\":\"\"}},\"coloraxis\":{\"colorbar\":{\"outlinewidth\":0,\"ticks\":\"\"}},\"colorscale\":{\"sequential\":[[0.0,\"#0d0887\"],[0.1111111111111111,\"#46039f\"],[0.2222222222222222,\"#7201a8\"],[0.3333333333333333,\"#9c179e\"],[0.4444444444444444,\"#bd3786\"],[0.5555555555555556,\"#d8576b\"],[0.6666666666666666,\"#ed7953\"],[0.7777777777777778,\"#fb9f3a\"],[0.8888888888888888,\"#fdca26\"],[1.0,\"#f0f921\"]],\"sequentialminus\":[[0.0,\"#0d0887\"],[0.1111111111111111,\"#46039f\"],[0.2222222222222222,\"#7201a8\"],[0.3333333333333333,\"#9c179e\"],[0.4444444444444444,\"#bd3786\"],[0.5555555555555556,\"#d8576b\"],[0.6666666666666666,\"#ed7953\"],[0.7777777777777778,\"#fb9f3a\"],[0.8888888888888888,\"#fdca26\"],[1.0,\"#f0f921\"]],\"diverging\":[[0,\"#8e0152\"],[0.1,\"#c51b7d\"],[0.2,\"#de77ae\"],[0.3,\"#f1b6da\"],[0.4,\"#fde0ef\"],[0.5,\"#f7f7f7\"],[0.6,\"#e6f5d0\"],[0.7,\"#b8e186\"],[0.8,\"#7fbc41\"],[0.9,\"#4d9221\"],[1,\"#276419\"]]},\"xaxis\":{\"gridcolor\":\"#EBF0F8\",\"linecolor\":\"#EBF0F8\",\"ticks\":\"\",\"title\":{\"standoff\":15},\"zerolinecolor\":\"#EBF0F8\",\"automargin\":true,\"zerolinewidth\":2},\"yaxis\":{\"gridcolor\":\"#EBF0F8\",\"linecolor\":\"#EBF0F8\",\"ticks\":\"\",\"title\":{\"standoff\":15},\"zerolinecolor\":\"#EBF0F8\",\"automargin\":true,\"zerolinewidth\":2},\"scene\":{\"xaxis\":{\"backgroundcolor\":\"white\",\"gridcolor\":\"#DFE8F3\",\"linecolor\":\"#EBF0F8\",\"showbackground\":true,\"ticks\":\"\",\"zerolinecolor\":\"#EBF0F8\",\"gridwidth\":2},\"yaxis\":{\"backgroundcolor\":\"white\",\"gridcolor\":\"#DFE8F3\",\"linecolor\":\"#EBF0F8\",\"showbackground\":true,\"ticks\":\"\",\"zerolinecolor\":\"#EBF0F8\",\"gridwidth\":2},\"zaxis\":{\"backgroundcolor\":\"white\",\"gridcolor\":\"#DFE8F3\",\"linecolor\":\"#EBF0F8\",\"showbackground\":true,\"ticks\":\"\",\"zerolinecolor\":\"#EBF0F8\",\"gridwidth\":2}},\"shapedefaults\":{\"line\":{\"color\":\"#2a3f5f\"}},\"annotationdefaults\":{\"arrowcolor\":\"#2a3f5f\",\"arrowhead\":0,\"arrowwidth\":1},\"geo\":{\"bgcolor\":\"white\",\"landcolor\":\"white\",\"subunitcolor\":\"#C8D4E3\",\"showland\":true,\"showlakes\":true,\"lakecolor\":\"white\"},\"title\":{\"x\":0.05},\"mapbox\":{\"style\":\"light\"}}},\"xaxis\":{\"anchor\":\"y\",\"domain\":[0.0,1.0],\"title\":{\"text\":\"Hashtag\"}},\"yaxis\":{\"anchor\":\"x\",\"domain\":[0.0,1.0],\"title\":{\"text\":\"Count\"}},\"legend\":{\"tracegroupgap\":0},\"title\":{\"text\":\"Distribution of Hashtags\"},\"barmode\":\"relative\"},                        {\"responsive\": true}                    ).then(function(){\n",
              "                            \n",
              "var gd = document.getElementById('d83395c5-89a6-4ad4-aad8-7c48baf5dba6');\n",
              "var x = new MutationObserver(function (mutations, observer) {{\n",
              "        var display = window.getComputedStyle(gd).display;\n",
              "        if (!display || display === 'none') {{\n",
              "            console.log([gd, 'removed!']);\n",
              "            Plotly.purge(gd);\n",
              "            observer.disconnect();\n",
              "        }}\n",
              "}});\n",
              "\n",
              "// Listen for the removal of the full notebook cells\n",
              "var notebookContainer = gd.closest('#notebook-container');\n",
              "if (notebookContainer) {{\n",
              "    x.observe(notebookContainer, {childList: true});\n",
              "}}\n",
              "\n",
              "// Listen for the clearing of the current output cell\n",
              "var outputEl = gd.closest('.output');\n",
              "if (outputEl) {{\n",
              "    x.observe(outputEl, {childList: true});\n",
              "}}\n",
              "\n",
              "                        })                };                            </script>        </div>\n",
              "</body>\n",
              "</html>"
            ]
          },
          "metadata": {}
        }
      ]
    },
    {
      "cell_type": "markdown",
      "source": [
        "- distribution of likes and impressions received from the presence of each hashtag on the post"
      ],
      "metadata": {
        "id": "hgp3OOS1oyu0"
      }
    },
    {
      "cell_type": "code",
      "source": [
        "# Create a dictionary to store the likes and impressions for each hashtag\n",
        "hashtag_likes = {}\n",
        "hashtag_impressions = {}\n"
      ],
      "metadata": {
        "id": "L9nN6pReocte"
      },
      "execution_count": 22,
      "outputs": []
    },
    {
      "cell_type": "code",
      "source": [
        "# Iterate through each row in the dataset\n",
        "for index, row in data.iterrows():\n",
        "    hashtags = str(row['Hashtags']).split()\n",
        "    for hashtag in hashtags:\n",
        "        hashtag = hashtag.strip()\n",
        "        if hashtag not in hashtag_likes:\n",
        "            hashtag_likes[hashtag] = 0\n",
        "            hashtag_impressions[hashtag] = 0\n",
        "        hashtag_likes[hashtag] += row['Likes']\n",
        "        hashtag_impressions[hashtag] += row['Impressions']"
      ],
      "metadata": {
        "id": "2rkT1KFeo2JW"
      },
      "execution_count": 23,
      "outputs": []
    },
    {
      "cell_type": "code",
      "source": [
        "# Create a DataFrame for likes distribution\n",
        "likes_distribution = pd.DataFrame(list(hashtag_likes.items()), columns=['Hashtag', 'Likes'])"
      ],
      "metadata": {
        "id": "ISZWrlmFpDJb"
      },
      "execution_count": 24,
      "outputs": []
    },
    {
      "cell_type": "code",
      "source": [
        "# Create a DataFrame for impressions distribution\n",
        "impressions_distribution = pd.DataFrame(list(hashtag_impressions.items()), columns=['Hashtag', 'Impressions'])\n"
      ],
      "metadata": {
        "id": "zHXZ5mxzpF3M"
      },
      "execution_count": 25,
      "outputs": []
    },
    {
      "cell_type": "code",
      "source": [
        "fig_likes = px.bar(likes_distribution, x='Hashtag', y='Likes',\n",
        "                   title='Likes Distribution for Each Hashtag')\n",
        "\n",
        "fig_impressions = px.bar(impressions_distribution, x='Hashtag',\n",
        "                         y='Impressions',\n",
        "                         title='Impressions Distribution for Each Hashtag')\n",
        "\n",
        "fig_likes.show()\n",
        "fig_impressions.show()"
      ],
      "metadata": {
        "colab": {
          "base_uri": "https://localhost:8080/",
          "height": 1000
        },
        "id": "wwc8FNQYpr-v",
        "outputId": "99b32648-7cc0-41a3-bd7c-0721d1aa0f07"
      },
      "execution_count": 26,
      "outputs": [
        {
          "output_type": "display_data",
          "data": {
            "text/html": [
              "<html>\n",
              "<head><meta charset=\"utf-8\" /></head>\n",
              "<body>\n",
              "    <div>            <script src=\"https://cdnjs.cloudflare.com/ajax/libs/mathjax/2.7.5/MathJax.js?config=TeX-AMS-MML_SVG\"></script><script type=\"text/javascript\">if (window.MathJax && window.MathJax.Hub && window.MathJax.Hub.Config) {window.MathJax.Hub.Config({SVG: {font: \"STIX-Web\"}});}</script>                <script type=\"text/javascript\">window.PlotlyConfig = {MathJaxConfig: 'local'};</script>\n",
              "        <script src=\"https://cdn.plot.ly/plotly-2.18.2.min.js\"></script>                <div id=\"05ebd3a3-4c80-4b34-a84b-238974e35edc\" class=\"plotly-graph-div\" style=\"height:525px; width:100%;\"></div>            <script type=\"text/javascript\">                                    window.PLOTLYENV=window.PLOTLYENV || {};                                    if (document.getElementById(\"05ebd3a3-4c80-4b34-a84b-238974e35edc\")) {                    Plotly.newPlot(                        \"05ebd3a3-4c80-4b34-a84b-238974e35edc\",                        [{\"alignmentgroup\":\"True\",\"hovertemplate\":\"Hashtag=%{x}<br>Likes=%{y}<extra></extra>\",\"legendgroup\":\"\",\"marker\":{\"color\":\"#636efa\",\"pattern\":{\"shape\":\"\"}},\"name\":\"\",\"offsetgroup\":\"\",\"orientation\":\"v\",\"showlegend\":false,\"textposition\":\"auto\",\"x\":[\"#finance\",\"#money\",\"#business\",\"#investing\",\"#investment\",\"#trading\",\"#stockmarket\",\"#data\",\"#datascience\",\"#dataanalysis\",\"#dataanalytics\",\"#datascientist\",\"#machinelearning\",\"#python\",\"#pythonprogramming\",\"#pythonprojects\",\"#pythoncode\",\"#artificialintelligence\",\"#ai\",\"#dataanalyst\",\"#amankharwal\",\"#thecleverprogrammer\",\"#healthcare\",\"#health\",\"#covid\",\"#deeplearning\",\"#machinelearningprojects\",\"#datascienceprojects\",\"#machinelearningmodels\",\"#pythonlearning\",\"#pythondeveloper\",\"#pythoncoding\",\"#pythonprogrammer\",\"#datavisualization\",\"#bigdata\",\"#dataviz\",\"#analytics\",\"#technology\",\"#programming\",\"#statistics\",\"#coding\",\"#businessintelligence\",\"#datamining\",\"#tech\",\"#computerscience\",\"#tableau\",\"#database\",\"#algorithm\",\"#algorithms\",\"#machinelearningalgorithms\",\"#ml\",\"#softskills\",\"#stocks\",\"#forex\",\"#candlestick\",\"#candlestickcharts\",\"#pythonbooks\",\"#bookstagram\",\"#powerbi\",\"#dataanalysisprojects\",\"#businessanalytics\",\"#neuralnetwork\",\"#neuralnetworks\",\"#tensorflow\",\"#artificialintelligenceai\",\"#alexnet\",\"#sentimentanalysis\",\"#sentiment\",\"#nlp\",\"#naturallanguageprocessing\",\"#timeseries\",\"#time\",\"#timeseriesanalysis\",\"#iot\",\"#analysis\",\"#timeseriesmalaysia\",\"#career\",\"#job\",\"#jobs\",\"#jobsearch\",\"#education\",\"#success\",\"#careergoals\",\"#motivation\",\"#work\",\"#careerdevelopment\",\"#careers\",\"#goals\",\"#resume\",\"#students\",\"#careeradvice\",\"#marketing\",\"#digitalmarketing\",\"#media\",\"#socialmedia\",\"#IT\",\"#webdevelopment\",\"#stress\",\"#stressdetection\",\"#zomato\",\"#casestudy\",\"#businessmodel\",\"#boxplots\",\"#programmer\",\"#developer\",\"#javascript\",\"#code\",\"#coder\",\"#java\",\"#html\",\"#css\",\"#webdeveloper\",\"#software\",\"#codinglife\",\"#softwaredeveloper\",\"#linux\",\"#programmingmemes\",\"#webdesign\",\"#programmers\",\"#php\",\"#programminglife\",\"#hacking\",\"#bitcoin\",\"#cryptocurrency\",\"#projects\",\"#casestudies\",\"#amazonfinds\",\"#security\",\"#cybersecurity\",\"#network\",\"#internet\",\"#cloud\",\"#innovation\",\"#google\",\"#facebook\",\"#interview\",\"#datascienceinterview\",\"#otp\",\"#otpverification\",\"#qrcodes\",\"#bigdataanalytics\",\"#recommended\",\"#recommendations\",\"#recommendationsystem\",\"#recommendation\",\"#codinginterview\",\"#flipkart\",\"#news\",\"#pythonprogram\",\"@codergallery\",\"#whatsapp\",\"#roadmap\",\"#ukraine\",\"#instagram\",\"#instagramreach\",\"#datasciencejobs\",\"#datasciencetraining\",\"#datascienceeducation\",\"#datasciencecourse\",\"#sql\",\"#mysql\",\"#python3\",\"#pythonprogramminglanguage\",\"#clustering\"],\"xaxis\":\"x\",\"y\":[529,529,2012,529,380,380,380,15077,16311,13801,15283,14703,16509,18238,16251,16818,14239,15515,15733,1845,20462,20462,729,729,729,13204,8458,8458,761,3659,3659,3659,3659,2382,2671,567,2001,3187,3355,1766,3129,728,728,2961,2818,265,887,1615,1615,2065,1058,144,218,218,218,218,124,124,529,387,387,1120,600,450,450,81,1057,1057,1238,1238,812,812,812,812,812,812,410,680,410,410,410,410,410,410,410,410,410,410,410,410,410,410,410,410,410,410,1456,302,302,328,328,328,76,878,878,878,878,878,878,878,878,878,1113,878,878,608,608,608,608,608,608,608,390,390,302,302,184,235,235,235,235,235,235,150,85,600,180,272,272,167,142,373,373,373,373,270,94,96,118,118,178,525,203,171,171,1814,1814,1814,1814,308,308,296,296,240],\"yaxis\":\"y\",\"type\":\"bar\"}],                        {\"template\":{\"data\":{\"histogram2dcontour\":[{\"type\":\"histogram2dcontour\",\"colorbar\":{\"outlinewidth\":0,\"ticks\":\"\"},\"colorscale\":[[0.0,\"#0d0887\"],[0.1111111111111111,\"#46039f\"],[0.2222222222222222,\"#7201a8\"],[0.3333333333333333,\"#9c179e\"],[0.4444444444444444,\"#bd3786\"],[0.5555555555555556,\"#d8576b\"],[0.6666666666666666,\"#ed7953\"],[0.7777777777777778,\"#fb9f3a\"],[0.8888888888888888,\"#fdca26\"],[1.0,\"#f0f921\"]]}],\"choropleth\":[{\"type\":\"choropleth\",\"colorbar\":{\"outlinewidth\":0,\"ticks\":\"\"}}],\"histogram2d\":[{\"type\":\"histogram2d\",\"colorbar\":{\"outlinewidth\":0,\"ticks\":\"\"},\"colorscale\":[[0.0,\"#0d0887\"],[0.1111111111111111,\"#46039f\"],[0.2222222222222222,\"#7201a8\"],[0.3333333333333333,\"#9c179e\"],[0.4444444444444444,\"#bd3786\"],[0.5555555555555556,\"#d8576b\"],[0.6666666666666666,\"#ed7953\"],[0.7777777777777778,\"#fb9f3a\"],[0.8888888888888888,\"#fdca26\"],[1.0,\"#f0f921\"]]}],\"heatmap\":[{\"type\":\"heatmap\",\"colorbar\":{\"outlinewidth\":0,\"ticks\":\"\"},\"colorscale\":[[0.0,\"#0d0887\"],[0.1111111111111111,\"#46039f\"],[0.2222222222222222,\"#7201a8\"],[0.3333333333333333,\"#9c179e\"],[0.4444444444444444,\"#bd3786\"],[0.5555555555555556,\"#d8576b\"],[0.6666666666666666,\"#ed7953\"],[0.7777777777777778,\"#fb9f3a\"],[0.8888888888888888,\"#fdca26\"],[1.0,\"#f0f921\"]]}],\"heatmapgl\":[{\"type\":\"heatmapgl\",\"colorbar\":{\"outlinewidth\":0,\"ticks\":\"\"},\"colorscale\":[[0.0,\"#0d0887\"],[0.1111111111111111,\"#46039f\"],[0.2222222222222222,\"#7201a8\"],[0.3333333333333333,\"#9c179e\"],[0.4444444444444444,\"#bd3786\"],[0.5555555555555556,\"#d8576b\"],[0.6666666666666666,\"#ed7953\"],[0.7777777777777778,\"#fb9f3a\"],[0.8888888888888888,\"#fdca26\"],[1.0,\"#f0f921\"]]}],\"contourcarpet\":[{\"type\":\"contourcarpet\",\"colorbar\":{\"outlinewidth\":0,\"ticks\":\"\"}}],\"contour\":[{\"type\":\"contour\",\"colorbar\":{\"outlinewidth\":0,\"ticks\":\"\"},\"colorscale\":[[0.0,\"#0d0887\"],[0.1111111111111111,\"#46039f\"],[0.2222222222222222,\"#7201a8\"],[0.3333333333333333,\"#9c179e\"],[0.4444444444444444,\"#bd3786\"],[0.5555555555555556,\"#d8576b\"],[0.6666666666666666,\"#ed7953\"],[0.7777777777777778,\"#fb9f3a\"],[0.8888888888888888,\"#fdca26\"],[1.0,\"#f0f921\"]]}],\"surface\":[{\"type\":\"surface\",\"colorbar\":{\"outlinewidth\":0,\"ticks\":\"\"},\"colorscale\":[[0.0,\"#0d0887\"],[0.1111111111111111,\"#46039f\"],[0.2222222222222222,\"#7201a8\"],[0.3333333333333333,\"#9c179e\"],[0.4444444444444444,\"#bd3786\"],[0.5555555555555556,\"#d8576b\"],[0.6666666666666666,\"#ed7953\"],[0.7777777777777778,\"#fb9f3a\"],[0.8888888888888888,\"#fdca26\"],[1.0,\"#f0f921\"]]}],\"mesh3d\":[{\"type\":\"mesh3d\",\"colorbar\":{\"outlinewidth\":0,\"ticks\":\"\"}}],\"scatter\":[{\"fillpattern\":{\"fillmode\":\"overlay\",\"size\":10,\"solidity\":0.2},\"type\":\"scatter\"}],\"parcoords\":[{\"type\":\"parcoords\",\"line\":{\"colorbar\":{\"outlinewidth\":0,\"ticks\":\"\"}}}],\"scatterpolargl\":[{\"type\":\"scatterpolargl\",\"marker\":{\"colorbar\":{\"outlinewidth\":0,\"ticks\":\"\"}}}],\"bar\":[{\"error_x\":{\"color\":\"#2a3f5f\"},\"error_y\":{\"color\":\"#2a3f5f\"},\"marker\":{\"line\":{\"color\":\"white\",\"width\":0.5},\"pattern\":{\"fillmode\":\"overlay\",\"size\":10,\"solidity\":0.2}},\"type\":\"bar\"}],\"scattergeo\":[{\"type\":\"scattergeo\",\"marker\":{\"colorbar\":{\"outlinewidth\":0,\"ticks\":\"\"}}}],\"scatterpolar\":[{\"type\":\"scatterpolar\",\"marker\":{\"colorbar\":{\"outlinewidth\":0,\"ticks\":\"\"}}}],\"histogram\":[{\"marker\":{\"pattern\":{\"fillmode\":\"overlay\",\"size\":10,\"solidity\":0.2}},\"type\":\"histogram\"}],\"scattergl\":[{\"type\":\"scattergl\",\"marker\":{\"colorbar\":{\"outlinewidth\":0,\"ticks\":\"\"}}}],\"scatter3d\":[{\"type\":\"scatter3d\",\"line\":{\"colorbar\":{\"outlinewidth\":0,\"ticks\":\"\"}},\"marker\":{\"colorbar\":{\"outlinewidth\":0,\"ticks\":\"\"}}}],\"scattermapbox\":[{\"type\":\"scattermapbox\",\"marker\":{\"colorbar\":{\"outlinewidth\":0,\"ticks\":\"\"}}}],\"scatterternary\":[{\"type\":\"scatterternary\",\"marker\":{\"colorbar\":{\"outlinewidth\":0,\"ticks\":\"\"}}}],\"scattercarpet\":[{\"type\":\"scattercarpet\",\"marker\":{\"colorbar\":{\"outlinewidth\":0,\"ticks\":\"\"}}}],\"carpet\":[{\"aaxis\":{\"endlinecolor\":\"#2a3f5f\",\"gridcolor\":\"#C8D4E3\",\"linecolor\":\"#C8D4E3\",\"minorgridcolor\":\"#C8D4E3\",\"startlinecolor\":\"#2a3f5f\"},\"baxis\":{\"endlinecolor\":\"#2a3f5f\",\"gridcolor\":\"#C8D4E3\",\"linecolor\":\"#C8D4E3\",\"minorgridcolor\":\"#C8D4E3\",\"startlinecolor\":\"#2a3f5f\"},\"type\":\"carpet\"}],\"table\":[{\"cells\":{\"fill\":{\"color\":\"#EBF0F8\"},\"line\":{\"color\":\"white\"}},\"header\":{\"fill\":{\"color\":\"#C8D4E3\"},\"line\":{\"color\":\"white\"}},\"type\":\"table\"}],\"barpolar\":[{\"marker\":{\"line\":{\"color\":\"white\",\"width\":0.5},\"pattern\":{\"fillmode\":\"overlay\",\"size\":10,\"solidity\":0.2}},\"type\":\"barpolar\"}],\"pie\":[{\"automargin\":true,\"type\":\"pie\"}]},\"layout\":{\"autotypenumbers\":\"strict\",\"colorway\":[\"#636efa\",\"#EF553B\",\"#00cc96\",\"#ab63fa\",\"#FFA15A\",\"#19d3f3\",\"#FF6692\",\"#B6E880\",\"#FF97FF\",\"#FECB52\"],\"font\":{\"color\":\"#2a3f5f\"},\"hovermode\":\"closest\",\"hoverlabel\":{\"align\":\"left\"},\"paper_bgcolor\":\"white\",\"plot_bgcolor\":\"white\",\"polar\":{\"bgcolor\":\"white\",\"angularaxis\":{\"gridcolor\":\"#EBF0F8\",\"linecolor\":\"#EBF0F8\",\"ticks\":\"\"},\"radialaxis\":{\"gridcolor\":\"#EBF0F8\",\"linecolor\":\"#EBF0F8\",\"ticks\":\"\"}},\"ternary\":{\"bgcolor\":\"white\",\"aaxis\":{\"gridcolor\":\"#DFE8F3\",\"linecolor\":\"#A2B1C6\",\"ticks\":\"\"},\"baxis\":{\"gridcolor\":\"#DFE8F3\",\"linecolor\":\"#A2B1C6\",\"ticks\":\"\"},\"caxis\":{\"gridcolor\":\"#DFE8F3\",\"linecolor\":\"#A2B1C6\",\"ticks\":\"\"}},\"coloraxis\":{\"colorbar\":{\"outlinewidth\":0,\"ticks\":\"\"}},\"colorscale\":{\"sequential\":[[0.0,\"#0d0887\"],[0.1111111111111111,\"#46039f\"],[0.2222222222222222,\"#7201a8\"],[0.3333333333333333,\"#9c179e\"],[0.4444444444444444,\"#bd3786\"],[0.5555555555555556,\"#d8576b\"],[0.6666666666666666,\"#ed7953\"],[0.7777777777777778,\"#fb9f3a\"],[0.8888888888888888,\"#fdca26\"],[1.0,\"#f0f921\"]],\"sequentialminus\":[[0.0,\"#0d0887\"],[0.1111111111111111,\"#46039f\"],[0.2222222222222222,\"#7201a8\"],[0.3333333333333333,\"#9c179e\"],[0.4444444444444444,\"#bd3786\"],[0.5555555555555556,\"#d8576b\"],[0.6666666666666666,\"#ed7953\"],[0.7777777777777778,\"#fb9f3a\"],[0.8888888888888888,\"#fdca26\"],[1.0,\"#f0f921\"]],\"diverging\":[[0,\"#8e0152\"],[0.1,\"#c51b7d\"],[0.2,\"#de77ae\"],[0.3,\"#f1b6da\"],[0.4,\"#fde0ef\"],[0.5,\"#f7f7f7\"],[0.6,\"#e6f5d0\"],[0.7,\"#b8e186\"],[0.8,\"#7fbc41\"],[0.9,\"#4d9221\"],[1,\"#276419\"]]},\"xaxis\":{\"gridcolor\":\"#EBF0F8\",\"linecolor\":\"#EBF0F8\",\"ticks\":\"\",\"title\":{\"standoff\":15},\"zerolinecolor\":\"#EBF0F8\",\"automargin\":true,\"zerolinewidth\":2},\"yaxis\":{\"gridcolor\":\"#EBF0F8\",\"linecolor\":\"#EBF0F8\",\"ticks\":\"\",\"title\":{\"standoff\":15},\"zerolinecolor\":\"#EBF0F8\",\"automargin\":true,\"zerolinewidth\":2},\"scene\":{\"xaxis\":{\"backgroundcolor\":\"white\",\"gridcolor\":\"#DFE8F3\",\"linecolor\":\"#EBF0F8\",\"showbackground\":true,\"ticks\":\"\",\"zerolinecolor\":\"#EBF0F8\",\"gridwidth\":2},\"yaxis\":{\"backgroundcolor\":\"white\",\"gridcolor\":\"#DFE8F3\",\"linecolor\":\"#EBF0F8\",\"showbackground\":true,\"ticks\":\"\",\"zerolinecolor\":\"#EBF0F8\",\"gridwidth\":2},\"zaxis\":{\"backgroundcolor\":\"white\",\"gridcolor\":\"#DFE8F3\",\"linecolor\":\"#EBF0F8\",\"showbackground\":true,\"ticks\":\"\",\"zerolinecolor\":\"#EBF0F8\",\"gridwidth\":2}},\"shapedefaults\":{\"line\":{\"color\":\"#2a3f5f\"}},\"annotationdefaults\":{\"arrowcolor\":\"#2a3f5f\",\"arrowhead\":0,\"arrowwidth\":1},\"geo\":{\"bgcolor\":\"white\",\"landcolor\":\"white\",\"subunitcolor\":\"#C8D4E3\",\"showland\":true,\"showlakes\":true,\"lakecolor\":\"white\"},\"title\":{\"x\":0.05},\"mapbox\":{\"style\":\"light\"}}},\"xaxis\":{\"anchor\":\"y\",\"domain\":[0.0,1.0],\"title\":{\"text\":\"Hashtag\"}},\"yaxis\":{\"anchor\":\"x\",\"domain\":[0.0,1.0],\"title\":{\"text\":\"Likes\"}},\"legend\":{\"tracegroupgap\":0},\"title\":{\"text\":\"Likes Distribution for Each Hashtag\"},\"barmode\":\"relative\"},                        {\"responsive\": true}                    ).then(function(){\n",
              "                            \n",
              "var gd = document.getElementById('05ebd3a3-4c80-4b34-a84b-238974e35edc');\n",
              "var x = new MutationObserver(function (mutations, observer) {{\n",
              "        var display = window.getComputedStyle(gd).display;\n",
              "        if (!display || display === 'none') {{\n",
              "            console.log([gd, 'removed!']);\n",
              "            Plotly.purge(gd);\n",
              "            observer.disconnect();\n",
              "        }}\n",
              "}});\n",
              "\n",
              "// Listen for the removal of the full notebook cells\n",
              "var notebookContainer = gd.closest('#notebook-container');\n",
              "if (notebookContainer) {{\n",
              "    x.observe(notebookContainer, {childList: true});\n",
              "}}\n",
              "\n",
              "// Listen for the clearing of the current output cell\n",
              "var outputEl = gd.closest('.output');\n",
              "if (outputEl) {{\n",
              "    x.observe(outputEl, {childList: true});\n",
              "}}\n",
              "\n",
              "                        })                };                            </script>        </div>\n",
              "</body>\n",
              "</html>"
            ]
          },
          "metadata": {}
        },
        {
          "output_type": "display_data",
          "data": {
            "text/html": [
              "<html>\n",
              "<head><meta charset=\"utf-8\" /></head>\n",
              "<body>\n",
              "    <div>            <script src=\"https://cdnjs.cloudflare.com/ajax/libs/mathjax/2.7.5/MathJax.js?config=TeX-AMS-MML_SVG\"></script><script type=\"text/javascript\">if (window.MathJax && window.MathJax.Hub && window.MathJax.Hub.Config) {window.MathJax.Hub.Config({SVG: {font: \"STIX-Web\"}});}</script>                <script type=\"text/javascript\">window.PlotlyConfig = {MathJaxConfig: 'local'};</script>\n",
              "        <script src=\"https://cdn.plot.ly/plotly-2.18.2.min.js\"></script>                <div id=\"20a76f27-cf0a-467a-b0c6-1fcee1ba2b64\" class=\"plotly-graph-div\" style=\"height:525px; width:100%;\"></div>            <script type=\"text/javascript\">                                    window.PLOTLYENV=window.PLOTLYENV || {};                                    if (document.getElementById(\"20a76f27-cf0a-467a-b0c6-1fcee1ba2b64\")) {                    Plotly.newPlot(                        \"20a76f27-cf0a-467a-b0c6-1fcee1ba2b64\",                        [{\"alignmentgroup\":\"True\",\"hovertemplate\":\"Hashtag=%{x}<br>Impressions=%{y}<extra></extra>\",\"legendgroup\":\"\",\"marker\":{\"color\":\"#636efa\",\"pattern\":{\"shape\":\"\"}},\"name\":\"\",\"offsetgroup\":\"\",\"orientation\":\"v\",\"showlegend\":false,\"textposition\":\"auto\",\"x\":[\"#finance\",\"#money\",\"#business\",\"#investing\",\"#investment\",\"#trading\",\"#stockmarket\",\"#data\",\"#datascience\",\"#dataanalysis\",\"#dataanalytics\",\"#datascientist\",\"#machinelearning\",\"#python\",\"#pythonprogramming\",\"#pythonprojects\",\"#pythoncode\",\"#artificialintelligence\",\"#ai\",\"#dataanalyst\",\"#amankharwal\",\"#thecleverprogrammer\",\"#healthcare\",\"#health\",\"#covid\",\"#deeplearning\",\"#machinelearningprojects\",\"#datascienceprojects\",\"#machinelearningmodels\",\"#pythonlearning\",\"#pythondeveloper\",\"#pythoncoding\",\"#pythonprogrammer\",\"#datavisualization\",\"#bigdata\",\"#dataviz\",\"#analytics\",\"#technology\",\"#programming\",\"#statistics\",\"#coding\",\"#businessintelligence\",\"#datamining\",\"#tech\",\"#computerscience\",\"#tableau\",\"#database\",\"#algorithm\",\"#algorithms\",\"#machinelearningalgorithms\",\"#ml\",\"#softskills\",\"#stocks\",\"#forex\",\"#candlestick\",\"#candlestickcharts\",\"#pythonbooks\",\"#bookstagram\",\"#powerbi\",\"#dataanalysisprojects\",\"#businessanalytics\",\"#neuralnetwork\",\"#neuralnetworks\",\"#tensorflow\",\"#artificialintelligenceai\",\"#alexnet\",\"#sentimentanalysis\",\"#sentiment\",\"#nlp\",\"#naturallanguageprocessing\",\"#timeseries\",\"#time\",\"#timeseriesanalysis\",\"#iot\",\"#analysis\",\"#timeseriesmalaysia\",\"#career\",\"#job\",\"#jobs\",\"#jobsearch\",\"#education\",\"#success\",\"#careergoals\",\"#motivation\",\"#work\",\"#careerdevelopment\",\"#careers\",\"#goals\",\"#resume\",\"#students\",\"#careeradvice\",\"#marketing\",\"#digitalmarketing\",\"#media\",\"#socialmedia\",\"#IT\",\"#webdevelopment\",\"#stress\",\"#stressdetection\",\"#zomato\",\"#casestudy\",\"#businessmodel\",\"#boxplots\",\"#programmer\",\"#developer\",\"#javascript\",\"#code\",\"#coder\",\"#java\",\"#html\",\"#css\",\"#webdeveloper\",\"#software\",\"#codinglife\",\"#softwaredeveloper\",\"#linux\",\"#programmingmemes\",\"#webdesign\",\"#programmers\",\"#php\",\"#programminglife\",\"#hacking\",\"#bitcoin\",\"#cryptocurrency\",\"#projects\",\"#casestudies\",\"#amazonfinds\",\"#security\",\"#cybersecurity\",\"#network\",\"#internet\",\"#cloud\",\"#innovation\",\"#google\",\"#facebook\",\"#interview\",\"#datascienceinterview\",\"#otp\",\"#otpverification\",\"#qrcodes\",\"#bigdataanalytics\",\"#recommended\",\"#recommendations\",\"#recommendationsystem\",\"#recommendation\",\"#codinginterview\",\"#flipkart\",\"#news\",\"#pythonprogram\",\"@codergallery\",\"#whatsapp\",\"#roadmap\",\"#ukraine\",\"#instagram\",\"#instagramreach\",\"#datasciencejobs\",\"#datasciencetraining\",\"#datascienceeducation\",\"#datasciencecourse\",\"#sql\",\"#mysql\",\"#python3\",\"#pythonprogramminglanguage\",\"#clustering\"],\"xaxis\":\"x\",\"y\":[14224,14224,51387,14224,9757,9757,9757,484761,524640,457923,497787,483746,532627,578243,525346,567608,470276,506190,512027,47051,672166,672166,18292,18292,18292,445317,297427,297427,27201,135901,135901,135901,135901,64864,70884,15438,53464,85523,90132,47283,83264,17971,17971,78655,75019,6506,22088,57289,57289,71529,30316,3884,5837,5837,5837,5837,3541,3541,13389,9401,9401,31660,18529,14240,14240,2218,34102,34102,42567,42567,22444,22444,22444,22444,22444,22444,8004,14856,8004,8004,8004,8004,8004,8004,8004,8004,8004,8004,8004,8004,8004,8004,8004,8004,8004,8004,35456,12336,12336,10844,10844,10844,2064,22843,22843,22843,22843,22843,22843,22843,22843,22843,29024,22843,22843,15991,15991,15991,15991,15991,15991,15991,14121,14121,7848,7848,6030,6181,6181,6181,6181,6181,6181,3854,2327,16139,4998,8030,8030,3786,3988,10036,10036,10036,10036,6852,3601,3525,2957,2957,5538,10682,8001,7231,7231,86691,86691,86691,86691,17713,17713,15991,15991,9870],\"yaxis\":\"y\",\"type\":\"bar\"}],                        {\"template\":{\"data\":{\"histogram2dcontour\":[{\"type\":\"histogram2dcontour\",\"colorbar\":{\"outlinewidth\":0,\"ticks\":\"\"},\"colorscale\":[[0.0,\"#0d0887\"],[0.1111111111111111,\"#46039f\"],[0.2222222222222222,\"#7201a8\"],[0.3333333333333333,\"#9c179e\"],[0.4444444444444444,\"#bd3786\"],[0.5555555555555556,\"#d8576b\"],[0.6666666666666666,\"#ed7953\"],[0.7777777777777778,\"#fb9f3a\"],[0.8888888888888888,\"#fdca26\"],[1.0,\"#f0f921\"]]}],\"choropleth\":[{\"type\":\"choropleth\",\"colorbar\":{\"outlinewidth\":0,\"ticks\":\"\"}}],\"histogram2d\":[{\"type\":\"histogram2d\",\"colorbar\":{\"outlinewidth\":0,\"ticks\":\"\"},\"colorscale\":[[0.0,\"#0d0887\"],[0.1111111111111111,\"#46039f\"],[0.2222222222222222,\"#7201a8\"],[0.3333333333333333,\"#9c179e\"],[0.4444444444444444,\"#bd3786\"],[0.5555555555555556,\"#d8576b\"],[0.6666666666666666,\"#ed7953\"],[0.7777777777777778,\"#fb9f3a\"],[0.8888888888888888,\"#fdca26\"],[1.0,\"#f0f921\"]]}],\"heatmap\":[{\"type\":\"heatmap\",\"colorbar\":{\"outlinewidth\":0,\"ticks\":\"\"},\"colorscale\":[[0.0,\"#0d0887\"],[0.1111111111111111,\"#46039f\"],[0.2222222222222222,\"#7201a8\"],[0.3333333333333333,\"#9c179e\"],[0.4444444444444444,\"#bd3786\"],[0.5555555555555556,\"#d8576b\"],[0.6666666666666666,\"#ed7953\"],[0.7777777777777778,\"#fb9f3a\"],[0.8888888888888888,\"#fdca26\"],[1.0,\"#f0f921\"]]}],\"heatmapgl\":[{\"type\":\"heatmapgl\",\"colorbar\":{\"outlinewidth\":0,\"ticks\":\"\"},\"colorscale\":[[0.0,\"#0d0887\"],[0.1111111111111111,\"#46039f\"],[0.2222222222222222,\"#7201a8\"],[0.3333333333333333,\"#9c179e\"],[0.4444444444444444,\"#bd3786\"],[0.5555555555555556,\"#d8576b\"],[0.6666666666666666,\"#ed7953\"],[0.7777777777777778,\"#fb9f3a\"],[0.8888888888888888,\"#fdca26\"],[1.0,\"#f0f921\"]]}],\"contourcarpet\":[{\"type\":\"contourcarpet\",\"colorbar\":{\"outlinewidth\":0,\"ticks\":\"\"}}],\"contour\":[{\"type\":\"contour\",\"colorbar\":{\"outlinewidth\":0,\"ticks\":\"\"},\"colorscale\":[[0.0,\"#0d0887\"],[0.1111111111111111,\"#46039f\"],[0.2222222222222222,\"#7201a8\"],[0.3333333333333333,\"#9c179e\"],[0.4444444444444444,\"#bd3786\"],[0.5555555555555556,\"#d8576b\"],[0.6666666666666666,\"#ed7953\"],[0.7777777777777778,\"#fb9f3a\"],[0.8888888888888888,\"#fdca26\"],[1.0,\"#f0f921\"]]}],\"surface\":[{\"type\":\"surface\",\"colorbar\":{\"outlinewidth\":0,\"ticks\":\"\"},\"colorscale\":[[0.0,\"#0d0887\"],[0.1111111111111111,\"#46039f\"],[0.2222222222222222,\"#7201a8\"],[0.3333333333333333,\"#9c179e\"],[0.4444444444444444,\"#bd3786\"],[0.5555555555555556,\"#d8576b\"],[0.6666666666666666,\"#ed7953\"],[0.7777777777777778,\"#fb9f3a\"],[0.8888888888888888,\"#fdca26\"],[1.0,\"#f0f921\"]]}],\"mesh3d\":[{\"type\":\"mesh3d\",\"colorbar\":{\"outlinewidth\":0,\"ticks\":\"\"}}],\"scatter\":[{\"fillpattern\":{\"fillmode\":\"overlay\",\"size\":10,\"solidity\":0.2},\"type\":\"scatter\"}],\"parcoords\":[{\"type\":\"parcoords\",\"line\":{\"colorbar\":{\"outlinewidth\":0,\"ticks\":\"\"}}}],\"scatterpolargl\":[{\"type\":\"scatterpolargl\",\"marker\":{\"colorbar\":{\"outlinewidth\":0,\"ticks\":\"\"}}}],\"bar\":[{\"error_x\":{\"color\":\"#2a3f5f\"},\"error_y\":{\"color\":\"#2a3f5f\"},\"marker\":{\"line\":{\"color\":\"white\",\"width\":0.5},\"pattern\":{\"fillmode\":\"overlay\",\"size\":10,\"solidity\":0.2}},\"type\":\"bar\"}],\"scattergeo\":[{\"type\":\"scattergeo\",\"marker\":{\"colorbar\":{\"outlinewidth\":0,\"ticks\":\"\"}}}],\"scatterpolar\":[{\"type\":\"scatterpolar\",\"marker\":{\"colorbar\":{\"outlinewidth\":0,\"ticks\":\"\"}}}],\"histogram\":[{\"marker\":{\"pattern\":{\"fillmode\":\"overlay\",\"size\":10,\"solidity\":0.2}},\"type\":\"histogram\"}],\"scattergl\":[{\"type\":\"scattergl\",\"marker\":{\"colorbar\":{\"outlinewidth\":0,\"ticks\":\"\"}}}],\"scatter3d\":[{\"type\":\"scatter3d\",\"line\":{\"colorbar\":{\"outlinewidth\":0,\"ticks\":\"\"}},\"marker\":{\"colorbar\":{\"outlinewidth\":0,\"ticks\":\"\"}}}],\"scattermapbox\":[{\"type\":\"scattermapbox\",\"marker\":{\"colorbar\":{\"outlinewidth\":0,\"ticks\":\"\"}}}],\"scatterternary\":[{\"type\":\"scatterternary\",\"marker\":{\"colorbar\":{\"outlinewidth\":0,\"ticks\":\"\"}}}],\"scattercarpet\":[{\"type\":\"scattercarpet\",\"marker\":{\"colorbar\":{\"outlinewidth\":0,\"ticks\":\"\"}}}],\"carpet\":[{\"aaxis\":{\"endlinecolor\":\"#2a3f5f\",\"gridcolor\":\"#C8D4E3\",\"linecolor\":\"#C8D4E3\",\"minorgridcolor\":\"#C8D4E3\",\"startlinecolor\":\"#2a3f5f\"},\"baxis\":{\"endlinecolor\":\"#2a3f5f\",\"gridcolor\":\"#C8D4E3\",\"linecolor\":\"#C8D4E3\",\"minorgridcolor\":\"#C8D4E3\",\"startlinecolor\":\"#2a3f5f\"},\"type\":\"carpet\"}],\"table\":[{\"cells\":{\"fill\":{\"color\":\"#EBF0F8\"},\"line\":{\"color\":\"white\"}},\"header\":{\"fill\":{\"color\":\"#C8D4E3\"},\"line\":{\"color\":\"white\"}},\"type\":\"table\"}],\"barpolar\":[{\"marker\":{\"line\":{\"color\":\"white\",\"width\":0.5},\"pattern\":{\"fillmode\":\"overlay\",\"size\":10,\"solidity\":0.2}},\"type\":\"barpolar\"}],\"pie\":[{\"automargin\":true,\"type\":\"pie\"}]},\"layout\":{\"autotypenumbers\":\"strict\",\"colorway\":[\"#636efa\",\"#EF553B\",\"#00cc96\",\"#ab63fa\",\"#FFA15A\",\"#19d3f3\",\"#FF6692\",\"#B6E880\",\"#FF97FF\",\"#FECB52\"],\"font\":{\"color\":\"#2a3f5f\"},\"hovermode\":\"closest\",\"hoverlabel\":{\"align\":\"left\"},\"paper_bgcolor\":\"white\",\"plot_bgcolor\":\"white\",\"polar\":{\"bgcolor\":\"white\",\"angularaxis\":{\"gridcolor\":\"#EBF0F8\",\"linecolor\":\"#EBF0F8\",\"ticks\":\"\"},\"radialaxis\":{\"gridcolor\":\"#EBF0F8\",\"linecolor\":\"#EBF0F8\",\"ticks\":\"\"}},\"ternary\":{\"bgcolor\":\"white\",\"aaxis\":{\"gridcolor\":\"#DFE8F3\",\"linecolor\":\"#A2B1C6\",\"ticks\":\"\"},\"baxis\":{\"gridcolor\":\"#DFE8F3\",\"linecolor\":\"#A2B1C6\",\"ticks\":\"\"},\"caxis\":{\"gridcolor\":\"#DFE8F3\",\"linecolor\":\"#A2B1C6\",\"ticks\":\"\"}},\"coloraxis\":{\"colorbar\":{\"outlinewidth\":0,\"ticks\":\"\"}},\"colorscale\":{\"sequential\":[[0.0,\"#0d0887\"],[0.1111111111111111,\"#46039f\"],[0.2222222222222222,\"#7201a8\"],[0.3333333333333333,\"#9c179e\"],[0.4444444444444444,\"#bd3786\"],[0.5555555555555556,\"#d8576b\"],[0.6666666666666666,\"#ed7953\"],[0.7777777777777778,\"#fb9f3a\"],[0.8888888888888888,\"#fdca26\"],[1.0,\"#f0f921\"]],\"sequentialminus\":[[0.0,\"#0d0887\"],[0.1111111111111111,\"#46039f\"],[0.2222222222222222,\"#7201a8\"],[0.3333333333333333,\"#9c179e\"],[0.4444444444444444,\"#bd3786\"],[0.5555555555555556,\"#d8576b\"],[0.6666666666666666,\"#ed7953\"],[0.7777777777777778,\"#fb9f3a\"],[0.8888888888888888,\"#fdca26\"],[1.0,\"#f0f921\"]],\"diverging\":[[0,\"#8e0152\"],[0.1,\"#c51b7d\"],[0.2,\"#de77ae\"],[0.3,\"#f1b6da\"],[0.4,\"#fde0ef\"],[0.5,\"#f7f7f7\"],[0.6,\"#e6f5d0\"],[0.7,\"#b8e186\"],[0.8,\"#7fbc41\"],[0.9,\"#4d9221\"],[1,\"#276419\"]]},\"xaxis\":{\"gridcolor\":\"#EBF0F8\",\"linecolor\":\"#EBF0F8\",\"ticks\":\"\",\"title\":{\"standoff\":15},\"zerolinecolor\":\"#EBF0F8\",\"automargin\":true,\"zerolinewidth\":2},\"yaxis\":{\"gridcolor\":\"#EBF0F8\",\"linecolor\":\"#EBF0F8\",\"ticks\":\"\",\"title\":{\"standoff\":15},\"zerolinecolor\":\"#EBF0F8\",\"automargin\":true,\"zerolinewidth\":2},\"scene\":{\"xaxis\":{\"backgroundcolor\":\"white\",\"gridcolor\":\"#DFE8F3\",\"linecolor\":\"#EBF0F8\",\"showbackground\":true,\"ticks\":\"\",\"zerolinecolor\":\"#EBF0F8\",\"gridwidth\":2},\"yaxis\":{\"backgroundcolor\":\"white\",\"gridcolor\":\"#DFE8F3\",\"linecolor\":\"#EBF0F8\",\"showbackground\":true,\"ticks\":\"\",\"zerolinecolor\":\"#EBF0F8\",\"gridwidth\":2},\"zaxis\":{\"backgroundcolor\":\"white\",\"gridcolor\":\"#DFE8F3\",\"linecolor\":\"#EBF0F8\",\"showbackground\":true,\"ticks\":\"\",\"zerolinecolor\":\"#EBF0F8\",\"gridwidth\":2}},\"shapedefaults\":{\"line\":{\"color\":\"#2a3f5f\"}},\"annotationdefaults\":{\"arrowcolor\":\"#2a3f5f\",\"arrowhead\":0,\"arrowwidth\":1},\"geo\":{\"bgcolor\":\"white\",\"landcolor\":\"white\",\"subunitcolor\":\"#C8D4E3\",\"showland\":true,\"showlakes\":true,\"lakecolor\":\"white\"},\"title\":{\"x\":0.05},\"mapbox\":{\"style\":\"light\"}}},\"xaxis\":{\"anchor\":\"y\",\"domain\":[0.0,1.0],\"title\":{\"text\":\"Hashtag\"}},\"yaxis\":{\"anchor\":\"x\",\"domain\":[0.0,1.0],\"title\":{\"text\":\"Impressions\"}},\"legend\":{\"tracegroupgap\":0},\"title\":{\"text\":\"Impressions Distribution for Each Hashtag\"},\"barmode\":\"relative\"},                        {\"responsive\": true}                    ).then(function(){\n",
              "                            \n",
              "var gd = document.getElementById('20a76f27-cf0a-467a-b0c6-1fcee1ba2b64');\n",
              "var x = new MutationObserver(function (mutations, observer) {{\n",
              "        var display = window.getComputedStyle(gd).display;\n",
              "        if (!display || display === 'none') {{\n",
              "            console.log([gd, 'removed!']);\n",
              "            Plotly.purge(gd);\n",
              "            observer.disconnect();\n",
              "        }}\n",
              "}});\n",
              "\n",
              "// Listen for the removal of the full notebook cells\n",
              "var notebookContainer = gd.closest('#notebook-container');\n",
              "if (notebookContainer) {{\n",
              "    x.observe(notebookContainer, {childList: true});\n",
              "}}\n",
              "\n",
              "// Listen for the clearing of the current output cell\n",
              "var outputEl = gd.closest('.output');\n",
              "if (outputEl) {{\n",
              "    x.observe(outputEl, {childList: true});\n",
              "}}\n",
              "\n",
              "                        })                };                            </script>        </div>\n",
              "</body>\n",
              "</html>"
            ]
          },
          "metadata": {}
        }
      ]
    },
    {
      "cell_type": "code",
      "source": [],
      "metadata": {
        "id": "XC_q5PuMpy61"
      },
      "execution_count": null,
      "outputs": []
    }
  ]
}